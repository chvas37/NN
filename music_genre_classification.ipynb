{
  "metadata": {
    "kernelspec": {
      "display_name": "Python 3",
      "name": "python3"
    },
    "language_info": {
      "name": "python",
      "version": "3.7.10",
      "mimetype": "text/x-python",
      "codemirror_mode": {
        "name": "ipython",
        "version": 3
      },
      "pygments_lexer": "ipython3",
      "nbconvert_exporter": "python",
      "file_extension": ".py"
    },
    "colab": {
      "provenance": [],
      "gpuType": "T4"
    },
    "accelerator": "GPU"
  },
  "nbformat_minor": 0,
  "nbformat": 4,
  "cells": [
    {
      "cell_type": "code",
      "source": [
        "from google.colab import drive\n",
        "drive.mount('/content/drive')"
      ],
      "metadata": {
        "colab": {
          "base_uri": "https://localhost:8080/"
        },
        "id": "0WRMhHPqe6GV",
        "outputId": "d1ea6f34-c6da-4aa1-ac2b-5d278827f157"
      },
      "execution_count": null,
      "outputs": [
        {
          "output_type": "stream",
          "name": "stdout",
          "text": [
            "Mounted at /content/drive\n"
          ]
        }
      ]
    },
    {
      "cell_type": "code",
      "source": [
        "!unzip -q \"/content/drive/MyDrive/Data.zip\" -d \"/content/Data\""
      ],
      "metadata": {
        "id": "cgYKMZ0qfdu8"
      },
      "execution_count": null,
      "outputs": []
    },
    {
      "cell_type": "code",
      "source": [
        "import os\n",
        "import librosa\n",
        "import math\n",
        "import json\n",
        "import matplotlib.pyplot as plt\n",
        "import numpy as np"
      ],
      "metadata": {
        "_uuid": "f32a1031-9332-42b6-8335-dee2b86310a3",
        "_cell_guid": "01a50213-fe5d-431b-9ade-28c438b3bceb",
        "jupyter": {
          "outputs_hidden": false
        },
        "trusted": true,
        "id": "fCURDRlSexh0"
      },
      "execution_count": null,
      "outputs": []
    },
    {
      "cell_type": "code",
      "source": [
        "dataset_path = r\"/content/Data/genres_original\"\n",
        "json_path = r\"data.json\"\n",
        "SAMPLE_RATE = 22050\n",
        "DURATION = 30\n",
        "SAMPLES_PER_TRACK = SAMPLE_RATE * DURATION"
      ],
      "metadata": {
        "_uuid": "d401d5fb-ea22-4562-bc1b-e882f59016ce",
        "_cell_guid": "e1ba8988-65f9-4697-a731-e71b25dd171b",
        "jupyter": {
          "outputs_hidden": false
        },
        "trusted": true,
        "id": "Egwup98texh3"
      },
      "execution_count": null,
      "outputs": []
    },
    {
      "cell_type": "code",
      "source": [
        "def save_mfcc(dataset_path, json_path, n_mfcc=13, n_fft=2048,\n",
        "             hop_length=512, num_segments=5):\n",
        "    data = {\n",
        "        \"mapping\": [],\n",
        "        \"mfcc\": [],\n",
        "        \"labels\": [],\n",
        "    }\n",
        "    samples_ps = int(SAMPLES_PER_TRACK/num_segments)\n",
        "    expected_vects_ps = math.ceil(samples_ps/hop_length)\n",
        "\n",
        "    for i, (dirpath, dirnames, filenames) in enumerate(os.walk(dataset_path)):\n",
        "        if dirpath is not dataset_path:\n",
        "            dirpath_comp = dirpath.split(\"/\")\n",
        "            semantic_label = dirpath_comp[-1]\n",
        "            data[\"mapping\"].append(semantic_label)\n",
        "            print(f\"Processing: {semantic_label}\")\n",
        "\n",
        "            for f in filenames:\n",
        "                if(f==str(\"jazz.00054.wav\")):\n",
        "                    continue\n",
        "                else:\n",
        "                    file_path = os.path.join(dirpath, f)\n",
        "                    signal,sr = librosa.load(file_path,sr=SAMPLE_RATE)\n",
        "                    for s in range(num_segments):\n",
        "                        start_sample = samples_ps * s\n",
        "                        finish_sample = start_sample + samples_ps\n",
        "\n",
        "                        mfcc = librosa.feature.mfcc(\n",
        "                                          y=signal[start_sample:finish_sample],\n",
        "                                          sr=sr,\n",
        "                                          n_fft=n_fft,\n",
        "                                          n_mfcc=n_mfcc,\n",
        "                                          hop_length=hop_length\n",
        "                                      )\n",
        "\n",
        "\n",
        "                        mfcc = mfcc.T\n",
        "                        if len(mfcc)==expected_vects_ps:\n",
        "                            data[\"mfcc\"].append(mfcc.tolist())\n",
        "                            data[\"labels\"].append(i-1)\n",
        "                            print(f\"{file_path}, segment: {s+1}\")\n",
        "\n",
        "    with open(json_path,\"w\") as f:\n",
        "        json.dump(data,f,indent=4)"
      ],
      "metadata": {
        "_uuid": "c44ee71f-62e4-4100-8e2b-d2a84b01cf8e",
        "_cell_guid": "f0f0a6db-b7e9-468f-890f-36312fe994e7",
        "jupyter": {
          "outputs_hidden": false
        },
        "trusted": true,
        "id": "kBi-aroUexh4"
      },
      "execution_count": null,
      "outputs": []
    },
    {
      "cell_type": "code",
      "source": [
        "from IPython.display import clear_output"
      ],
      "metadata": {
        "trusted": true,
        "id": "8DtTr5oWexh6"
      },
      "execution_count": null,
      "outputs": []
    },
    {
      "cell_type": "code",
      "source": [
        "save_mfcc(dataset_path,json_path,num_segments=10)\n",
        "clear_output()"
      ],
      "metadata": {
        "trusted": true,
        "id": "Aw88ei3Pexh8"
      },
      "execution_count": null,
      "outputs": []
    },
    {
      "cell_type": "code",
      "source": [
        "filepath = r\"/content/Data/genres_original/blues/blues.0000\""
      ],
      "metadata": {
        "trusted": true,
        "id": "cre039Kwexh9"
      },
      "execution_count": null,
      "outputs": []
    },
    {
      "cell_type": "code",
      "source": [
        "for i in range(2):\n",
        "    audio, sfreq = librosa.load(filepath+str(i)+\".wav\")\n",
        "    time = np.arange(0, len(audio))/sfreq\n",
        "    plt.plot(time,audio)\n",
        "    plt.xlabel(\"Time\")\n",
        "    plt.ylabel(\"Sound Amplitude\")\n",
        "    plt.show()"
      ],
      "metadata": {
        "trusted": true,
        "colab": {
          "base_uri": "https://localhost:8080/",
          "height": 881
        },
        "id": "rX7WWJKRexh_",
        "outputId": "5b4e99f2-6ca1-446d-a16b-dd277b13ae8b"
      },
      "execution_count": null,
      "outputs": [
        {
          "output_type": "display_data",
          "data": {
            "text/plain": [
              "<Figure size 640x480 with 1 Axes>"
            ],
            "image/png": "[encoded data removed]"
          },
          "metadata": {}
        },
        {
          "output_type": "display_data",
          "data": {
            "text/plain": [
              "<Figure size 640x480 with 1 Axes>"
            ],
            "image/png": "[encoded data removed]"
          },
          "metadata": {}
        }
      ]
    },
    {
      "cell_type": "code",
      "source": [
        "import json\n",
        "import numpy as np"
      ],
      "metadata": {
        "trusted": true,
        "id": "ob-sYSTVexiE"
      },
      "execution_count": null,
      "outputs": []
    },
    {
      "cell_type": "code",
      "source": [
        "def load_data(dataset_path):\n",
        "    with open(dataset_path,\"r\") as f:\n",
        "        data = json.load(f)\n",
        "\n",
        "    inputs = np.array(data[\"mfcc\"])\n",
        "    targets = np.array(data[\"labels\"])\n",
        "\n",
        "    return inputs,targets"
      ],
      "metadata": {
        "trusted": true,
        "id": "AQSURwADexiF"
      },
      "execution_count": null,
      "outputs": []
    },
    {
      "cell_type": "code",
      "source": [
        "inputs,targets = load_data(r\"./data.json\")"
      ],
      "metadata": {
        "trusted": true,
        "id": "Q1M7CJkpexiG"
      },
      "execution_count": null,
      "outputs": []
    },
    {
      "cell_type": "code",
      "source": [
        "from sklearn.model_selection import train_test_split\n",
        "\n",
        "input_train, input_test, target_train, target_test = train_test_split(inputs, targets, test_size=0.3)\n",
        "print(input_train.shape, target_train.shape)"
      ],
      "metadata": {
        "trusted": true,
        "colab": {
          "base_uri": "https://localhost:8080/"
        },
        "id": "9XyX-dDTexiG",
        "outputId": "42be59b1-d284-4679-f0ef-442fb5683362"
      },
      "execution_count": null,
      "outputs": [
        {
          "output_type": "stream",
          "name": "stdout",
          "text": [
            "(6990, 130, 13) (6990,)\n"
          ]
        }
      ]
    },
    {
      "cell_type": "markdown",
      "source": [
        "# NN"
      ],
      "metadata": {
        "id": "AP9h3NvbexiC"
      }
    },
    {
      "cell_type": "code",
      "source": [
        "from tensorflow import keras\n",
        "from keras import Sequential\n",
        "from keras.layers import *"
      ],
      "metadata": {
        "trusted": true,
        "id": "GmqFTxVuexiH"
      },
      "execution_count": null,
      "outputs": []
    },
    {
      "cell_type": "code",
      "source": [
        "model = Sequential()\n",
        "\n",
        "model.add(Flatten(input_shape=(inputs.shape[1],inputs.shape[2])))\n",
        "model.add(Dense(512, activation='relu'))\n",
        "model.add(Dense(256, activation='relu'))\n",
        "model.add(Dense(64, activation='relu'))\n",
        "model.add(Dense(10, activation='softmax'))\n",
        "model.summary()"
      ],
      "metadata": {
        "trusted": true,
        "colab": {
          "base_uri": "https://localhost:8080/",
          "height": 344
        },
        "id": "Gv48wCDJexiI",
        "outputId": "f4512185-bafb-468a-edd4-2f49be35c8de"
      },
      "execution_count": null,
      "outputs": [
        {
          "output_type": "stream",
          "name": "stderr",
          "text": [
            "/usr/local/lib/python3.11/dist-packages/keras/src/layers/reshaping/flatten.py:37: UserWarning: Do not pass an `input_shape`/`input_dim` argument to a layer. When using Sequential models, prefer using an `Input(shape)` object as the first layer in the model instead.\n",
            "  super().__init__(**kwargs)\n"
          ]
        },
        {
          "output_type": "display_data",
          "data": {
            "text/plain": [
              "\u001b[1mModel: \"sequential\"\u001b[0m\n"
            ],
            "text/html": [
              "<pre style=\"white-space:pre;overflow-x:auto;line-height:normal;font-family:Menlo,'DejaVu Sans Mono',consolas,'Courier New',monospace\"><span style=\"font-weight: bold\">Model: \"sequential\"</span>\n",
              "</pre>\n"
            ]
          },
          "metadata": {}
        },
        {
          "output_type": "display_data",
          "data": {
            "text/plain": [
              "┏━━━━━━━━━━━━━━━━━━━━━━━━━━━━━━━━━┳━━━━━━━━━━━━━━━━━━━━━━━━┳━━━━━━━━━━━━━━━┓\n",
              "┃\u001b[1m \u001b[0m\u001b[1mLayer (type)                   \u001b[0m\u001b[1m \u001b[0m┃\u001b[1m \u001b[0m\u001b[1mOutput Shape          \u001b[0m\u001b[1m \u001b[0m┃\u001b[1m \u001b[0m\u001b[1m      Param #\u001b[0m\u001b[1m \u001b[0m┃\n",
              "┡━━━━━━━━━━━━━━━━━━━━━━━━━━━━━━━━━╇━━━━━━━━━━━━━━━━━━━━━━━━╇━━━━━━━━━━━━━━━┩\n",
              "│ flatten (\u001b[38;5;33mFlatten\u001b[0m)               │ (\u001b[38;5;45mNone\u001b[0m, \u001b[38;5;34m1690\u001b[0m)           │             \u001b[38;5;34m0\u001b[0m │\n",
              "├─────────────────────────────────┼────────────────────────┼───────────────┤\n",
              "│ dense (\u001b[38;5;33mDense\u001b[0m)                   │ (\u001b[38;5;45mNone\u001b[0m, \u001b[38;5;34m512\u001b[0m)            │       \u001b[38;5;34m865,792\u001b[0m │\n",
              "├─────────────────────────────────┼────────────────────────┼───────────────┤\n",
              "│ dense_1 (\u001b[38;5;33mDense\u001b[0m)                 │ (\u001b[38;5;45mNone\u001b[0m, \u001b[38;5;34m256\u001b[0m)            │       \u001b[38;5;34m131,328\u001b[0m │\n",
              "├─────────────────────────────────┼────────────────────────┼───────────────┤\n",
              "│ dense_2 (\u001b[38;5;33mDense\u001b[0m)                 │ (\u001b[38;5;45mNone\u001b[0m, \u001b[38;5;34m64\u001b[0m)             │        \u001b[38;5;34m16,448\u001b[0m │\n",
              "├─────────────────────────────────┼────────────────────────┼───────────────┤\n",
              "│ dense_3 (\u001b[38;5;33mDense\u001b[0m)                 │ (\u001b[38;5;45mNone\u001b[0m, \u001b[38;5;34m10\u001b[0m)             │           \u001b[38;5;34m650\u001b[0m │\n",
              "└─────────────────────────────────┴────────────────────────┴───────────────┘\n"
            ],
            "text/html": [
              "<pre style=\"white-space:pre;overflow-x:auto;line-height:normal;font-family:Menlo,'DejaVu Sans Mono',consolas,'Courier New',monospace\">┏━━━━━━━━━━━━━━━━━━━━━━━━━━━━━━━━━┳━━━━━━━━━━━━━━━━━━━━━━━━┳━━━━━━━━━━━━━━━┓\n",
              "┃<span style=\"font-weight: bold\"> Layer (type)                    </span>┃<span style=\"font-weight: bold\"> Output Shape           </span>┃<span style=\"font-weight: bold\">       Param # </span>┃\n",
              "┡━━━━━━━━━━━━━━━━━━━━━━━━━━━━━━━━━╇━━━━━━━━━━━━━━━━━━━━━━━━╇━━━━━━━━━━━━━━━┩\n",
              "│ flatten (<span style=\"color: #0087ff; text-decoration-color: #0087ff\">Flatten</span>)               │ (<span style=\"color: #00d7ff; text-decoration-color: #00d7ff\">None</span>, <span style=\"color: #00af00; text-decoration-color: #00af00\">1690</span>)           │             <span style=\"color: #00af00; text-decoration-color: #00af00\">0</span> │\n",
              "├─────────────────────────────────┼────────────────────────┼───────────────┤\n",
              "│ dense (<span style=\"color: #0087ff; text-decoration-color: #0087ff\">Dense</span>)                   │ (<span style=\"color: #00d7ff; text-decoration-color: #00d7ff\">None</span>, <span style=\"color: #00af00; text-decoration-color: #00af00\">512</span>)            │       <span style=\"color: #00af00; text-decoration-color: #00af00\">865,792</span> │\n",
              "├─────────────────────────────────┼────────────────────────┼───────────────┤\n",
              "│ dense_1 (<span style=\"color: #0087ff; text-decoration-color: #0087ff\">Dense</span>)                 │ (<span style=\"color: #00d7ff; text-decoration-color: #00d7ff\">None</span>, <span style=\"color: #00af00; text-decoration-color: #00af00\">256</span>)            │       <span style=\"color: #00af00; text-decoration-color: #00af00\">131,328</span> │\n",
              "├─────────────────────────────────┼────────────────────────┼───────────────┤\n",
              "│ dense_2 (<span style=\"color: #0087ff; text-decoration-color: #0087ff\">Dense</span>)                 │ (<span style=\"color: #00d7ff; text-decoration-color: #00d7ff\">None</span>, <span style=\"color: #00af00; text-decoration-color: #00af00\">64</span>)             │        <span style=\"color: #00af00; text-decoration-color: #00af00\">16,448</span> │\n",
              "├─────────────────────────────────┼────────────────────────┼───────────────┤\n",
              "│ dense_3 (<span style=\"color: #0087ff; text-decoration-color: #0087ff\">Dense</span>)                 │ (<span style=\"color: #00d7ff; text-decoration-color: #00d7ff\">None</span>, <span style=\"color: #00af00; text-decoration-color: #00af00\">10</span>)             │           <span style=\"color: #00af00; text-decoration-color: #00af00\">650</span> │\n",
              "└─────────────────────────────────┴────────────────────────┴───────────────┘\n",
              "</pre>\n"
            ]
          },
          "metadata": {}
        },
        {
          "output_type": "display_data",
          "data": {
            "text/plain": [
              "\u001b[1m Total params: \u001b[0m\u001b[38;5;34m1,014,218\u001b[0m (3.87 MB)\n"
            ],
            "text/html": [
              "<pre style=\"white-space:pre;overflow-x:auto;line-height:normal;font-family:Menlo,'DejaVu Sans Mono',consolas,'Courier New',monospace\"><span style=\"font-weight: bold\"> Total params: </span><span style=\"color: #00af00; text-decoration-color: #00af00\">1,014,218</span> (3.87 MB)\n",
              "</pre>\n"
            ]
          },
          "metadata": {}
        },
        {
          "output_type": "display_data",
          "data": {
            "text/plain": [
              "\u001b[1m Trainable params: \u001b[0m\u001b[38;5;34m1,014,218\u001b[0m (3.87 MB)\n"
            ],
            "text/html": [
              "<pre style=\"white-space:pre;overflow-x:auto;line-height:normal;font-family:Menlo,'DejaVu Sans Mono',consolas,'Courier New',monospace\"><span style=\"font-weight: bold\"> Trainable params: </span><span style=\"color: #00af00; text-decoration-color: #00af00\">1,014,218</span> (3.87 MB)\n",
              "</pre>\n"
            ]
          },
          "metadata": {}
        },
        {
          "output_type": "display_data",
          "data": {
            "text/plain": [
              "\u001b[1m Non-trainable params: \u001b[0m\u001b[38;5;34m0\u001b[0m (0.00 B)\n"
            ],
            "text/html": [
              "<pre style=\"white-space:pre;overflow-x:auto;line-height:normal;font-family:Menlo,'DejaVu Sans Mono',consolas,'Courier New',monospace\"><span style=\"font-weight: bold\"> Non-trainable params: </span><span style=\"color: #00af00; text-decoration-color: #00af00\">0</span> (0.00 B)\n",
              "</pre>\n"
            ]
          },
          "metadata": {}
        }
      ]
    },
    {
      "cell_type": "code",
      "source": [
        "from tensorflow.keras import optimizers\n",
        "adam = optimizers.Adam(learning_rate=1e-4)"
      ],
      "metadata": {
        "trusted": true,
        "id": "cbLWk3IUexiJ"
      },
      "execution_count": null,
      "outputs": []
    },
    {
      "cell_type": "code",
      "source": [
        "model.compile(optimizer=adam,\n",
        "             loss=\"sparse_categorical_crossentropy\",\n",
        "             metrics=[\"accuracy\"])\n",
        "\n",
        "hist = model.fit(input_train, target_train,\n",
        "                 validation_data = (input_test,target_test),\n",
        "                 epochs = 50,\n",
        "                 batch_size = 32)\n",
        "clear_output()"
      ],
      "metadata": {
        "trusted": true,
        "id": "LwWKL8lWexiK"
      },
      "execution_count": null,
      "outputs": []
    },
    {
      "cell_type": "code",
      "source": [
        "def plot_history(hist):\n",
        "    plt.figure(figsize=(20,15))\n",
        "    fig, axs = plt.subplots(2)\n",
        "\n",
        "    axs[0].plot(hist.history[\"accuracy\"], label=\"train accuracy\")\n",
        "    axs[0].plot(hist.history[\"val_accuracy\"], label=\"test accuracy\")\n",
        "    axs[0].set_ylabel(\"Accuracy\")\n",
        "    axs[0].legend(loc=\"lower right\")\n",
        "    axs[0].set_title(\"Accuracy eval\")\n",
        "\n",
        "    axs[1].plot(hist.history[\"loss\"], label=\"train error\")\n",
        "    axs[1].plot(hist.history[\"val_loss\"], label=\"test error\")\n",
        "    axs[1].set_ylabel(\"Error\")\n",
        "    axs[1].set_xlabel(\"Epoch\")\n",
        "    axs[1].legend(loc=\"upper right\")\n",
        "    axs[1].set_title(\"Error eval\")\n",
        "\n",
        "    plt.show()"
      ],
      "metadata": {
        "trusted": true,
        "id": "OvtVA_KzexiK"
      },
      "execution_count": null,
      "outputs": []
    },
    {
      "cell_type": "code",
      "source": [
        "plot_history(hist)"
      ],
      "metadata": {
        "trusted": true,
        "colab": {
          "base_uri": "https://localhost:8080/",
          "height": 489
        },
        "id": "7PBS6tfNexiL",
        "outputId": "1f6cc42a-319d-4d28-bced-dcfb5b3d4404"
      },
      "execution_count": null,
      "outputs": [
        {
          "output_type": "display_data",
          "data": {
            "text/plain": [
              "<Figure size 2000x1500 with 0 Axes>"
            ]
          },
          "metadata": {}
        },
        {
          "output_type": "display_data",
          "data": {
            "text/plain": [
              "<Figure size 640x480 with 2 Axes>"
            ],
            "image/png": "[encoded data removed]"
          },
          "metadata": {}
        }
      ]
    },
    {
      "cell_type": "code",
      "source": [
        "test_error, test_accuracy = model.evaluate(input_test, target_test, verbose=1)\n",
        "print(f\"Test accuracy: {test_accuracy}\")"
      ],
      "metadata": {
        "trusted": true,
        "colab": {
          "base_uri": "https://localhost:8080/"
        },
        "id": "CJjQYKGWexiM",
        "outputId": "103cb817-2ca5-47e9-d132-422732d2082c"
      },
      "execution_count": null,
      "outputs": [
        {
          "output_type": "stream",
          "name": "stdout",
          "text": [
            "\u001b[1m94/94\u001b[0m \u001b[32m━━━━━━━━━━━━━━━━━━━━\u001b[0m\u001b[37m\u001b[0m \u001b[1m0s\u001b[0m 2ms/step - accuracy: 0.5577 - loss: 2.4955\n",
            "Test accuracy: 0.5527369976043701\n"
          ]
        }
      ]
    },
    {
      "cell_type": "markdown",
      "source": [
        "# Overfitting\n",
        "\n",
        "Making architecture less complicated\n",
        "\n",
        "Using augmented data\n",
        "\n",
        "Early stopping of training\n",
        "\n",
        "Adding dropout layers\n",
        "\n",
        "Regularization / Standardization"
      ],
      "metadata": {
        "id": "exJGzz6jk1yh"
      }
    },
    {
      "cell_type": "code",
      "source": [
        "from tensorflow.keras.models import Sequential\n",
        "from tensorflow.keras.layers import Flatten, Dense, Dropout\n",
        "from tensorflow.keras.regularizers import l2\n",
        "from tensorflow.keras.callbacks import EarlyStopping"
      ],
      "metadata": {
        "trusted": true,
        "id": "QrWs8OWfexiN"
      },
      "execution_count": null,
      "outputs": []
    },
    {
      "cell_type": "code",
      "source": [
        "model = Sequential()\n",
        "\n",
        "model.add(Flatten(input_shape=(inputs.shape[1],inputs.shape[2])))\n",
        "model.add(Dense(512, activation='relu', kernel_regularizer = keras.regularizers.l2(0.001)))\n",
        "model.add(Dropout(0.3))\n",
        "model.add(Dense(256, activation='relu', kernel_regularizer = keras.regularizers.l2(0.003)))\n",
        "model.add(Dropout(0.3))\n",
        "model.add(Dense(64, activation='relu', kernel_regularizer = keras.regularizers.l2(0.01)))\n",
        "model.add(Dropout(0.3))\n",
        "model.add(Dense(32, activation='relu'))\n",
        "model.add(Dense(10, activation='softmax'))\n",
        "model.summary()"
      ],
      "metadata": {
        "trusted": true,
        "colab": {
          "base_uri": "https://localhost:8080/",
          "height": 417
        },
        "id": "oAdcylqeexiO",
        "outputId": "722a0ea7-6a2b-491f-81dc-9a5f5c9fbe3d"
      },
      "execution_count": null,
      "outputs": [
        {
          "output_type": "display_data",
          "data": {
            "text/plain": [
              "\u001b[1mModel: \"sequential_1\"\u001b[0m\n"
            ],
            "text/html": [
              "<pre style=\"white-space:pre;overflow-x:auto;line-height:normal;font-family:Menlo,'DejaVu Sans Mono',consolas,'Courier New',monospace\"><span style=\"font-weight: bold\">Model: \"sequential_1\"</span>\n",
              "</pre>\n"
            ]
          },
          "metadata": {}
        },
        {
          "output_type": "display_data",
          "data": {
            "text/plain": [
              "┏━━━━━━━━━━━━━━━━━━━━━━━━━━━━━━━━━┳━━━━━━━━━━━━━━━━━━━━━━━━┳━━━━━━━━━━━━━━━┓\n",
              "┃\u001b[1m \u001b[0m\u001b[1mLayer (type)                   \u001b[0m\u001b[1m \u001b[0m┃\u001b[1m \u001b[0m\u001b[1mOutput Shape          \u001b[0m\u001b[1m \u001b[0m┃\u001b[1m \u001b[0m\u001b[1m      Param #\u001b[0m\u001b[1m \u001b[0m┃\n",
              "┡━━━━━━━━━━━━━━━━━━━━━━━━━━━━━━━━━╇━━━━━━━━━━━━━━━━━━━━━━━━╇━━━━━━━━━━━━━━━┩\n",
              "│ flatten_1 (\u001b[38;5;33mFlatten\u001b[0m)             │ (\u001b[38;5;45mNone\u001b[0m, \u001b[38;5;34m1690\u001b[0m)           │             \u001b[38;5;34m0\u001b[0m │\n",
              "├─────────────────────────────────┼────────────────────────┼───────────────┤\n",
              "│ dense_4 (\u001b[38;5;33mDense\u001b[0m)                 │ (\u001b[38;5;45mNone\u001b[0m, \u001b[38;5;34m512\u001b[0m)            │       \u001b[38;5;34m865,792\u001b[0m │\n",
              "├─────────────────────────────────┼────────────────────────┼───────────────┤\n",
              "│ dropout (\u001b[38;5;33mDropout\u001b[0m)               │ (\u001b[38;5;45mNone\u001b[0m, \u001b[38;5;34m512\u001b[0m)            │             \u001b[38;5;34m0\u001b[0m │\n",
              "├─────────────────────────────────┼────────────────────────┼───────────────┤\n",
              "│ dense_5 (\u001b[38;5;33mDense\u001b[0m)                 │ (\u001b[38;5;45mNone\u001b[0m, \u001b[38;5;34m256\u001b[0m)            │       \u001b[38;5;34m131,328\u001b[0m │\n",
              "├─────────────────────────────────┼────────────────────────┼───────────────┤\n",
              "│ dropout_1 (\u001b[38;5;33mDropout\u001b[0m)             │ (\u001b[38;5;45mNone\u001b[0m, \u001b[38;5;34m256\u001b[0m)            │             \u001b[38;5;34m0\u001b[0m │\n",
              "├─────────────────────────────────┼────────────────────────┼───────────────┤\n",
              "│ dense_6 (\u001b[38;5;33mDense\u001b[0m)                 │ (\u001b[38;5;45mNone\u001b[0m, \u001b[38;5;34m64\u001b[0m)             │        \u001b[38;5;34m16,448\u001b[0m │\n",
              "├─────────────────────────────────┼────────────────────────┼───────────────┤\n",
              "│ dropout_2 (\u001b[38;5;33mDropout\u001b[0m)             │ (\u001b[38;5;45mNone\u001b[0m, \u001b[38;5;34m64\u001b[0m)             │             \u001b[38;5;34m0\u001b[0m │\n",
              "├─────────────────────────────────┼────────────────────────┼───────────────┤\n",
              "│ dense_7 (\u001b[38;5;33mDense\u001b[0m)                 │ (\u001b[38;5;45mNone\u001b[0m, \u001b[38;5;34m32\u001b[0m)             │         \u001b[38;5;34m2,080\u001b[0m │\n",
              "├─────────────────────────────────┼────────────────────────┼───────────────┤\n",
              "│ dense_8 (\u001b[38;5;33mDense\u001b[0m)                 │ (\u001b[38;5;45mNone\u001b[0m, \u001b[38;5;34m10\u001b[0m)             │           \u001b[38;5;34m330\u001b[0m │\n",
              "└─────────────────────────────────┴────────────────────────┴───────────────┘\n"
            ],
            "text/html": [
              "<pre style=\"white-space:pre;overflow-x:auto;line-height:normal;font-family:Menlo,'DejaVu Sans Mono',consolas,'Courier New',monospace\">┏━━━━━━━━━━━━━━━━━━━━━━━━━━━━━━━━━┳━━━━━━━━━━━━━━━━━━━━━━━━┳━━━━━━━━━━━━━━━┓\n",
              "┃<span style=\"font-weight: bold\"> Layer (type)                    </span>┃<span style=\"font-weight: bold\"> Output Shape           </span>┃<span style=\"font-weight: bold\">       Param # </span>┃\n",
              "┡━━━━━━━━━━━━━━━━━━━━━━━━━━━━━━━━━╇━━━━━━━━━━━━━━━━━━━━━━━━╇━━━━━━━━━━━━━━━┩\n",
              "│ flatten_1 (<span style=\"color: #0087ff; text-decoration-color: #0087ff\">Flatten</span>)             │ (<span style=\"color: #00d7ff; text-decoration-color: #00d7ff\">None</span>, <span style=\"color: #00af00; text-decoration-color: #00af00\">1690</span>)           │             <span style=\"color: #00af00; text-decoration-color: #00af00\">0</span> │\n",
              "├─────────────────────────────────┼────────────────────────┼───────────────┤\n",
              "│ dense_4 (<span style=\"color: #0087ff; text-decoration-color: #0087ff\">Dense</span>)                 │ (<span style=\"color: #00d7ff; text-decoration-color: #00d7ff\">None</span>, <span style=\"color: #00af00; text-decoration-color: #00af00\">512</span>)            │       <span style=\"color: #00af00; text-decoration-color: #00af00\">865,792</span> │\n",
              "├─────────────────────────────────┼────────────────────────┼───────────────┤\n",
              "│ dropout (<span style=\"color: #0087ff; text-decoration-color: #0087ff\">Dropout</span>)               │ (<span style=\"color: #00d7ff; text-decoration-color: #00d7ff\">None</span>, <span style=\"color: #00af00; text-decoration-color: #00af00\">512</span>)            │             <span style=\"color: #00af00; text-decoration-color: #00af00\">0</span> │\n",
              "├─────────────────────────────────┼────────────────────────┼───────────────┤\n",
              "│ dense_5 (<span style=\"color: #0087ff; text-decoration-color: #0087ff\">Dense</span>)                 │ (<span style=\"color: #00d7ff; text-decoration-color: #00d7ff\">None</span>, <span style=\"color: #00af00; text-decoration-color: #00af00\">256</span>)            │       <span style=\"color: #00af00; text-decoration-color: #00af00\">131,328</span> │\n",
              "├─────────────────────────────────┼────────────────────────┼───────────────┤\n",
              "│ dropout_1 (<span style=\"color: #0087ff; text-decoration-color: #0087ff\">Dropout</span>)             │ (<span style=\"color: #00d7ff; text-decoration-color: #00d7ff\">None</span>, <span style=\"color: #00af00; text-decoration-color: #00af00\">256</span>)            │             <span style=\"color: #00af00; text-decoration-color: #00af00\">0</span> │\n",
              "├─────────────────────────────────┼────────────────────────┼───────────────┤\n",
              "│ dense_6 (<span style=\"color: #0087ff; text-decoration-color: #0087ff\">Dense</span>)                 │ (<span style=\"color: #00d7ff; text-decoration-color: #00d7ff\">None</span>, <span style=\"color: #00af00; text-decoration-color: #00af00\">64</span>)             │        <span style=\"color: #00af00; text-decoration-color: #00af00\">16,448</span> │\n",
              "├─────────────────────────────────┼────────────────────────┼───────────────┤\n",
              "│ dropout_2 (<span style=\"color: #0087ff; text-decoration-color: #0087ff\">Dropout</span>)             │ (<span style=\"color: #00d7ff; text-decoration-color: #00d7ff\">None</span>, <span style=\"color: #00af00; text-decoration-color: #00af00\">64</span>)             │             <span style=\"color: #00af00; text-decoration-color: #00af00\">0</span> │\n",
              "├─────────────────────────────────┼────────────────────────┼───────────────┤\n",
              "│ dense_7 (<span style=\"color: #0087ff; text-decoration-color: #0087ff\">Dense</span>)                 │ (<span style=\"color: #00d7ff; text-decoration-color: #00d7ff\">None</span>, <span style=\"color: #00af00; text-decoration-color: #00af00\">32</span>)             │         <span style=\"color: #00af00; text-decoration-color: #00af00\">2,080</span> │\n",
              "├─────────────────────────────────┼────────────────────────┼───────────────┤\n",
              "│ dense_8 (<span style=\"color: #0087ff; text-decoration-color: #0087ff\">Dense</span>)                 │ (<span style=\"color: #00d7ff; text-decoration-color: #00d7ff\">None</span>, <span style=\"color: #00af00; text-decoration-color: #00af00\">10</span>)             │           <span style=\"color: #00af00; text-decoration-color: #00af00\">330</span> │\n",
              "└─────────────────────────────────┴────────────────────────┴───────────────┘\n",
              "</pre>\n"
            ]
          },
          "metadata": {}
        },
        {
          "output_type": "display_data",
          "data": {
            "text/plain": [
              "\u001b[1m Total params: \u001b[0m\u001b[38;5;34m1,015,978\u001b[0m (3.88 MB)\n"
            ],
            "text/html": [
              "<pre style=\"white-space:pre;overflow-x:auto;line-height:normal;font-family:Menlo,'DejaVu Sans Mono',consolas,'Courier New',monospace\"><span style=\"font-weight: bold\"> Total params: </span><span style=\"color: #00af00; text-decoration-color: #00af00\">1,015,978</span> (3.88 MB)\n",
              "</pre>\n"
            ]
          },
          "metadata": {}
        },
        {
          "output_type": "display_data",
          "data": {
            "text/plain": [
              "\u001b[1m Trainable params: \u001b[0m\u001b[38;5;34m1,015,978\u001b[0m (3.88 MB)\n"
            ],
            "text/html": [
              "<pre style=\"white-space:pre;overflow-x:auto;line-height:normal;font-family:Menlo,'DejaVu Sans Mono',consolas,'Courier New',monospace\"><span style=\"font-weight: bold\"> Trainable params: </span><span style=\"color: #00af00; text-decoration-color: #00af00\">1,015,978</span> (3.88 MB)\n",
              "</pre>\n"
            ]
          },
          "metadata": {}
        },
        {
          "output_type": "display_data",
          "data": {
            "text/plain": [
              "\u001b[1m Non-trainable params: \u001b[0m\u001b[38;5;34m0\u001b[0m (0.00 B)\n"
            ],
            "text/html": [
              "<pre style=\"white-space:pre;overflow-x:auto;line-height:normal;font-family:Menlo,'DejaVu Sans Mono',consolas,'Courier New',monospace\"><span style=\"font-weight: bold\"> Non-trainable params: </span><span style=\"color: #00af00; text-decoration-color: #00af00\">0</span> (0.00 B)\n",
              "</pre>\n"
            ]
          },
          "metadata": {}
        }
      ]
    },
    {
      "cell_type": "code",
      "source": [
        "model.compile(optimizer='adam',\n",
        "              loss='sparse_categorical_crossentropy',\n",
        "              metrics=['accuracy'])\n",
        "\n",
        "early_stopping = EarlyStopping(monitor='val_loss', patience=5, restore_best_weights=True)\n",
        "\n",
        "hist = model.fit(input_train, target_train,\n",
        "          validation_data=(input_test, target_test),\n",
        "          epochs=50,\n",
        "          batch_size=32,\n",
        "          callbacks=[early_stopping])"
      ],
      "metadata": {
        "trusted": true,
        "colab": {
          "base_uri": "https://localhost:8080/"
        },
        "id": "F6XCcxiNexiO",
        "outputId": "355db482-dc40-4d51-a6b1-c7776c7b0d8f"
      },
      "execution_count": null,
      "outputs": [
        {
          "output_type": "stream",
          "name": "stdout",
          "text": [
            "Epoch 1/50\n",
            "\u001b[1m219/219\u001b[0m \u001b[32m━━━━━━━━━━━━━━━━━━━━\u001b[0m\u001b[37m\u001b[0m \u001b[1m10s\u001b[0m 26ms/step - accuracy: 0.1286 - loss: 20.2876 - val_accuracy: 0.1121 - val_loss: 4.7267\n",
            "Epoch 2/50\n",
            "\u001b[1m219/219\u001b[0m \u001b[32m━━━━━━━━━━━━━━━━━━━━\u001b[0m\u001b[37m\u001b[0m \u001b[1m3s\u001b[0m 5ms/step - accuracy: 0.1253 - loss: 4.7241 - val_accuracy: 0.1602 - val_loss: 4.4288\n",
            "Epoch 3/50\n",
            "\u001b[1m219/219\u001b[0m \u001b[32m━━━━━━━━━━━━━━━━━━━━\u001b[0m\u001b[37m\u001b[0m \u001b[1m1s\u001b[0m 4ms/step - accuracy: 0.1598 - loss: 4.4019 - val_accuracy: 0.1739 - val_loss: 4.1946\n",
            "Epoch 4/50\n",
            "\u001b[1m219/219\u001b[0m \u001b[32m━━━━━━━━━━━━━━━━━━━━\u001b[0m\u001b[37m\u001b[0m \u001b[1m1s\u001b[0m 4ms/step - accuracy: 0.1733 - loss: 4.1685 - val_accuracy: 0.2800 - val_loss: 3.8113\n",
            "Epoch 5/50\n",
            "\u001b[1m219/219\u001b[0m \u001b[32m━━━━━━━━━━━━━━━━━━━━\u001b[0m\u001b[37m\u001b[0m \u001b[1m1s\u001b[0m 4ms/step - accuracy: 0.2367 - loss: 3.8760 - val_accuracy: 0.3248 - val_loss: 3.5847\n",
            "Epoch 6/50\n",
            "\u001b[1m219/219\u001b[0m \u001b[32m━━━━━━━━━━━━━━━━━━━━\u001b[0m\u001b[37m\u001b[0m \u001b[1m1s\u001b[0m 4ms/step - accuracy: 0.2535 - loss: 3.6746 - val_accuracy: 0.3194 - val_loss: 3.4129\n",
            "Epoch 7/50\n",
            "\u001b[1m219/219\u001b[0m \u001b[32m━━━━━━━━━━━━━━━━━━━━\u001b[0m\u001b[37m\u001b[0m \u001b[1m1s\u001b[0m 4ms/step - accuracy: 0.2476 - loss: 3.4948 - val_accuracy: 0.3087 - val_loss: 3.1852\n",
            "Epoch 8/50\n",
            "\u001b[1m219/219\u001b[0m \u001b[32m━━━━━━━━━━━━━━━━━━━━\u001b[0m\u001b[37m\u001b[0m \u001b[1m1s\u001b[0m 5ms/step - accuracy: 0.2715 - loss: 3.2668 - val_accuracy: 0.3418 - val_loss: 2.9741\n",
            "Epoch 9/50\n",
            "\u001b[1m219/219\u001b[0m \u001b[32m━━━━━━━━━━━━━━━━━━━━\u001b[0m\u001b[37m\u001b[0m \u001b[1m1s\u001b[0m 5ms/step - accuracy: 0.2803 - loss: 3.0852 - val_accuracy: 0.3902 - val_loss: 2.8127\n",
            "Epoch 10/50\n",
            "\u001b[1m219/219\u001b[0m \u001b[32m━━━━━━━━━━━━━━━━━━━━\u001b[0m\u001b[37m\u001b[0m \u001b[1m2s\u001b[0m 7ms/step - accuracy: 0.2883 - loss: 2.9209 - val_accuracy: 0.3745 - val_loss: 2.7178\n",
            "Epoch 11/50\n",
            "\u001b[1m219/219\u001b[0m \u001b[32m━━━━━━━━━━━━━━━━━━━━\u001b[0m\u001b[37m\u001b[0m \u001b[1m1s\u001b[0m 4ms/step - accuracy: 0.3035 - loss: 2.8063 - val_accuracy: 0.3722 - val_loss: 2.6419\n",
            "Epoch 12/50\n",
            "\u001b[1m219/219\u001b[0m \u001b[32m━━━━━━━━━━━━━━━━━━━━\u001b[0m\u001b[37m\u001b[0m \u001b[1m1s\u001b[0m 4ms/step - accuracy: 0.2992 - loss: 2.7335 - val_accuracy: 0.4166 - val_loss: 2.4637\n",
            "Epoch 13/50\n",
            "\u001b[1m219/219\u001b[0m \u001b[32m━━━━━━━━━━━━━━━━━━━━\u001b[0m\u001b[37m\u001b[0m \u001b[1m1s\u001b[0m 4ms/step - accuracy: 0.3370 - loss: 2.5668 - val_accuracy: 0.3955 - val_loss: 2.3828\n",
            "Epoch 14/50\n",
            "\u001b[1m219/219\u001b[0m \u001b[32m━━━━━━━━━━━━━━━━━━━━\u001b[0m\u001b[37m\u001b[0m \u001b[1m1s\u001b[0m 4ms/step - accuracy: 0.3354 - loss: 2.4389 - val_accuracy: 0.3942 - val_loss: 2.2933\n",
            "Epoch 15/50\n",
            "\u001b[1m219/219\u001b[0m \u001b[32m━━━━━━━━━━━━━━━━━━━━\u001b[0m\u001b[37m\u001b[0m \u001b[1m1s\u001b[0m 4ms/step - accuracy: 0.3319 - loss: 2.3883 - val_accuracy: 0.3855 - val_loss: 2.2336\n",
            "Epoch 16/50\n",
            "\u001b[1m219/219\u001b[0m \u001b[32m━━━━━━━━━━━━━━━━━━━━\u001b[0m\u001b[37m\u001b[0m \u001b[1m1s\u001b[0m 4ms/step - accuracy: 0.3337 - loss: 2.3152 - val_accuracy: 0.3405 - val_loss: 2.2338\n",
            "Epoch 17/50\n",
            "\u001b[1m219/219\u001b[0m \u001b[32m━━━━━━━━━━━━━━━━━━━━\u001b[0m\u001b[37m\u001b[0m \u001b[1m1s\u001b[0m 4ms/step - accuracy: 0.3333 - loss: 2.2420 - val_accuracy: 0.3645 - val_loss: 2.1991\n",
            "Epoch 18/50\n",
            "\u001b[1m219/219\u001b[0m \u001b[32m━━━━━━━━━━━━━━━━━━━━\u001b[0m\u001b[37m\u001b[0m \u001b[1m1s\u001b[0m 4ms/step - accuracy: 0.3499 - loss: 2.1853 - val_accuracy: 0.3899 - val_loss: 2.0676\n",
            "Epoch 19/50\n",
            "\u001b[1m219/219\u001b[0m \u001b[32m━━━━━━━━━━━━━━━━━━━━\u001b[0m\u001b[37m\u001b[0m \u001b[1m1s\u001b[0m 4ms/step - accuracy: 0.3481 - loss: 2.1483 - val_accuracy: 0.4045 - val_loss: 1.9971\n",
            "Epoch 20/50\n",
            "\u001b[1m219/219\u001b[0m \u001b[32m━━━━━━━━━━━━━━━━━━━━\u001b[0m\u001b[37m\u001b[0m \u001b[1m1s\u001b[0m 5ms/step - accuracy: 0.3543 - loss: 2.0762 - val_accuracy: 0.3665 - val_loss: 1.9979\n",
            "Epoch 21/50\n",
            "\u001b[1m219/219\u001b[0m \u001b[32m━━━━━━━━━━━━━━━━━━━━\u001b[0m\u001b[37m\u001b[0m \u001b[1m1s\u001b[0m 6ms/step - accuracy: 0.3663 - loss: 1.9995 - val_accuracy: 0.4062 - val_loss: 1.9478\n",
            "Epoch 22/50\n",
            "\u001b[1m219/219\u001b[0m \u001b[32m━━━━━━━━━━━━━━━━━━━━\u001b[0m\u001b[37m\u001b[0m \u001b[1m1s\u001b[0m 6ms/step - accuracy: 0.3631 - loss: 1.9887 - val_accuracy: 0.4092 - val_loss: 1.8952\n",
            "Epoch 23/50\n",
            "\u001b[1m219/219\u001b[0m \u001b[32m━━━━━━━━━━━━━━━━━━━━\u001b[0m\u001b[37m\u001b[0m \u001b[1m1s\u001b[0m 5ms/step - accuracy: 0.3681 - loss: 1.9737 - val_accuracy: 0.3718 - val_loss: 1.9247\n",
            "Epoch 24/50\n",
            "\u001b[1m219/219\u001b[0m \u001b[32m━━━━━━━━━━━━━━━━━━━━\u001b[0m\u001b[37m\u001b[0m \u001b[1m1s\u001b[0m 4ms/step - accuracy: 0.3799 - loss: 1.9190 - val_accuracy: 0.3805 - val_loss: 1.9313\n",
            "Epoch 25/50\n",
            "\u001b[1m219/219\u001b[0m \u001b[32m━━━━━━━━━━━━━━━━━━━━\u001b[0m\u001b[37m\u001b[0m \u001b[1m1s\u001b[0m 4ms/step - accuracy: 0.3784 - loss: 1.8806 - val_accuracy: 0.3862 - val_loss: 1.9192\n",
            "Epoch 26/50\n",
            "\u001b[1m219/219\u001b[0m \u001b[32m━━━━━━━━━━━━━━━━━━━━\u001b[0m\u001b[37m\u001b[0m \u001b[1m1s\u001b[0m 4ms/step - accuracy: 0.3847 - loss: 1.8757 - val_accuracy: 0.4019 - val_loss: 1.8765\n",
            "Epoch 27/50\n",
            "\u001b[1m219/219\u001b[0m \u001b[32m━━━━━━━━━━━━━━━━━━━━\u001b[0m\u001b[37m\u001b[0m \u001b[1m1s\u001b[0m 4ms/step - accuracy: 0.3885 - loss: 1.8719 - val_accuracy: 0.3965 - val_loss: 1.8494\n",
            "Epoch 28/50\n",
            "\u001b[1m219/219\u001b[0m \u001b[32m━━━━━━━━━━━━━━━━━━━━\u001b[0m\u001b[37m\u001b[0m \u001b[1m1s\u001b[0m 4ms/step - accuracy: 0.3777 - loss: 1.8545 - val_accuracy: 0.4052 - val_loss: 1.8346\n",
            "Epoch 29/50\n",
            "\u001b[1m219/219\u001b[0m \u001b[32m━━━━━━━━━━━━━━━━━━━━\u001b[0m\u001b[37m\u001b[0m \u001b[1m1s\u001b[0m 4ms/step - accuracy: 0.3814 - loss: 1.8311 - val_accuracy: 0.3722 - val_loss: 1.8394\n",
            "Epoch 30/50\n",
            "\u001b[1m219/219\u001b[0m \u001b[32m━━━━━━━━━━━━━━━━━━━━\u001b[0m\u001b[37m\u001b[0m \u001b[1m1s\u001b[0m 4ms/step - accuracy: 0.3869 - loss: 1.8130 - val_accuracy: 0.3638 - val_loss: 1.8356\n",
            "Epoch 31/50\n",
            "\u001b[1m219/219\u001b[0m \u001b[32m━━━━━━━━━━━━━━━━━━━━\u001b[0m\u001b[37m\u001b[0m \u001b[1m1s\u001b[0m 4ms/step - accuracy: 0.4044 - loss: 1.7909 - val_accuracy: 0.4302 - val_loss: 1.7301\n",
            "Epoch 32/50\n",
            "\u001b[1m219/219\u001b[0m \u001b[32m━━━━━━━━━━━━━━━━━━━━\u001b[0m\u001b[37m\u001b[0m \u001b[1m1s\u001b[0m 4ms/step - accuracy: 0.4034 - loss: 1.7743 - val_accuracy: 0.3334 - val_loss: 1.9161\n",
            "Epoch 33/50\n",
            "\u001b[1m219/219\u001b[0m \u001b[32m━━━━━━━━━━━━━━━━━━━━\u001b[0m\u001b[37m\u001b[0m \u001b[1m1s\u001b[0m 5ms/step - accuracy: 0.3969 - loss: 1.7721 - val_accuracy: 0.3762 - val_loss: 1.8421\n",
            "Epoch 34/50\n",
            "\u001b[1m219/219\u001b[0m \u001b[32m━━━━━━━━━━━━━━━━━━━━\u001b[0m\u001b[37m\u001b[0m \u001b[1m2s\u001b[0m 7ms/step - accuracy: 0.3962 - loss: 1.7619 - val_accuracy: 0.3982 - val_loss: 1.8511\n",
            "Epoch 35/50\n",
            "\u001b[1m219/219\u001b[0m \u001b[32m━━━━━━━━━━━━━━━━━━━━\u001b[0m\u001b[37m\u001b[0m \u001b[1m1s\u001b[0m 5ms/step - accuracy: 0.3924 - loss: 1.8440 - val_accuracy: 0.4059 - val_loss: 1.8127\n",
            "Epoch 36/50\n",
            "\u001b[1m219/219\u001b[0m \u001b[32m━━━━━━━━━━━━━━━━━━━━\u001b[0m\u001b[37m\u001b[0m \u001b[1m1s\u001b[0m 4ms/step - accuracy: 0.4077 - loss: 1.7810 - val_accuracy: 0.3972 - val_loss: 1.7759\n"
          ]
        }
      ]
    },
    {
      "cell_type": "code",
      "source": [
        "plot_history(hist)"
      ],
      "metadata": {
        "trusted": true,
        "colab": {
          "base_uri": "https://localhost:8080/",
          "height": 489
        },
        "id": "hu0D1gCoexiP",
        "outputId": "51f41995-ab76-44bb-8a94-7f798cb55ce7"
      },
      "execution_count": null,
      "outputs": [
        {
          "output_type": "display_data",
          "data": {
            "text/plain": [
              "<Figure size 2000x1500 with 0 Axes>"
            ]
          },
          "metadata": {}
        },
        {
          "output_type": "display_data",
          "data": {
            "text/plain": [
              "<Figure size 640x480 with 2 Axes>"
            ],
            "image/png": "[encoded data removed]"
          },
          "metadata": {}
        }
      ]
    },
    {
      "cell_type": "code",
      "source": [
        "test_error, test_accuracy = model.evaluate(input_test, target_test, verbose=1)\n",
        "print(f\"Test accuracy: {test_accuracy}\")"
      ],
      "metadata": {
        "trusted": true,
        "colab": {
          "base_uri": "https://localhost:8080/"
        },
        "id": "WWcQ0wsLexiQ",
        "outputId": "71b8f318-1a1b-4dc6-da11-b9fc6260fa2a"
      },
      "execution_count": null,
      "outputs": [
        {
          "output_type": "stream",
          "name": "stdout",
          "text": [
            "\u001b[1m94/94\u001b[0m \u001b[32m━━━━━━━━━━━━━━━━━━━━\u001b[0m\u001b[37m\u001b[0m \u001b[1m0s\u001b[0m 2ms/step - accuracy: 0.4255 - loss: 1.7246\n",
            "Test accuracy: 0.43024033308029175\n"
          ]
        }
      ]
    },
    {
      "cell_type": "markdown",
      "source": [
        "# CNN"
      ],
      "metadata": {
        "id": "IJmfGxBLodI7"
      }
    },
    {
      "cell_type": "code",
      "source": [
        "def prepare_dataset(test_size, validation_size):\n",
        "    X,y = load_data(r\"./data.json\")\n",
        "\n",
        "    X_train, X_test, y_train, y_test = train_test_split(X, y, test_size = test_size)\n",
        "    X_train, X_val, y_train, y_val = train_test_split(X_train, y_train, test_size = validation_size)\n",
        "    X_train = X_train[..., np.newaxis]\n",
        "    X_val = X_val[..., np.newaxis]\n",
        "    X_test = X_test[..., np.newaxis]\n",
        "\n",
        "    return X_train, X_val, X_test, y_train, y_val, y_test"
      ],
      "metadata": {
        "trusted": true,
        "id": "rw5Kr6YoexiS"
      },
      "execution_count": null,
      "outputs": []
    },
    {
      "cell_type": "code",
      "source": [
        "X_train, X_val, X_test, y_train, y_val, y_test = prepare_dataset(0.25, 0.2)"
      ],
      "metadata": {
        "trusted": true,
        "id": "SYol4OVhexiS"
      },
      "execution_count": null,
      "outputs": []
    },
    {
      "cell_type": "code",
      "source": [
        "input_shape = (X_train.shape[1],X_train.shape[2],X_train.shape[3])\n",
        "print(input_shape)"
      ],
      "metadata": {
        "trusted": true,
        "colab": {
          "base_uri": "https://localhost:8080/"
        },
        "id": "ALHNtV7fexiT",
        "outputId": "20c88611-f6ed-4d2c-8650-8c2c30674ed0"
      },
      "execution_count": null,
      "outputs": [
        {
          "output_type": "stream",
          "name": "stdout",
          "text": [
            "(130, 13, 1)\n"
          ]
        }
      ]
    },
    {
      "cell_type": "code",
      "source": [
        "model = Sequential()\n",
        "model.add(Conv2D(64, (3, 3), activation = \"relu\", input_shape = input_shape))\n",
        "model.add(MaxPool2D((3, 3), strides=(2, 2), padding=\"same\"))\n",
        "model.add(BatchNormalization())\n",
        "\n",
        "model.add(Conv2D(32, (3, 3), activation = \"relu\"))\n",
        "model.add(MaxPool2D((3, 3), strides=(2, 2), padding=\"same\"))\n",
        "model.add(BatchNormalization())\n",
        "\n",
        "model.add(Conv2D(32, (2, 2), activation = \"relu\"))\n",
        "model.add(MaxPool2D((2, 2), strides=(2, 2), padding=\"same\"))\n",
        "model.add(BatchNormalization())\n",
        "\n",
        "model.add(Conv2D(16, (1, 1), activation = \"relu\"))\n",
        "model.add(MaxPool2D((1, 1), strides=(2, 2), padding=\"same\"))\n",
        "model.add(BatchNormalization())\n",
        "\n",
        "model.add(Flatten())\n",
        "model.add(Dense(64, activation=\"relu\"))\n",
        "model.add(Dropout(0.3))\n",
        "model.add(Dense(10, activation=\"softmax\"))\n",
        "\n",
        "model.summary()"
      ],
      "metadata": {
        "trusted": true,
        "colab": {
          "base_uri": "https://localhost:8080/",
          "height": 760
        },
        "id": "Fl0Qqyd1exiU",
        "outputId": "edf57974-2bab-4ae5-d72b-3d8ccbfabdf6"
      },
      "execution_count": null,
      "outputs": [
        {
          "output_type": "stream",
          "name": "stderr",
          "text": [
            "/usr/local/lib/python3.11/dist-packages/keras/src/layers/convolutional/base_conv.py:107: UserWarning: Do not pass an `input_shape`/`input_dim` argument to a layer. When using Sequential models, prefer using an `Input(shape)` object as the first layer in the model instead.\n",
            "  super().__init__(activity_regularizer=activity_regularizer, **kwargs)\n"
          ]
        },
        {
          "output_type": "display_data",
          "data": {
            "text/plain": [
              "\u001b[1mModel: \"sequential_2\"\u001b[0m\n"
            ],
            "text/html": [
              "<pre style=\"white-space:pre;overflow-x:auto;line-height:normal;font-family:Menlo,'DejaVu Sans Mono',consolas,'Courier New',monospace\"><span style=\"font-weight: bold\">Model: \"sequential_2\"</span>\n",
              "</pre>\n"
            ]
          },
          "metadata": {}
        },
        {
          "output_type": "display_data",
          "data": {
            "text/plain": [
              "┏━━━━━━━━━━━━━━━━━━━━━━━━━━━━━━━━━┳━━━━━━━━━━━━━━━━━━━━━━━━┳━━━━━━━━━━━━━━━┓\n",
              "┃\u001b[1m \u001b[0m\u001b[1mLayer (type)                   \u001b[0m\u001b[1m \u001b[0m┃\u001b[1m \u001b[0m\u001b[1mOutput Shape          \u001b[0m\u001b[1m \u001b[0m┃\u001b[1m \u001b[0m\u001b[1m      Param #\u001b[0m\u001b[1m \u001b[0m┃\n",
              "┡━━━━━━━━━━━━━━━━━━━━━━━━━━━━━━━━━╇━━━━━━━━━━━━━━━━━━━━━━━━╇━━━━━━━━━━━━━━━┩\n",
              "│ conv2d (\u001b[38;5;33mConv2D\u001b[0m)                 │ (\u001b[38;5;45mNone\u001b[0m, \u001b[38;5;34m128\u001b[0m, \u001b[38;5;34m11\u001b[0m, \u001b[38;5;34m64\u001b[0m)    │           \u001b[38;5;34m640\u001b[0m │\n",
              "├─────────────────────────────────┼────────────────────────┼───────────────┤\n",
              "│ max_pooling2d (\u001b[38;5;33mMaxPooling2D\u001b[0m)    │ (\u001b[38;5;45mNone\u001b[0m, \u001b[38;5;34m64\u001b[0m, \u001b[38;5;34m6\u001b[0m, \u001b[38;5;34m64\u001b[0m)      │             \u001b[38;5;34m0\u001b[0m │\n",
              "├─────────────────────────────────┼────────────────────────┼───────────────┤\n",
              "│ batch_normalization             │ (\u001b[38;5;45mNone\u001b[0m, \u001b[38;5;34m64\u001b[0m, \u001b[38;5;34m6\u001b[0m, \u001b[38;5;34m64\u001b[0m)      │           \u001b[38;5;34m256\u001b[0m │\n",
              "│ (\u001b[38;5;33mBatchNormalization\u001b[0m)            │                        │               │\n",
              "├─────────────────────────────────┼────────────────────────┼───────────────┤\n",
              "│ conv2d_1 (\u001b[38;5;33mConv2D\u001b[0m)               │ (\u001b[38;5;45mNone\u001b[0m, \u001b[38;5;34m62\u001b[0m, \u001b[38;5;34m4\u001b[0m, \u001b[38;5;34m32\u001b[0m)      │        \u001b[38;5;34m18,464\u001b[0m │\n",
              "├─────────────────────────────────┼────────────────────────┼───────────────┤\n",
              "│ max_pooling2d_1 (\u001b[38;5;33mMaxPooling2D\u001b[0m)  │ (\u001b[38;5;45mNone\u001b[0m, \u001b[38;5;34m31\u001b[0m, \u001b[38;5;34m2\u001b[0m, \u001b[38;5;34m32\u001b[0m)      │             \u001b[38;5;34m0\u001b[0m │\n",
              "├─────────────────────────────────┼────────────────────────┼───────────────┤\n",
              "│ batch_normalization_1           │ (\u001b[38;5;45mNone\u001b[0m, \u001b[38;5;34m31\u001b[0m, \u001b[38;5;34m2\u001b[0m, \u001b[38;5;34m32\u001b[0m)      │           \u001b[38;5;34m128\u001b[0m │\n",
              "│ (\u001b[38;5;33mBatchNormalization\u001b[0m)            │                        │               │\n",
              "├─────────────────────────────────┼────────────────────────┼───────────────┤\n",
              "│ conv2d_2 (\u001b[38;5;33mConv2D\u001b[0m)               │ (\u001b[38;5;45mNone\u001b[0m, \u001b[38;5;34m30\u001b[0m, \u001b[38;5;34m1\u001b[0m, \u001b[38;5;34m32\u001b[0m)      │         \u001b[38;5;34m4,128\u001b[0m │\n",
              "├─────────────────────────────────┼────────────────────────┼───────────────┤\n",
              "│ max_pooling2d_2 (\u001b[38;5;33mMaxPooling2D\u001b[0m)  │ (\u001b[38;5;45mNone\u001b[0m, \u001b[38;5;34m15\u001b[0m, \u001b[38;5;34m1\u001b[0m, \u001b[38;5;34m32\u001b[0m)      │             \u001b[38;5;34m0\u001b[0m │\n",
              "├─────────────────────────────────┼────────────────────────┼───────────────┤\n",
              "│ batch_normalization_2           │ (\u001b[38;5;45mNone\u001b[0m, \u001b[38;5;34m15\u001b[0m, \u001b[38;5;34m1\u001b[0m, \u001b[38;5;34m32\u001b[0m)      │           \u001b[38;5;34m128\u001b[0m │\n",
              "│ (\u001b[38;5;33mBatchNormalization\u001b[0m)            │                        │               │\n",
              "├─────────────────────────────────┼────────────────────────┼───────────────┤\n",
              "│ conv2d_3 (\u001b[38;5;33mConv2D\u001b[0m)               │ (\u001b[38;5;45mNone\u001b[0m, \u001b[38;5;34m15\u001b[0m, \u001b[38;5;34m1\u001b[0m, \u001b[38;5;34m16\u001b[0m)      │           \u001b[38;5;34m528\u001b[0m │\n",
              "├─────────────────────────────────┼────────────────────────┼───────────────┤\n",
              "│ max_pooling2d_3 (\u001b[38;5;33mMaxPooling2D\u001b[0m)  │ (\u001b[38;5;45mNone\u001b[0m, \u001b[38;5;34m8\u001b[0m, \u001b[38;5;34m1\u001b[0m, \u001b[38;5;34m16\u001b[0m)       │             \u001b[38;5;34m0\u001b[0m │\n",
              "├─────────────────────────────────┼────────────────────────┼───────────────┤\n",
              "│ batch_normalization_3           │ (\u001b[38;5;45mNone\u001b[0m, \u001b[38;5;34m8\u001b[0m, \u001b[38;5;34m1\u001b[0m, \u001b[38;5;34m16\u001b[0m)       │            \u001b[38;5;34m64\u001b[0m │\n",
              "│ (\u001b[38;5;33mBatchNormalization\u001b[0m)            │                        │               │\n",
              "├─────────────────────────────────┼────────────────────────┼───────────────┤\n",
              "│ flatten_2 (\u001b[38;5;33mFlatten\u001b[0m)             │ (\u001b[38;5;45mNone\u001b[0m, \u001b[38;5;34m128\u001b[0m)            │             \u001b[38;5;34m0\u001b[0m │\n",
              "├─────────────────────────────────┼────────────────────────┼───────────────┤\n",
              "│ dense_9 (\u001b[38;5;33mDense\u001b[0m)                 │ (\u001b[38;5;45mNone\u001b[0m, \u001b[38;5;34m64\u001b[0m)             │         \u001b[38;5;34m8,256\u001b[0m │\n",
              "├─────────────────────────────────┼────────────────────────┼───────────────┤\n",
              "│ dropout_3 (\u001b[38;5;33mDropout\u001b[0m)             │ (\u001b[38;5;45mNone\u001b[0m, \u001b[38;5;34m64\u001b[0m)             │             \u001b[38;5;34m0\u001b[0m │\n",
              "├─────────────────────────────────┼────────────────────────┼───────────────┤\n",
              "│ dense_10 (\u001b[38;5;33mDense\u001b[0m)                │ (\u001b[38;5;45mNone\u001b[0m, \u001b[38;5;34m10\u001b[0m)             │           \u001b[38;5;34m650\u001b[0m │\n",
              "└─────────────────────────────────┴────────────────────────┴───────────────┘\n"
            ],
            "text/html": [
              "<pre style=\"white-space:pre;overflow-x:auto;line-height:normal;font-family:Menlo,'DejaVu Sans Mono',consolas,'Courier New',monospace\">┏━━━━━━━━━━━━━━━━━━━━━━━━━━━━━━━━━┳━━━━━━━━━━━━━━━━━━━━━━━━┳━━━━━━━━━━━━━━━┓\n",
              "┃<span style=\"font-weight: bold\"> Layer (type)                    </span>┃<span style=\"font-weight: bold\"> Output Shape           </span>┃<span style=\"font-weight: bold\">       Param # </span>┃\n",
              "┡━━━━━━━━━━━━━━━━━━━━━━━━━━━━━━━━━╇━━━━━━━━━━━━━━━━━━━━━━━━╇━━━━━━━━━━━━━━━┩\n",
              "│ conv2d (<span style=\"color: #0087ff; text-decoration-color: #0087ff\">Conv2D</span>)                 │ (<span style=\"color: #00d7ff; text-decoration-color: #00d7ff\">None</span>, <span style=\"color: #00af00; text-decoration-color: #00af00\">128</span>, <span style=\"color: #00af00; text-decoration-color: #00af00\">11</span>, <span style=\"color: #00af00; text-decoration-color: #00af00\">64</span>)    │           <span style=\"color: #00af00; text-decoration-color: #00af00\">640</span> │\n",
              "├─────────────────────────────────┼────────────────────────┼───────────────┤\n",
              "│ max_pooling2d (<span style=\"color: #0087ff; text-decoration-color: #0087ff\">MaxPooling2D</span>)    │ (<span style=\"color: #00d7ff; text-decoration-color: #00d7ff\">None</span>, <span style=\"color: #00af00; text-decoration-color: #00af00\">64</span>, <span style=\"color: #00af00; text-decoration-color: #00af00\">6</span>, <span style=\"color: #00af00; text-decoration-color: #00af00\">64</span>)      │             <span style=\"color: #00af00; text-decoration-color: #00af00\">0</span> │\n",
              "├─────────────────────────────────┼────────────────────────┼───────────────┤\n",
              "│ batch_normalization             │ (<span style=\"color: #00d7ff; text-decoration-color: #00d7ff\">None</span>, <span style=\"color: #00af00; text-decoration-color: #00af00\">64</span>, <span style=\"color: #00af00; text-decoration-color: #00af00\">6</span>, <span style=\"color: #00af00; text-decoration-color: #00af00\">64</span>)      │           <span style=\"color: #00af00; text-decoration-color: #00af00\">256</span> │\n",
              "│ (<span style=\"color: #0087ff; text-decoration-color: #0087ff\">BatchNormalization</span>)            │                        │               │\n",
              "├─────────────────────────────────┼────────────────────────┼───────────────┤\n",
              "│ conv2d_1 (<span style=\"color: #0087ff; text-decoration-color: #0087ff\">Conv2D</span>)               │ (<span style=\"color: #00d7ff; text-decoration-color: #00d7ff\">None</span>, <span style=\"color: #00af00; text-decoration-color: #00af00\">62</span>, <span style=\"color: #00af00; text-decoration-color: #00af00\">4</span>, <span style=\"color: #00af00; text-decoration-color: #00af00\">32</span>)      │        <span style=\"color: #00af00; text-decoration-color: #00af00\">18,464</span> │\n",
              "├─────────────────────────────────┼────────────────────────┼───────────────┤\n",
              "│ max_pooling2d_1 (<span style=\"color: #0087ff; text-decoration-color: #0087ff\">MaxPooling2D</span>)  │ (<span style=\"color: #00d7ff; text-decoration-color: #00d7ff\">None</span>, <span style=\"color: #00af00; text-decoration-color: #00af00\">31</span>, <span style=\"color: #00af00; text-decoration-color: #00af00\">2</span>, <span style=\"color: #00af00; text-decoration-color: #00af00\">32</span>)      │             <span style=\"color: #00af00; text-decoration-color: #00af00\">0</span> │\n",
              "├─────────────────────────────────┼────────────────────────┼───────────────┤\n",
              "│ batch_normalization_1           │ (<span style=\"color: #00d7ff; text-decoration-color: #00d7ff\">None</span>, <span style=\"color: #00af00; text-decoration-color: #00af00\">31</span>, <span style=\"color: #00af00; text-decoration-color: #00af00\">2</span>, <span style=\"color: #00af00; text-decoration-color: #00af00\">32</span>)      │           <span style=\"color: #00af00; text-decoration-color: #00af00\">128</span> │\n",
              "│ (<span style=\"color: #0087ff; text-decoration-color: #0087ff\">BatchNormalization</span>)            │                        │               │\n",
              "├─────────────────────────────────┼────────────────────────┼───────────────┤\n",
              "│ conv2d_2 (<span style=\"color: #0087ff; text-decoration-color: #0087ff\">Conv2D</span>)               │ (<span style=\"color: #00d7ff; text-decoration-color: #00d7ff\">None</span>, <span style=\"color: #00af00; text-decoration-color: #00af00\">30</span>, <span style=\"color: #00af00; text-decoration-color: #00af00\">1</span>, <span style=\"color: #00af00; text-decoration-color: #00af00\">32</span>)      │         <span style=\"color: #00af00; text-decoration-color: #00af00\">4,128</span> │\n",
              "├─────────────────────────────────┼────────────────────────┼───────────────┤\n",
              "│ max_pooling2d_2 (<span style=\"color: #0087ff; text-decoration-color: #0087ff\">MaxPooling2D</span>)  │ (<span style=\"color: #00d7ff; text-decoration-color: #00d7ff\">None</span>, <span style=\"color: #00af00; text-decoration-color: #00af00\">15</span>, <span style=\"color: #00af00; text-decoration-color: #00af00\">1</span>, <span style=\"color: #00af00; text-decoration-color: #00af00\">32</span>)      │             <span style=\"color: #00af00; text-decoration-color: #00af00\">0</span> │\n",
              "├─────────────────────────────────┼────────────────────────┼───────────────┤\n",
              "│ batch_normalization_2           │ (<span style=\"color: #00d7ff; text-decoration-color: #00d7ff\">None</span>, <span style=\"color: #00af00; text-decoration-color: #00af00\">15</span>, <span style=\"color: #00af00; text-decoration-color: #00af00\">1</span>, <span style=\"color: #00af00; text-decoration-color: #00af00\">32</span>)      │           <span style=\"color: #00af00; text-decoration-color: #00af00\">128</span> │\n",
              "│ (<span style=\"color: #0087ff; text-decoration-color: #0087ff\">BatchNormalization</span>)            │                        │               │\n",
              "├─────────────────────────────────┼────────────────────────┼───────────────┤\n",
              "│ conv2d_3 (<span style=\"color: #0087ff; text-decoration-color: #0087ff\">Conv2D</span>)               │ (<span style=\"color: #00d7ff; text-decoration-color: #00d7ff\">None</span>, <span style=\"color: #00af00; text-decoration-color: #00af00\">15</span>, <span style=\"color: #00af00; text-decoration-color: #00af00\">1</span>, <span style=\"color: #00af00; text-decoration-color: #00af00\">16</span>)      │           <span style=\"color: #00af00; text-decoration-color: #00af00\">528</span> │\n",
              "├─────────────────────────────────┼────────────────────────┼───────────────┤\n",
              "│ max_pooling2d_3 (<span style=\"color: #0087ff; text-decoration-color: #0087ff\">MaxPooling2D</span>)  │ (<span style=\"color: #00d7ff; text-decoration-color: #00d7ff\">None</span>, <span style=\"color: #00af00; text-decoration-color: #00af00\">8</span>, <span style=\"color: #00af00; text-decoration-color: #00af00\">1</span>, <span style=\"color: #00af00; text-decoration-color: #00af00\">16</span>)       │             <span style=\"color: #00af00; text-decoration-color: #00af00\">0</span> │\n",
              "├─────────────────────────────────┼────────────────────────┼───────────────┤\n",
              "│ batch_normalization_3           │ (<span style=\"color: #00d7ff; text-decoration-color: #00d7ff\">None</span>, <span style=\"color: #00af00; text-decoration-color: #00af00\">8</span>, <span style=\"color: #00af00; text-decoration-color: #00af00\">1</span>, <span style=\"color: #00af00; text-decoration-color: #00af00\">16</span>)       │            <span style=\"color: #00af00; text-decoration-color: #00af00\">64</span> │\n",
              "│ (<span style=\"color: #0087ff; text-decoration-color: #0087ff\">BatchNormalization</span>)            │                        │               │\n",
              "├─────────────────────────────────┼────────────────────────┼───────────────┤\n",
              "│ flatten_2 (<span style=\"color: #0087ff; text-decoration-color: #0087ff\">Flatten</span>)             │ (<span style=\"color: #00d7ff; text-decoration-color: #00d7ff\">None</span>, <span style=\"color: #00af00; text-decoration-color: #00af00\">128</span>)            │             <span style=\"color: #00af00; text-decoration-color: #00af00\">0</span> │\n",
              "├─────────────────────────────────┼────────────────────────┼───────────────┤\n",
              "│ dense_9 (<span style=\"color: #0087ff; text-decoration-color: #0087ff\">Dense</span>)                 │ (<span style=\"color: #00d7ff; text-decoration-color: #00d7ff\">None</span>, <span style=\"color: #00af00; text-decoration-color: #00af00\">64</span>)             │         <span style=\"color: #00af00; text-decoration-color: #00af00\">8,256</span> │\n",
              "├─────────────────────────────────┼────────────────────────┼───────────────┤\n",
              "│ dropout_3 (<span style=\"color: #0087ff; text-decoration-color: #0087ff\">Dropout</span>)             │ (<span style=\"color: #00d7ff; text-decoration-color: #00d7ff\">None</span>, <span style=\"color: #00af00; text-decoration-color: #00af00\">64</span>)             │             <span style=\"color: #00af00; text-decoration-color: #00af00\">0</span> │\n",
              "├─────────────────────────────────┼────────────────────────┼───────────────┤\n",
              "│ dense_10 (<span style=\"color: #0087ff; text-decoration-color: #0087ff\">Dense</span>)                │ (<span style=\"color: #00d7ff; text-decoration-color: #00d7ff\">None</span>, <span style=\"color: #00af00; text-decoration-color: #00af00\">10</span>)             │           <span style=\"color: #00af00; text-decoration-color: #00af00\">650</span> │\n",
              "└─────────────────────────────────┴────────────────────────┴───────────────┘\n",
              "</pre>\n"
            ]
          },
          "metadata": {}
        },
        {
          "output_type": "display_data",
          "data": {
            "text/plain": [
              "\u001b[1m Total params: \u001b[0m\u001b[38;5;34m33,242\u001b[0m (129.85 KB)\n"
            ],
            "text/html": [
              "<pre style=\"white-space:pre;overflow-x:auto;line-height:normal;font-family:Menlo,'DejaVu Sans Mono',consolas,'Courier New',monospace\"><span style=\"font-weight: bold\"> Total params: </span><span style=\"color: #00af00; text-decoration-color: #00af00\">33,242</span> (129.85 KB)\n",
              "</pre>\n"
            ]
          },
          "metadata": {}
        },
        {
          "output_type": "display_data",
          "data": {
            "text/plain": [
              "\u001b[1m Trainable params: \u001b[0m\u001b[38;5;34m32,954\u001b[0m (128.73 KB)\n"
            ],
            "text/html": [
              "<pre style=\"white-space:pre;overflow-x:auto;line-height:normal;font-family:Menlo,'DejaVu Sans Mono',consolas,'Courier New',monospace\"><span style=\"font-weight: bold\"> Trainable params: </span><span style=\"color: #00af00; text-decoration-color: #00af00\">32,954</span> (128.73 KB)\n",
              "</pre>\n"
            ]
          },
          "metadata": {}
        },
        {
          "output_type": "display_data",
          "data": {
            "text/plain": [
              "\u001b[1m Non-trainable params: \u001b[0m\u001b[38;5;34m288\u001b[0m (1.12 KB)\n"
            ],
            "text/html": [
              "<pre style=\"white-space:pre;overflow-x:auto;line-height:normal;font-family:Menlo,'DejaVu Sans Mono',consolas,'Courier New',monospace\"><span style=\"font-weight: bold\"> Non-trainable params: </span><span style=\"color: #00af00; text-decoration-color: #00af00\">288</span> (1.12 KB)\n",
              "</pre>\n"
            ]
          },
          "metadata": {}
        }
      ]
    },
    {
      "cell_type": "code",
      "source": [
        "from tensorflow.keras import optimizers\n",
        "adam = optimizers.Adam(learning_rate=1e-4)\n",
        "model.compile(optimizer=adam,\n",
        "              loss=\"sparse_categorical_crossentropy\",\n",
        "              metrics=[\"accuracy\"])\n",
        "\n",
        "hist = model.fit(X_train, y_train,\n",
        "                 validation_data = (X_val, y_val),\n",
        "                 epochs = 70,\n",
        "                 batch_size = 32)"
      ],
      "metadata": {
        "trusted": true,
        "colab": {
          "base_uri": "https://localhost:8080/"
        },
        "id": "0PpReY9CexiV",
        "outputId": "e9d30a42-5035-43b2-df08-77abc4f5e299"
      },
      "execution_count": null,
      "outputs": [
        {
          "output_type": "stream",
          "name": "stdout",
          "text": [
            "Epoch 1/70\n",
            "\u001b[1m188/188\u001b[0m \u001b[32m━━━━━━━━━━━━━━━━━━━━\u001b[0m\u001b[37m\u001b[0m \u001b[1m15s\u001b[0m 36ms/step - accuracy: 0.1190 - loss: 2.9419 - val_accuracy: 0.2116 - val_loss: 2.1784\n",
            "Epoch 2/70\n",
            "\u001b[1m188/188\u001b[0m \u001b[32m━━━━━━━━━━━━━━━━━━━━\u001b[0m\u001b[37m\u001b[0m \u001b[1m12s\u001b[0m 14ms/step - accuracy: 0.2511 - loss: 2.2117 - val_accuracy: 0.3318 - val_loss: 1.9168\n",
            "Epoch 3/70\n",
            "\u001b[1m188/188\u001b[0m \u001b[32m━━━━━━━━━━━━━━━━━━━━\u001b[0m\u001b[37m\u001b[0m \u001b[1m4s\u001b[0m 6ms/step - accuracy: 0.3587 - loss: 1.8887 - val_accuracy: 0.3912 - val_loss: 1.7009\n",
            "Epoch 4/70\n",
            "\u001b[1m188/188\u001b[0m \u001b[32m━━━━━━━━━━━━━━━━━━━━\u001b[0m\u001b[37m\u001b[0m \u001b[1m1s\u001b[0m 5ms/step - accuracy: 0.3741 - loss: 1.7684 - val_accuracy: 0.4366 - val_loss: 1.5611\n",
            "Epoch 5/70\n",
            "\u001b[1m188/188\u001b[0m \u001b[32m━━━━━━━━━━━━━━━━━━━━\u001b[0m\u001b[37m\u001b[0m \u001b[1m1s\u001b[0m 5ms/step - accuracy: 0.4271 - loss: 1.6214 - val_accuracy: 0.4553 - val_loss: 1.4925\n",
            "Epoch 6/70\n",
            "\u001b[1m188/188\u001b[0m \u001b[32m━━━━━━━━━━━━━━━━━━━━\u001b[0m\u001b[37m\u001b[0m \u001b[1m1s\u001b[0m 5ms/step - accuracy: 0.4600 - loss: 1.5272 - val_accuracy: 0.4780 - val_loss: 1.4148\n",
            "Epoch 7/70\n",
            "\u001b[1m188/188\u001b[0m \u001b[32m━━━━━━━━━━━━━━━━━━━━\u001b[0m\u001b[37m\u001b[0m \u001b[1m1s\u001b[0m 5ms/step - accuracy: 0.4777 - loss: 1.4549 - val_accuracy: 0.5107 - val_loss: 1.3473\n",
            "Epoch 8/70\n",
            "\u001b[1m188/188\u001b[0m \u001b[32m━━━━━━━━━━━━━━━━━━━━\u001b[0m\u001b[37m\u001b[0m \u001b[1m1s\u001b[0m 6ms/step - accuracy: 0.4869 - loss: 1.4200 - val_accuracy: 0.5247 - val_loss: 1.3034\n",
            "Epoch 9/70\n",
            "\u001b[1m188/188\u001b[0m \u001b[32m━━━━━━━━━━━━━━━━━━━━\u001b[0m\u001b[37m\u001b[0m \u001b[1m2s\u001b[0m 8ms/step - accuracy: 0.5272 - loss: 1.3235 - val_accuracy: 0.5381 - val_loss: 1.2594\n",
            "Epoch 10/70\n",
            "\u001b[1m188/188\u001b[0m \u001b[32m━━━━━━━━━━━━━━━━━━━━\u001b[0m\u001b[37m\u001b[0m \u001b[1m2s\u001b[0m 6ms/step - accuracy: 0.5449 - loss: 1.3003 - val_accuracy: 0.5674 - val_loss: 1.2120\n",
            "Epoch 11/70\n",
            "\u001b[1m188/188\u001b[0m \u001b[32m━━━━━━━━━━━━━━━━━━━━\u001b[0m\u001b[37m\u001b[0m \u001b[1m1s\u001b[0m 5ms/step - accuracy: 0.5551 - loss: 1.2273 - val_accuracy: 0.5547 - val_loss: 1.2143\n",
            "Epoch 12/70\n",
            "\u001b[1m188/188\u001b[0m \u001b[32m━━━━━━━━━━━━━━━━━━━━\u001b[0m\u001b[37m\u001b[0m \u001b[1m1s\u001b[0m 5ms/step - accuracy: 0.5565 - loss: 1.2377 - val_accuracy: 0.5828 - val_loss: 1.1592\n",
            "Epoch 13/70\n",
            "\u001b[1m188/188\u001b[0m \u001b[32m━━━━━━━━━━━━━━━━━━━━\u001b[0m\u001b[37m\u001b[0m \u001b[1m1s\u001b[0m 5ms/step - accuracy: 0.5702 - loss: 1.1940 - val_accuracy: 0.5881 - val_loss: 1.1455\n",
            "Epoch 14/70\n",
            "\u001b[1m188/188\u001b[0m \u001b[32m━━━━━━━━━━━━━━━━━━━━\u001b[0m\u001b[37m\u001b[0m \u001b[1m1s\u001b[0m 5ms/step - accuracy: 0.5940 - loss: 1.1289 - val_accuracy: 0.6048 - val_loss: 1.1188\n",
            "Epoch 15/70\n",
            "\u001b[1m188/188\u001b[0m \u001b[32m━━━━━━━━━━━━━━━━━━━━\u001b[0m\u001b[37m\u001b[0m \u001b[1m1s\u001b[0m 5ms/step - accuracy: 0.6055 - loss: 1.1113 - val_accuracy: 0.6175 - val_loss: 1.0879\n",
            "Epoch 16/70\n",
            "\u001b[1m188/188\u001b[0m \u001b[32m━━━━━━━━━━━━━━━━━━━━\u001b[0m\u001b[37m\u001b[0m \u001b[1m1s\u001b[0m 5ms/step - accuracy: 0.6138 - loss: 1.0937 - val_accuracy: 0.6215 - val_loss: 1.0605\n",
            "Epoch 17/70\n",
            "\u001b[1m188/188\u001b[0m \u001b[32m━━━━━━━━━━━━━━━━━━━━\u001b[0m\u001b[37m\u001b[0m \u001b[1m1s\u001b[0m 5ms/step - accuracy: 0.6187 - loss: 1.0786 - val_accuracy: 0.6268 - val_loss: 1.0354\n",
            "Epoch 18/70\n",
            "\u001b[1m188/188\u001b[0m \u001b[32m━━━━━━━━━━━━━━━━━━━━\u001b[0m\u001b[37m\u001b[0m \u001b[1m1s\u001b[0m 7ms/step - accuracy: 0.6255 - loss: 1.0451 - val_accuracy: 0.6462 - val_loss: 1.0427\n",
            "Epoch 19/70\n",
            "\u001b[1m188/188\u001b[0m \u001b[32m━━━━━━━━━━━━━━━━━━━━\u001b[0m\u001b[37m\u001b[0m \u001b[1m3s\u001b[0m 7ms/step - accuracy: 0.6181 - loss: 1.0744 - val_accuracy: 0.6348 - val_loss: 1.0354\n",
            "Epoch 20/70\n",
            "\u001b[1m188/188\u001b[0m \u001b[32m━━━━━━━━━━━━━━━━━━━━\u001b[0m\u001b[37m\u001b[0m \u001b[1m2s\u001b[0m 5ms/step - accuracy: 0.6537 - loss: 0.9930 - val_accuracy: 0.6041 - val_loss: 1.0907\n",
            "Epoch 21/70\n",
            "\u001b[1m188/188\u001b[0m \u001b[32m━━━━━━━━━━━━━━━━━━━━\u001b[0m\u001b[37m\u001b[0m \u001b[1m1s\u001b[0m 5ms/step - accuracy: 0.6472 - loss: 1.0045 - val_accuracy: 0.6535 - val_loss: 0.9907\n",
            "Epoch 22/70\n",
            "\u001b[1m188/188\u001b[0m \u001b[32m━━━━━━━━━━━━━━━━━━━━\u001b[0m\u001b[37m\u001b[0m \u001b[1m1s\u001b[0m 5ms/step - accuracy: 0.6627 - loss: 0.9786 - val_accuracy: 0.6455 - val_loss: 0.9918\n",
            "Epoch 23/70\n",
            "\u001b[1m188/188\u001b[0m \u001b[32m━━━━━━━━━━━━━━━━━━━━\u001b[0m\u001b[37m\u001b[0m \u001b[1m1s\u001b[0m 5ms/step - accuracy: 0.6462 - loss: 0.9758 - val_accuracy: 0.6469 - val_loss: 0.9859\n",
            "Epoch 24/70\n",
            "\u001b[1m188/188\u001b[0m \u001b[32m━━━━━━━━━━━━━━━━━━━━\u001b[0m\u001b[37m\u001b[0m \u001b[1m1s\u001b[0m 5ms/step - accuracy: 0.6684 - loss: 0.9394 - val_accuracy: 0.6469 - val_loss: 0.9992\n",
            "Epoch 25/70\n",
            "\u001b[1m188/188\u001b[0m \u001b[32m━━━━━━━━━━━━━━━━━━━━\u001b[0m\u001b[37m\u001b[0m \u001b[1m1s\u001b[0m 5ms/step - accuracy: 0.6736 - loss: 0.9285 - val_accuracy: 0.6742 - val_loss: 0.9433\n",
            "Epoch 26/70\n",
            "\u001b[1m188/188\u001b[0m \u001b[32m━━━━━━━━━━━━━━━━━━━━\u001b[0m\u001b[37m\u001b[0m \u001b[1m1s\u001b[0m 5ms/step - accuracy: 0.6850 - loss: 0.8994 - val_accuracy: 0.6182 - val_loss: 1.0338\n",
            "Epoch 27/70\n",
            "\u001b[1m188/188\u001b[0m \u001b[32m━━━━━━━━━━━━━━━━━━━━\u001b[0m\u001b[37m\u001b[0m \u001b[1m2s\u001b[0m 7ms/step - accuracy: 0.6926 - loss: 0.8641 - val_accuracy: 0.6569 - val_loss: 0.9552\n",
            "Epoch 28/70\n",
            "\u001b[1m188/188\u001b[0m \u001b[32m━━━━━━━━━━━━━━━━━━━━\u001b[0m\u001b[37m\u001b[0m \u001b[1m1s\u001b[0m 7ms/step - accuracy: 0.7010 - loss: 0.8554 - val_accuracy: 0.6162 - val_loss: 1.0888\n",
            "Epoch 29/70\n",
            "\u001b[1m188/188\u001b[0m \u001b[32m━━━━━━━━━━━━━━━━━━━━\u001b[0m\u001b[37m\u001b[0m \u001b[1m1s\u001b[0m 7ms/step - accuracy: 0.7023 - loss: 0.8502 - val_accuracy: 0.6682 - val_loss: 0.9470\n",
            "Epoch 30/70\n",
            "\u001b[1m188/188\u001b[0m \u001b[32m━━━━━━━━━━━━━━━━━━━━\u001b[0m\u001b[37m\u001b[0m \u001b[1m2s\u001b[0m 6ms/step - accuracy: 0.7061 - loss: 0.8323 - val_accuracy: 0.6762 - val_loss: 0.9105\n",
            "Epoch 31/70\n",
            "\u001b[1m188/188\u001b[0m \u001b[32m━━━━━━━━━━━━━━━━━━━━\u001b[0m\u001b[37m\u001b[0m \u001b[1m1s\u001b[0m 5ms/step - accuracy: 0.6969 - loss: 0.8468 - val_accuracy: 0.6896 - val_loss: 0.9136\n",
            "Epoch 32/70\n",
            "\u001b[1m188/188\u001b[0m \u001b[32m━━━━━━━━━━━━━━━━━━━━\u001b[0m\u001b[37m\u001b[0m \u001b[1m2s\u001b[0m 8ms/step - accuracy: 0.7123 - loss: 0.8311 - val_accuracy: 0.6702 - val_loss: 0.9228\n",
            "Epoch 33/70\n",
            "\u001b[1m188/188\u001b[0m \u001b[32m━━━━━━━━━━━━━━━━━━━━\u001b[0m\u001b[37m\u001b[0m \u001b[1m2s\u001b[0m 8ms/step - accuracy: 0.7075 - loss: 0.8196 - val_accuracy: 0.6716 - val_loss: 0.9191\n",
            "Epoch 34/70\n",
            "\u001b[1m188/188\u001b[0m \u001b[32m━━━━━━━━━━━━━━━━━━━━\u001b[0m\u001b[37m\u001b[0m \u001b[1m2s\u001b[0m 5ms/step - accuracy: 0.7187 - loss: 0.8013 - val_accuracy: 0.6822 - val_loss: 0.9014\n",
            "Epoch 35/70\n",
            "\u001b[1m188/188\u001b[0m \u001b[32m━━━━━━━━━━━━━━━━━━━━\u001b[0m\u001b[37m\u001b[0m \u001b[1m1s\u001b[0m 6ms/step - accuracy: 0.7227 - loss: 0.7894 - val_accuracy: 0.6876 - val_loss: 0.8882\n",
            "Epoch 36/70\n",
            "\u001b[1m188/188\u001b[0m \u001b[32m━━━━━━━━━━━━━━━━━━━━\u001b[0m\u001b[37m\u001b[0m \u001b[1m1s\u001b[0m 7ms/step - accuracy: 0.7435 - loss: 0.7450 - val_accuracy: 0.6869 - val_loss: 0.8928\n",
            "Epoch 37/70\n",
            "\u001b[1m188/188\u001b[0m \u001b[32m━━━━━━━━━━━━━━━━━━━━\u001b[0m\u001b[37m\u001b[0m \u001b[1m1s\u001b[0m 7ms/step - accuracy: 0.7356 - loss: 0.7623 - val_accuracy: 0.6909 - val_loss: 0.9059\n",
            "Epoch 38/70\n",
            "\u001b[1m188/188\u001b[0m \u001b[32m━━━━━━━━━━━━━━━━━━━━\u001b[0m\u001b[37m\u001b[0m \u001b[1m2s\u001b[0m 6ms/step - accuracy: 0.7455 - loss: 0.7368 - val_accuracy: 0.6615 - val_loss: 0.9725\n",
            "Epoch 39/70\n",
            "\u001b[1m188/188\u001b[0m \u001b[32m━━━━━━━━━━━━━━━━━━━━\u001b[0m\u001b[37m\u001b[0m \u001b[1m1s\u001b[0m 5ms/step - accuracy: 0.7354 - loss: 0.7606 - val_accuracy: 0.6696 - val_loss: 0.9369\n",
            "Epoch 40/70\n",
            "\u001b[1m188/188\u001b[0m \u001b[32m━━━━━━━━━━━━━━━━━━━━\u001b[0m\u001b[37m\u001b[0m \u001b[1m1s\u001b[0m 5ms/step - accuracy: 0.7397 - loss: 0.7411 - val_accuracy: 0.6889 - val_loss: 0.9631\n",
            "Epoch 41/70\n",
            "\u001b[1m188/188\u001b[0m \u001b[32m━━━━━━━━━━━━━━━━━━━━\u001b[0m\u001b[37m\u001b[0m \u001b[1m1s\u001b[0m 5ms/step - accuracy: 0.7460 - loss: 0.7191 - val_accuracy: 0.6963 - val_loss: 0.9076\n",
            "Epoch 42/70\n",
            "\u001b[1m188/188\u001b[0m \u001b[32m━━━━━━━━━━━━━━━━━━━━\u001b[0m\u001b[37m\u001b[0m \u001b[1m1s\u001b[0m 5ms/step - accuracy: 0.7515 - loss: 0.7046 - val_accuracy: 0.6802 - val_loss: 0.9282\n",
            "Epoch 43/70\n",
            "\u001b[1m188/188\u001b[0m \u001b[32m━━━━━━━━━━━━━━━━━━━━\u001b[0m\u001b[37m\u001b[0m \u001b[1m1s\u001b[0m 5ms/step - accuracy: 0.7500 - loss: 0.7197 - val_accuracy: 0.6889 - val_loss: 0.8849\n",
            "Epoch 44/70\n",
            "\u001b[1m188/188\u001b[0m \u001b[32m━━━━━━━━━━━━━━━━━━━━\u001b[0m\u001b[37m\u001b[0m \u001b[1m1s\u001b[0m 5ms/step - accuracy: 0.7598 - loss: 0.7016 - val_accuracy: 0.6876 - val_loss: 0.8852\n",
            "Epoch 45/70\n",
            "\u001b[1m188/188\u001b[0m \u001b[32m━━━━━━━━━━━━━━━━━━━━\u001b[0m\u001b[37m\u001b[0m \u001b[1m1s\u001b[0m 6ms/step - accuracy: 0.7848 - loss: 0.6500 - val_accuracy: 0.6969 - val_loss: 0.8580\n",
            "Epoch 46/70\n",
            "\u001b[1m188/188\u001b[0m \u001b[32m━━━━━━━━━━━━━━━━━━━━\u001b[0m\u001b[37m\u001b[0m \u001b[1m1s\u001b[0m 7ms/step - accuracy: 0.7652 - loss: 0.6748 - val_accuracy: 0.6923 - val_loss: 0.8970\n",
            "Epoch 47/70\n",
            "\u001b[1m188/188\u001b[0m \u001b[32m━━━━━━━━━━━━━━━━━━━━\u001b[0m\u001b[37m\u001b[0m \u001b[1m2s\u001b[0m 6ms/step - accuracy: 0.7576 - loss: 0.6881 - val_accuracy: 0.6929 - val_loss: 0.8826\n",
            "Epoch 48/70\n",
            "\u001b[1m188/188\u001b[0m \u001b[32m━━━━━━━━━━━━━━━━━━━━\u001b[0m\u001b[37m\u001b[0m \u001b[1m1s\u001b[0m 5ms/step - accuracy: 0.7807 - loss: 0.6433 - val_accuracy: 0.6969 - val_loss: 0.9070\n",
            "Epoch 49/70\n",
            "\u001b[1m188/188\u001b[0m \u001b[32m━━━━━━━━━━━━━━━━━━━━\u001b[0m\u001b[37m\u001b[0m \u001b[1m1s\u001b[0m 5ms/step - accuracy: 0.7849 - loss: 0.6311 - val_accuracy: 0.6916 - val_loss: 0.9078\n",
            "Epoch 50/70\n",
            "\u001b[1m188/188\u001b[0m \u001b[32m━━━━━━━━━━━━━━━━━━━━\u001b[0m\u001b[37m\u001b[0m \u001b[1m1s\u001b[0m 5ms/step - accuracy: 0.7931 - loss: 0.6122 - val_accuracy: 0.7016 - val_loss: 0.8755\n",
            "Epoch 51/70\n",
            "\u001b[1m188/188\u001b[0m \u001b[32m━━━━━━━━━━━━━━━━━━━━\u001b[0m\u001b[37m\u001b[0m \u001b[1m1s\u001b[0m 5ms/step - accuracy: 0.7827 - loss: 0.6421 - val_accuracy: 0.6989 - val_loss: 0.8704\n",
            "Epoch 52/70\n",
            "\u001b[1m188/188\u001b[0m \u001b[32m━━━━━━━━━━━━━━━━━━━━\u001b[0m\u001b[37m\u001b[0m \u001b[1m1s\u001b[0m 5ms/step - accuracy: 0.7926 - loss: 0.6008 - val_accuracy: 0.6836 - val_loss: 0.8882\n",
            "Epoch 53/70\n",
            "\u001b[1m188/188\u001b[0m \u001b[32m━━━━━━━━━━━━━━━━━━━━\u001b[0m\u001b[37m\u001b[0m \u001b[1m1s\u001b[0m 5ms/step - accuracy: 0.7887 - loss: 0.5978 - val_accuracy: 0.7016 - val_loss: 0.9111\n",
            "Epoch 54/70\n",
            "\u001b[1m188/188\u001b[0m \u001b[32m━━━━━━━━━━━━━━━━━━━━\u001b[0m\u001b[37m\u001b[0m \u001b[1m1s\u001b[0m 5ms/step - accuracy: 0.7890 - loss: 0.5997 - val_accuracy: 0.6756 - val_loss: 0.9694\n",
            "Epoch 55/70\n",
            "\u001b[1m188/188\u001b[0m \u001b[32m━━━━━━━━━━━━━━━━━━━━\u001b[0m\u001b[37m\u001b[0m \u001b[1m1s\u001b[0m 5ms/step - accuracy: 0.7984 - loss: 0.5751 - val_accuracy: 0.6876 - val_loss: 0.9091\n",
            "Epoch 56/70\n",
            "\u001b[1m188/188\u001b[0m \u001b[32m━━━━━━━━━━━━━━━━━━━━\u001b[0m\u001b[37m\u001b[0m \u001b[1m2s\u001b[0m 7ms/step - accuracy: 0.7923 - loss: 0.5940 - val_accuracy: 0.7136 - val_loss: 0.8728\n",
            "Epoch 57/70\n",
            "\u001b[1m188/188\u001b[0m \u001b[32m━━━━━━━━━━━━━━━━━━━━\u001b[0m\u001b[37m\u001b[0m \u001b[1m2s\u001b[0m 6ms/step - accuracy: 0.8024 - loss: 0.5638 - val_accuracy: 0.6856 - val_loss: 0.9426\n",
            "Epoch 58/70\n",
            "\u001b[1m188/188\u001b[0m \u001b[32m━━━━━━━━━━━━━━━━━━━━\u001b[0m\u001b[37m\u001b[0m \u001b[1m1s\u001b[0m 5ms/step - accuracy: 0.7981 - loss: 0.5972 - val_accuracy: 0.7103 - val_loss: 0.8775\n",
            "Epoch 59/70\n",
            "\u001b[1m188/188\u001b[0m \u001b[32m━━━━━━━━━━━━━━━━━━━━\u001b[0m\u001b[37m\u001b[0m \u001b[1m1s\u001b[0m 5ms/step - accuracy: 0.8102 - loss: 0.5738 - val_accuracy: 0.6983 - val_loss: 0.8902\n",
            "Epoch 60/70\n",
            "\u001b[1m188/188\u001b[0m \u001b[32m━━━━━━━━━━━━━━━━━━━━\u001b[0m\u001b[37m\u001b[0m \u001b[1m1s\u001b[0m 5ms/step - accuracy: 0.7957 - loss: 0.5701 - val_accuracy: 0.6903 - val_loss: 0.9232\n",
            "Epoch 61/70\n",
            "\u001b[1m188/188\u001b[0m \u001b[32m━━━━━━━━━━━━━━━━━━━━\u001b[0m\u001b[37m\u001b[0m \u001b[1m1s\u001b[0m 5ms/step - accuracy: 0.8063 - loss: 0.5653 - val_accuracy: 0.7089 - val_loss: 0.8620\n",
            "Epoch 62/70\n",
            "\u001b[1m188/188\u001b[0m \u001b[32m━━━━━━━━━━━━━━━━━━━━\u001b[0m\u001b[37m\u001b[0m \u001b[1m1s\u001b[0m 5ms/step - accuracy: 0.8081 - loss: 0.5439 - val_accuracy: 0.7076 - val_loss: 0.8888\n",
            "Epoch 63/70\n",
            "\u001b[1m188/188\u001b[0m \u001b[32m━━━━━━━━━━━━━━━━━━━━\u001b[0m\u001b[37m\u001b[0m \u001b[1m1s\u001b[0m 5ms/step - accuracy: 0.8051 - loss: 0.5617 - val_accuracy: 0.7156 - val_loss: 0.8608\n",
            "Epoch 64/70\n",
            "\u001b[1m188/188\u001b[0m \u001b[32m━━━━━━━━━━━━━━━━━━━━\u001b[0m\u001b[37m\u001b[0m \u001b[1m1s\u001b[0m 5ms/step - accuracy: 0.8166 - loss: 0.5317 - val_accuracy: 0.7063 - val_loss: 0.8871\n",
            "Epoch 65/70\n",
            "\u001b[1m188/188\u001b[0m \u001b[32m━━━━━━━━━━━━━━━━━━━━\u001b[0m\u001b[37m\u001b[0m \u001b[1m1s\u001b[0m 5ms/step - accuracy: 0.8127 - loss: 0.5316 - val_accuracy: 0.7143 - val_loss: 0.8987\n",
            "Epoch 66/70\n",
            "\u001b[1m188/188\u001b[0m \u001b[32m━━━━━━━━━━━━━━━━━━━━\u001b[0m\u001b[37m\u001b[0m \u001b[1m1s\u001b[0m 6ms/step - accuracy: 0.8209 - loss: 0.5219 - val_accuracy: 0.7243 - val_loss: 0.8513\n",
            "Epoch 67/70\n",
            "\u001b[1m188/188\u001b[0m \u001b[32m━━━━━━━━━━━━━━━━━━━━\u001b[0m\u001b[37m\u001b[0m \u001b[1m2s\u001b[0m 7ms/step - accuracy: 0.8146 - loss: 0.5329 - val_accuracy: 0.7216 - val_loss: 0.8549\n",
            "Epoch 68/70\n",
            "\u001b[1m188/188\u001b[0m \u001b[32m━━━━━━━━━━━━━━━━━━━━\u001b[0m\u001b[37m\u001b[0m \u001b[1m2s\u001b[0m 6ms/step - accuracy: 0.8227 - loss: 0.5043 - val_accuracy: 0.7049 - val_loss: 0.9115\n",
            "Epoch 69/70\n",
            "\u001b[1m188/188\u001b[0m \u001b[32m━━━━━━━━━━━━━━━━━━━━\u001b[0m\u001b[37m\u001b[0m \u001b[1m1s\u001b[0m 5ms/step - accuracy: 0.8253 - loss: 0.5047 - val_accuracy: 0.7130 - val_loss: 0.8585\n",
            "Epoch 70/70\n",
            "\u001b[1m188/188\u001b[0m \u001b[32m━━━━━━━━━━━━━━━━━━━━\u001b[0m\u001b[37m\u001b[0m \u001b[1m1s\u001b[0m 5ms/step - accuracy: 0.8189 - loss: 0.5124 - val_accuracy: 0.7183 - val_loss: 0.8629\n"
          ]
        }
      ]
    },
    {
      "cell_type": "code",
      "source": [
        "plot_history(hist)"
      ],
      "metadata": {
        "trusted": true,
        "colab": {
          "base_uri": "https://localhost:8080/",
          "height": 489
        },
        "id": "Gj0My2vTexiW",
        "outputId": "f3d159ee-62e6-449f-c92c-b340af0c3200"
      },
      "execution_count": null,
      "outputs": [
        {
          "output_type": "display_data",
          "data": {
            "text/plain": [
              "<Figure size 2000x1500 with 0 Axes>"
            ]
          },
          "metadata": {}
        },
        {
          "output_type": "display_data",
          "data": {
            "text/plain": [
              "<Figure size 640x480 with 2 Axes>"
            ],
            "image/png": "[encoded data removed]"
          },
          "metadata": {}
        }
      ]
    },
    {
      "cell_type": "code",
      "source": [
        "test_error, test_accuracy = model.evaluate(X_test, y_test, verbose=1)\n",
        "print(f\"Test accuracy: {test_accuracy}\")"
      ],
      "metadata": {
        "trusted": true,
        "colab": {
          "base_uri": "https://localhost:8080/"
        },
        "id": "zTvpbw57exiW",
        "outputId": "7ce4400c-1668-411b-e956-460cc8fe7401"
      },
      "execution_count": null,
      "outputs": [
        {
          "output_type": "stream",
          "name": "stdout",
          "text": [
            "\u001b[1m79/79\u001b[0m \u001b[32m━━━━━━━━━━━━━━━━━━━━\u001b[0m\u001b[37m\u001b[0m \u001b[1m1s\u001b[0m 10ms/step - accuracy: 0.7366 - loss: 0.8178\n",
            "Test accuracy: 0.7276732325553894\n"
          ]
        }
      ]
    },
    {
      "cell_type": "code",
      "source": [
        "def predict(model, X, y):\n",
        "    X = X[np.newaxis,...]\n",
        "    prediction = model.predict(X)\n",
        "    predicted_index = np.argmax(prediction, axis=1)\n",
        "    print(f\"Expected index: {y}, Predicted index: {predicted_index}\")"
      ],
      "metadata": {
        "trusted": true,
        "id": "pvmkU7NOexiX"
      },
      "execution_count": null,
      "outputs": []
    },
    {
      "cell_type": "code",
      "source": [
        "predict(model, X_test[10], y_test[10])"
      ],
      "metadata": {
        "trusted": true,
        "colab": {
          "base_uri": "https://localhost:8080/"
        },
        "id": "c3yE2rWkexiY",
        "outputId": "ee8d07a9-f2b1-40bd-dbdc-86e09787cba6"
      },
      "execution_count": null,
      "outputs": [
        {
          "output_type": "stream",
          "name": "stdout",
          "text": [
            "\u001b[1m1/1\u001b[0m \u001b[32m━━━━━━━━━━━━━━━━━━━━\u001b[0m\u001b[37m\u001b[0m \u001b[1m1s\u001b[0m 511ms/step\n",
            "Expected index: 5, Predicted index: [5]\n"
          ]
        }
      ]
    },
    {
      "cell_type": "markdown",
      "source": [
        "# RNN"
      ],
      "metadata": {
        "id": "s9O8XRQWo4FS"
      }
    },
    {
      "cell_type": "code",
      "source": [
        "num_classes = len(np.unique(y_train))"
      ],
      "metadata": {
        "id": "A82jqZcwisPD"
      },
      "execution_count": 24,
      "outputs": []
    },
    {
      "cell_type": "code",
      "source": [
        "from keras import optimizers\n",
        "from tensorflow.keras import layers, models, optimizers\n",
        "input_shape = (X_train.shape[1], X_train.shape[2])\n",
        "\n",
        "model = models.Sequential()\n",
        "model.add(layers.LSTM(64, return_sequences=True, input_shape=input_shape))\n",
        "model.add(layers.Dropout(0.3))\n",
        "model.add(layers.GRU(64))\n",
        "model.add(layers.Dropout(0.3))\n",
        "model.add(layers.Dense(64, activation='relu'))\n",
        "model.add(layers.Dropout(0.3))\n",
        "model.add(layers.Dense(num_classes, activation='softmax'))\n",
        "\n",
        "model.compile(optimizer=optimizers.Adam(learning_rate=1e-4),\n",
        "              loss=\"sparse_categorical_crossentropy\",\n",
        "              metrics=[\"accuracy\"])\n"
      ],
      "metadata": {
        "id": "ELbOpIQPDU6f"
      },
      "execution_count": 25,
      "outputs": []
    },
    {
      "cell_type": "code",
      "source": [
        "optimizer = optimizers.Adam(learning_rate=1e-4)\n",
        "model.compile(optimizer=optimizer,\n",
        "              loss=\"sparse_categorical_crossentropy\",\n",
        "              metrics=[\"accuracy\"])\n",
        "\n",
        "history = model.fit(X_train, y_train,\n",
        "                    validation_data=(X_val, y_val),\n",
        "                    epochs=60,\n",
        "                    batch_size=32)"
      ],
      "metadata": {
        "id": "uhVq8bJ2Dg--",
        "colab": {
          "base_uri": "https://localhost:8080/"
        },
        "outputId": "0c0f7a5d-61cd-44e0-91a1-2db2fb4c12cd"
      },
      "execution_count": 27,
      "outputs": [
        {
          "output_type": "stream",
          "name": "stdout",
          "text": [
            "Epoch 1/60\n",
            "\u001b[1m188/188\u001b[0m \u001b[32m━━━━━━━━━━━━━━━━━━━━\u001b[0m\u001b[37m\u001b[0m \u001b[1m7s\u001b[0m 16ms/step - accuracy: 0.1191 - loss: 2.3279 - val_accuracy: 0.2330 - val_loss: 2.1761\n",
            "Epoch 2/60\n",
            "\u001b[1m188/188\u001b[0m \u001b[32m━━━━━━━━━━━━━━━━━━━━\u001b[0m\u001b[37m\u001b[0m \u001b[1m3s\u001b[0m 15ms/step - accuracy: 0.2250 - loss: 2.1679 - val_accuracy: 0.2991 - val_loss: 2.0262\n",
            "Epoch 3/60\n",
            "\u001b[1m188/188\u001b[0m \u001b[32m━━━━━━━━━━━━━━━━━━━━\u001b[0m\u001b[37m\u001b[0m \u001b[1m5s\u001b[0m 14ms/step - accuracy: 0.2849 - loss: 2.0390 - val_accuracy: 0.3204 - val_loss: 1.8981\n",
            "Epoch 4/60\n",
            "\u001b[1m188/188\u001b[0m \u001b[32m━━━━━━━━━━━━━━━━━━━━\u001b[0m\u001b[37m\u001b[0m \u001b[1m5s\u001b[0m 14ms/step - accuracy: 0.3223 - loss: 1.9113 - val_accuracy: 0.3411 - val_loss: 1.8163\n",
            "Epoch 5/60\n",
            "\u001b[1m188/188\u001b[0m \u001b[32m━━━━━━━━━━━━━━━━━━━━\u001b[0m\u001b[37m\u001b[0m \u001b[1m4s\u001b[0m 20ms/step - accuracy: 0.3441 - loss: 1.8494 - val_accuracy: 0.3518 - val_loss: 1.7588\n",
            "Epoch 6/60\n",
            "\u001b[1m188/188\u001b[0m \u001b[32m━━━━━━━━━━━━━━━━━━━━\u001b[0m\u001b[37m\u001b[0m \u001b[1m3s\u001b[0m 17ms/step - accuracy: 0.3539 - loss: 1.7970 - val_accuracy: 0.3798 - val_loss: 1.6993\n",
            "Epoch 7/60\n",
            "\u001b[1m188/188\u001b[0m \u001b[32m━━━━━━━━━━━━━━━━━━━━\u001b[0m\u001b[37m\u001b[0m \u001b[1m4s\u001b[0m 14ms/step - accuracy: 0.3798 - loss: 1.7391 - val_accuracy: 0.3952 - val_loss: 1.6494\n",
            "Epoch 8/60\n",
            "\u001b[1m188/188\u001b[0m \u001b[32m━━━━━━━━━━━━━━━━━━━━\u001b[0m\u001b[37m\u001b[0m \u001b[1m6s\u001b[0m 21ms/step - accuracy: 0.3918 - loss: 1.6929 - val_accuracy: 0.4126 - val_loss: 1.6110\n",
            "Epoch 9/60\n",
            "\u001b[1m188/188\u001b[0m \u001b[32m━━━━━━━━━━━━━━━━━━━━\u001b[0m\u001b[37m\u001b[0m \u001b[1m4s\u001b[0m 23ms/step - accuracy: 0.3905 - loss: 1.6690 - val_accuracy: 0.4179 - val_loss: 1.5794\n",
            "Epoch 10/60\n",
            "\u001b[1m188/188\u001b[0m \u001b[32m━━━━━━━━━━━━━━━━━━━━\u001b[0m\u001b[37m\u001b[0m \u001b[1m3s\u001b[0m 13ms/step - accuracy: 0.4246 - loss: 1.5772 - val_accuracy: 0.4332 - val_loss: 1.5450\n",
            "Epoch 11/60\n",
            "\u001b[1m188/188\u001b[0m \u001b[32m━━━━━━━━━━━━━━━━━━━━\u001b[0m\u001b[37m\u001b[0m \u001b[1m3s\u001b[0m 13ms/step - accuracy: 0.4448 - loss: 1.5415 - val_accuracy: 0.4453 - val_loss: 1.5084\n",
            "Epoch 12/60\n",
            "\u001b[1m188/188\u001b[0m \u001b[32m━━━━━━━━━━━━━━━━━━━━\u001b[0m\u001b[37m\u001b[0m \u001b[1m3s\u001b[0m 14ms/step - accuracy: 0.4525 - loss: 1.5244 - val_accuracy: 0.4566 - val_loss: 1.4816\n",
            "Epoch 13/60\n",
            "\u001b[1m188/188\u001b[0m \u001b[32m━━━━━━━━━━━━━━━━━━━━\u001b[0m\u001b[37m\u001b[0m \u001b[1m5s\u001b[0m 14ms/step - accuracy: 0.4761 - loss: 1.4673 - val_accuracy: 0.4726 - val_loss: 1.4415\n",
            "Epoch 14/60\n",
            "\u001b[1m188/188\u001b[0m \u001b[32m━━━━━━━━━━━━━━━━━━━━\u001b[0m\u001b[37m\u001b[0m \u001b[1m5s\u001b[0m 14ms/step - accuracy: 0.4770 - loss: 1.4209 - val_accuracy: 0.4826 - val_loss: 1.4230\n",
            "Epoch 15/60\n",
            "\u001b[1m188/188\u001b[0m \u001b[32m━━━━━━━━━━━━━━━━━━━━\u001b[0m\u001b[37m\u001b[0m \u001b[1m3s\u001b[0m 16ms/step - accuracy: 0.4924 - loss: 1.3972 - val_accuracy: 0.4860 - val_loss: 1.4290\n",
            "Epoch 16/60\n",
            "\u001b[1m188/188\u001b[0m \u001b[32m━━━━━━━━━━━━━━━━━━━━\u001b[0m\u001b[37m\u001b[0m \u001b[1m3s\u001b[0m 18ms/step - accuracy: 0.4996 - loss: 1.3771 - val_accuracy: 0.4960 - val_loss: 1.3865\n",
            "Epoch 17/60\n",
            "\u001b[1m188/188\u001b[0m \u001b[32m━━━━━━━━━━━━━━━━━━━━\u001b[0m\u001b[37m\u001b[0m \u001b[1m3s\u001b[0m 13ms/step - accuracy: 0.5170 - loss: 1.3673 - val_accuracy: 0.4933 - val_loss: 1.3727\n",
            "Epoch 18/60\n",
            "\u001b[1m188/188\u001b[0m \u001b[32m━━━━━━━━━━━━━━━━━━━━\u001b[0m\u001b[37m\u001b[0m \u001b[1m3s\u001b[0m 13ms/step - accuracy: 0.5134 - loss: 1.3417 - val_accuracy: 0.5167 - val_loss: 1.3423\n",
            "Epoch 19/60\n",
            "\u001b[1m188/188\u001b[0m \u001b[32m━━━━━━━━━━━━━━━━━━━━\u001b[0m\u001b[37m\u001b[0m \u001b[1m3s\u001b[0m 13ms/step - accuracy: 0.5351 - loss: 1.2783 - val_accuracy: 0.5147 - val_loss: 1.3365\n",
            "Epoch 20/60\n",
            "\u001b[1m188/188\u001b[0m \u001b[32m━━━━━━━━━━━━━━━━━━━━\u001b[0m\u001b[37m\u001b[0m \u001b[1m3s\u001b[0m 15ms/step - accuracy: 0.5315 - loss: 1.2893 - val_accuracy: 0.5060 - val_loss: 1.3606\n",
            "Epoch 21/60\n",
            "\u001b[1m188/188\u001b[0m \u001b[32m━━━━━━━━━━━━━━━━━━━━\u001b[0m\u001b[37m\u001b[0m \u001b[1m5s\u001b[0m 14ms/step - accuracy: 0.5489 - loss: 1.2389 - val_accuracy: 0.5240 - val_loss: 1.3051\n",
            "Epoch 22/60\n",
            "\u001b[1m188/188\u001b[0m \u001b[32m━━━━━━━━━━━━━━━━━━━━\u001b[0m\u001b[37m\u001b[0m \u001b[1m2s\u001b[0m 13ms/step - accuracy: 0.5569 - loss: 1.2250 - val_accuracy: 0.5280 - val_loss: 1.2975\n",
            "Epoch 23/60\n",
            "\u001b[1m188/188\u001b[0m \u001b[32m━━━━━━━━━━━━━━━━━━━━\u001b[0m\u001b[37m\u001b[0m \u001b[1m3s\u001b[0m 13ms/step - accuracy: 0.5574 - loss: 1.2190 - val_accuracy: 0.5401 - val_loss: 1.2820\n",
            "Epoch 24/60\n",
            "\u001b[1m188/188\u001b[0m \u001b[32m━━━━━━━━━━━━━━━━━━━━\u001b[0m\u001b[37m\u001b[0m \u001b[1m3s\u001b[0m 16ms/step - accuracy: 0.5652 - loss: 1.2129 - val_accuracy: 0.5421 - val_loss: 1.2694\n",
            "Epoch 25/60\n",
            "\u001b[1m188/188\u001b[0m \u001b[32m━━━━━━━━━━━━━━━━━━━━\u001b[0m\u001b[37m\u001b[0m \u001b[1m5s\u001b[0m 14ms/step - accuracy: 0.5554 - loss: 1.2151 - val_accuracy: 0.5427 - val_loss: 1.2635\n",
            "Epoch 26/60\n",
            "\u001b[1m188/188\u001b[0m \u001b[32m━━━━━━━━━━━━━━━━━━━━\u001b[0m\u001b[37m\u001b[0m \u001b[1m3s\u001b[0m 13ms/step - accuracy: 0.5708 - loss: 1.1914 - val_accuracy: 0.5441 - val_loss: 1.2844\n",
            "Epoch 27/60\n",
            "\u001b[1m188/188\u001b[0m \u001b[32m━━━━━━━━━━━━━━━━━━━━\u001b[0m\u001b[37m\u001b[0m \u001b[1m4s\u001b[0m 20ms/step - accuracy: 0.5890 - loss: 1.1491 - val_accuracy: 0.5507 - val_loss: 1.2566\n",
            "Epoch 28/60\n",
            "\u001b[1m188/188\u001b[0m \u001b[32m━━━━━━━━━━━━━━━━━━━━\u001b[0m\u001b[37m\u001b[0m \u001b[1m5s\u001b[0m 28ms/step - accuracy: 0.5852 - loss: 1.1451 - val_accuracy: 0.5547 - val_loss: 1.2449\n",
            "Epoch 29/60\n",
            "\u001b[1m188/188\u001b[0m \u001b[32m━━━━━━━━━━━━━━━━━━━━\u001b[0m\u001b[37m\u001b[0m \u001b[1m5s\u001b[0m 24ms/step - accuracy: 0.6061 - loss: 1.0962 - val_accuracy: 0.5694 - val_loss: 1.2081\n",
            "Epoch 30/60\n",
            "\u001b[1m188/188\u001b[0m \u001b[32m━━━━━━━━━━━━━━━━━━━━\u001b[0m\u001b[37m\u001b[0m \u001b[1m2s\u001b[0m 13ms/step - accuracy: 0.6028 - loss: 1.1067 - val_accuracy: 0.5774 - val_loss: 1.2147\n",
            "Epoch 31/60\n",
            "\u001b[1m188/188\u001b[0m \u001b[32m━━━━━━━━━━━━━━━━━━━━\u001b[0m\u001b[37m\u001b[0m \u001b[1m2s\u001b[0m 13ms/step - accuracy: 0.6139 - loss: 1.0925 - val_accuracy: 0.5754 - val_loss: 1.2375\n",
            "Epoch 32/60\n",
            "\u001b[1m188/188\u001b[0m \u001b[32m━━━━━━━━━━━━━━━━━━━━\u001b[0m\u001b[37m\u001b[0m \u001b[1m4s\u001b[0m 19ms/step - accuracy: 0.6178 - loss: 1.0787 - val_accuracy: 0.5681 - val_loss: 1.2357\n",
            "Epoch 33/60\n",
            "\u001b[1m188/188\u001b[0m \u001b[32m━━━━━━━━━━━━━━━━━━━━\u001b[0m\u001b[37m\u001b[0m \u001b[1m5s\u001b[0m 21ms/step - accuracy: 0.6213 - loss: 1.0781 - val_accuracy: 0.5754 - val_loss: 1.2141\n",
            "Epoch 34/60\n",
            "\u001b[1m188/188\u001b[0m \u001b[32m━━━━━━━━━━━━━━━━━━━━\u001b[0m\u001b[37m\u001b[0m \u001b[1m5s\u001b[0m 20ms/step - accuracy: 0.6343 - loss: 1.0436 - val_accuracy: 0.5788 - val_loss: 1.1998\n",
            "Epoch 35/60\n",
            "\u001b[1m188/188\u001b[0m \u001b[32m━━━━━━━━━━━━━━━━━━━━\u001b[0m\u001b[37m\u001b[0m \u001b[1m4s\u001b[0m 16ms/step - accuracy: 0.6263 - loss: 1.0302 - val_accuracy: 0.5968 - val_loss: 1.1923\n",
            "Epoch 36/60\n",
            "\u001b[1m188/188\u001b[0m \u001b[32m━━━━━━━━━━━━━━━━━━━━\u001b[0m\u001b[37m\u001b[0m \u001b[1m2s\u001b[0m 13ms/step - accuracy: 0.6312 - loss: 1.0220 - val_accuracy: 0.5928 - val_loss: 1.1742\n",
            "Epoch 37/60\n",
            "\u001b[1m188/188\u001b[0m \u001b[32m━━━━━━━━━━━━━━━━━━━━\u001b[0m\u001b[37m\u001b[0m \u001b[1m3s\u001b[0m 13ms/step - accuracy: 0.6384 - loss: 1.0414 - val_accuracy: 0.5988 - val_loss: 1.1833\n",
            "Epoch 38/60\n",
            "\u001b[1m188/188\u001b[0m \u001b[32m━━━━━━━━━━━━━━━━━━━━\u001b[0m\u001b[37m\u001b[0m \u001b[1m3s\u001b[0m 13ms/step - accuracy: 0.6349 - loss: 1.0128 - val_accuracy: 0.6055 - val_loss: 1.1599\n",
            "Epoch 39/60\n",
            "\u001b[1m188/188\u001b[0m \u001b[32m━━━━━━━━━━━━━━━━━━━━\u001b[0m\u001b[37m\u001b[0m \u001b[1m3s\u001b[0m 17ms/step - accuracy: 0.6542 - loss: 0.9873 - val_accuracy: 0.6061 - val_loss: 1.1590\n",
            "Epoch 40/60\n",
            "\u001b[1m188/188\u001b[0m \u001b[32m━━━━━━━━━━━━━━━━━━━━\u001b[0m\u001b[37m\u001b[0m \u001b[1m4s\u001b[0m 14ms/step - accuracy: 0.6469 - loss: 1.0009 - val_accuracy: 0.6075 - val_loss: 1.1724\n",
            "Epoch 41/60\n",
            "\u001b[1m188/188\u001b[0m \u001b[32m━━━━━━━━━━━━━━━━━━━━\u001b[0m\u001b[37m\u001b[0m \u001b[1m5s\u001b[0m 14ms/step - accuracy: 0.6686 - loss: 0.9617 - val_accuracy: 0.6095 - val_loss: 1.1840\n",
            "Epoch 42/60\n",
            "\u001b[1m188/188\u001b[0m \u001b[32m━━━━━━━━━━━━━━━━━━━━\u001b[0m\u001b[37m\u001b[0m \u001b[1m3s\u001b[0m 16ms/step - accuracy: 0.6678 - loss: 0.9525 - val_accuracy: 0.6182 - val_loss: 1.1385\n",
            "Epoch 43/60\n",
            "\u001b[1m188/188\u001b[0m \u001b[32m━━━━━━━━━━━━━━━━━━━━\u001b[0m\u001b[37m\u001b[0m \u001b[1m5s\u001b[0m 14ms/step - accuracy: 0.6541 - loss: 0.9786 - val_accuracy: 0.6115 - val_loss: 1.1502\n",
            "Epoch 44/60\n",
            "\u001b[1m188/188\u001b[0m \u001b[32m━━━━━━━━━━━━━━━━━━━━\u001b[0m\u001b[37m\u001b[0m \u001b[1m3s\u001b[0m 14ms/step - accuracy: 0.6701 - loss: 0.9519 - val_accuracy: 0.6121 - val_loss: 1.1830\n",
            "Epoch 45/60\n",
            "\u001b[1m188/188\u001b[0m \u001b[32m━━━━━━━━━━━━━━━━━━━━\u001b[0m\u001b[37m\u001b[0m \u001b[1m6s\u001b[0m 18ms/step - accuracy: 0.6666 - loss: 0.9451 - val_accuracy: 0.6202 - val_loss: 1.1257\n",
            "Epoch 46/60\n",
            "\u001b[1m188/188\u001b[0m \u001b[32m━━━━━━━━━━━━━━━━━━━━\u001b[0m\u001b[37m\u001b[0m \u001b[1m4s\u001b[0m 14ms/step - accuracy: 0.6746 - loss: 0.9313 - val_accuracy: 0.6215 - val_loss: 1.1295\n",
            "Epoch 47/60\n",
            "\u001b[1m188/188\u001b[0m \u001b[32m━━━━━━━━━━━━━━━━━━━━\u001b[0m\u001b[37m\u001b[0m \u001b[1m5s\u001b[0m 14ms/step - accuracy: 0.6873 - loss: 0.9022 - val_accuracy: 0.6262 - val_loss: 1.1301\n",
            "Epoch 48/60\n",
            "\u001b[1m188/188\u001b[0m \u001b[32m━━━━━━━━━━━━━━━━━━━━\u001b[0m\u001b[37m\u001b[0m \u001b[1m6s\u001b[0m 18ms/step - accuracy: 0.6851 - loss: 0.8795 - val_accuracy: 0.6202 - val_loss: 1.1467\n",
            "Epoch 49/60\n",
            "\u001b[1m188/188\u001b[0m \u001b[32m━━━━━━━━━━━━━━━━━━━━\u001b[0m\u001b[37m\u001b[0m \u001b[1m4s\u001b[0m 14ms/step - accuracy: 0.6919 - loss: 0.8815 - val_accuracy: 0.6215 - val_loss: 1.1750\n",
            "Epoch 50/60\n",
            "\u001b[1m188/188\u001b[0m \u001b[32m━━━━━━━━━━━━━━━━━━━━\u001b[0m\u001b[37m\u001b[0m \u001b[1m5s\u001b[0m 15ms/step - accuracy: 0.7064 - loss: 0.8614 - val_accuracy: 0.6235 - val_loss: 1.1536\n",
            "Epoch 51/60\n",
            "\u001b[1m188/188\u001b[0m \u001b[32m━━━━━━━━━━━━━━━━━━━━\u001b[0m\u001b[37m\u001b[0m \u001b[1m5s\u001b[0m 14ms/step - accuracy: 0.6815 - loss: 0.8850 - val_accuracy: 0.6215 - val_loss: 1.1655\n",
            "Epoch 52/60\n",
            "\u001b[1m188/188\u001b[0m \u001b[32m━━━━━━━━━━━━━━━━━━━━\u001b[0m\u001b[37m\u001b[0m \u001b[1m3s\u001b[0m 13ms/step - accuracy: 0.6973 - loss: 0.8578 - val_accuracy: 0.6228 - val_loss: 1.1427\n",
            "Epoch 53/60\n",
            "\u001b[1m188/188\u001b[0m \u001b[32m━━━━━━━━━━━━━━━━━━━━\u001b[0m\u001b[37m\u001b[0m \u001b[1m3s\u001b[0m 13ms/step - accuracy: 0.7087 - loss: 0.8440 - val_accuracy: 0.6342 - val_loss: 1.1025\n",
            "Epoch 54/60\n",
            "\u001b[1m188/188\u001b[0m \u001b[32m━━━━━━━━━━━━━━━━━━━━\u001b[0m\u001b[37m\u001b[0m \u001b[1m3s\u001b[0m 15ms/step - accuracy: 0.7129 - loss: 0.8170 - val_accuracy: 0.6268 - val_loss: 1.1596\n",
            "Epoch 55/60\n",
            "\u001b[1m188/188\u001b[0m \u001b[32m━━━━━━━━━━━━━━━━━━━━\u001b[0m\u001b[37m\u001b[0m \u001b[1m6s\u001b[0m 19ms/step - accuracy: 0.7138 - loss: 0.8290 - val_accuracy: 0.6389 - val_loss: 1.1239\n",
            "Epoch 56/60\n",
            "\u001b[1m188/188\u001b[0m \u001b[32m━━━━━━━━━━━━━━━━━━━━\u001b[0m\u001b[37m\u001b[0m \u001b[1m4s\u001b[0m 13ms/step - accuracy: 0.7233 - loss: 0.8232 - val_accuracy: 0.6409 - val_loss: 1.1083\n",
            "Epoch 57/60\n",
            "\u001b[1m188/188\u001b[0m \u001b[32m━━━━━━━━━━━━━━━━━━━━\u001b[0m\u001b[37m\u001b[0m \u001b[1m6s\u001b[0m 19ms/step - accuracy: 0.7063 - loss: 0.8420 - val_accuracy: 0.6348 - val_loss: 1.1196\n",
            "Epoch 58/60\n",
            "\u001b[1m188/188\u001b[0m \u001b[32m━━━━━━━━━━━━━━━━━━━━\u001b[0m\u001b[37m\u001b[0m \u001b[1m3s\u001b[0m 13ms/step - accuracy: 0.7157 - loss: 0.8242 - val_accuracy: 0.6275 - val_loss: 1.1577\n",
            "Epoch 59/60\n",
            "\u001b[1m188/188\u001b[0m \u001b[32m━━━━━━━━━━━━━━━━━━━━\u001b[0m\u001b[37m\u001b[0m \u001b[1m3s\u001b[0m 13ms/step - accuracy: 0.7215 - loss: 0.8196 - val_accuracy: 0.6322 - val_loss: 1.1391\n",
            "Epoch 60/60\n",
            "\u001b[1m188/188\u001b[0m \u001b[32m━━━━━━━━━━━━━━━━━━━━\u001b[0m\u001b[37m\u001b[0m \u001b[1m3s\u001b[0m 13ms/step - accuracy: 0.7224 - loss: 0.7960 - val_accuracy: 0.6342 - val_loss: 1.1673\n"
          ]
        }
      ]
    },
    {
      "cell_type": "code",
      "source": [
        "test_error, test_accuracy = model.evaluate(X_test, y_test, verbose=1)\n",
        "print(f\"Test accuracy: {test_accuracy}\")"
      ],
      "metadata": {
        "id": "t6WYneWUDkk0",
        "colab": {
          "base_uri": "https://localhost:8080/"
        },
        "outputId": "1a4a2aad-a88a-4e68-fab3-bb9a6ffc410d"
      },
      "execution_count": 28,
      "outputs": [
        {
          "output_type": "stream",
          "name": "stdout",
          "text": [
            "\u001b[1m79/79\u001b[0m \u001b[32m━━━━━━━━━━━━━━━━━━━━\u001b[0m\u001b[37m\u001b[0m \u001b[1m1s\u001b[0m 6ms/step - accuracy: 0.6663 - loss: 1.0364\n",
            "Test accuracy: 0.6631958484649658\n"
          ]
        }
      ]
    },
    {
      "cell_type": "code",
      "source": [
        "import tensorflow as tf\n",
        "from tensorflow.keras import layers, models, optimizers\n",
        "\n",
        "def build_crnn_attention(input_shape, num_classes):\n",
        "    inputs = layers.Input(shape=input_shape)\n",
        "\n",
        "    x = layers.Conv2D(32, (3,3), activation='relu', padding='same')(inputs)\n",
        "    x = layers.BatchNormalization()(x)\n",
        "    x = layers.MaxPool2D((2,2))(x)\n",
        "\n",
        "    x = layers.Conv2D(64, (3,3), activation='relu', padding='same')(x)\n",
        "    x = layers.BatchNormalization()(x)\n",
        "    x = layers.MaxPool2D((2,2))(x)\n",
        "\n",
        "    x = layers.TimeDistributed(layers.Flatten())(x)\n",
        "\n",
        "    x = layers.Bidirectional(layers.GRU(128, return_sequences=True))(x)\n",
        "    x = layers.Dropout(0.3)(x)\n",
        "\n",
        "    scores  = layers.Dense(1)(x)                 # (batch, t, 1)\n",
        "    weights = layers.Softmax(axis=1)(scores)     # (batch, t, 1)\n",
        "    context = layers.Dot(axes=1)([weights, x])   # (batch, 1, features)\n",
        "    context = layers.Flatten()(context)          # (batch, features)\n",
        "\n",
        "    x = layers.Dense(128, activation='relu')(context)\n",
        "    x = layers.Dropout(0.3)(x)\n",
        "    outputs = layers.Dense(num_classes, activation='softmax')(x)\n",
        "\n",
        "    return models.Model(inputs, outputs)\n",
        "\n",
        "input_shape = (130, 64, 1)\n",
        "num_classes = 10\n",
        "\n",
        "model = build_crnn_attention(input_shape, num_classes)\n",
        "model.compile(\n",
        "    optimizer=optimizers.Adam(learning_rate=1e-4),\n",
        "    loss='sparse_categorical_crossentropy',\n",
        "    metrics=['accuracy']\n",
        ")\n",
        "model.summary()\n"
      ],
      "metadata": {
        "id": "Ik7aXAJoFAUD",
        "colab": {
          "base_uri": "https://localhost:8080/",
          "height": 865
        },
        "outputId": "40c82a95-2479-461d-bac2-f90aa81d17a7"
      },
      "execution_count": 46,
      "outputs": [
        {
          "output_type": "display_data",
          "data": {
            "text/plain": [
              "\u001b[1mModel: \"functional_16\"\u001b[0m\n"
            ],
            "text/html": [
              "<pre style=\"white-space:pre;overflow-x:auto;line-height:normal;font-family:Menlo,'DejaVu Sans Mono',consolas,'Courier New',monospace\"><span style=\"font-weight: bold\">Model: \"functional_16\"</span>\n",
              "</pre>\n"
            ]
          },
          "metadata": {}
        },
        {
          "output_type": "display_data",
          "data": {
            "text/plain": [
              "┏━━━━━━━━━━━━━━━━━━━━━┳━━━━━━━━━━━━━━━━━━━┳━━━━━━━━━━━━┳━━━━━━━━━━━━━━━━━━━┓\n",
              "┃\u001b[1m \u001b[0m\u001b[1mLayer (type)       \u001b[0m\u001b[1m \u001b[0m┃\u001b[1m \u001b[0m\u001b[1mOutput Shape     \u001b[0m\u001b[1m \u001b[0m┃\u001b[1m \u001b[0m\u001b[1m   Param #\u001b[0m\u001b[1m \u001b[0m┃\u001b[1m \u001b[0m\u001b[1mConnected to     \u001b[0m\u001b[1m \u001b[0m┃\n",
              "┡━━━━━━━━━━━━━━━━━━━━━╇━━━━━━━━━━━━━━━━━━━╇━━━━━━━━━━━━╇━━━━━━━━━━━━━━━━━━━┩\n",
              "│ input_layer_5       │ (\u001b[38;5;45mNone\u001b[0m, \u001b[38;5;34m130\u001b[0m, \u001b[38;5;34m64\u001b[0m,   │          \u001b[38;5;34m0\u001b[0m │ -                 │\n",
              "│ (\u001b[38;5;33mInputLayer\u001b[0m)        │ \u001b[38;5;34m1\u001b[0m)                │            │                   │\n",
              "├─────────────────────┼───────────────────┼────────────┼───────────────────┤\n",
              "│ conv2d_7 (\u001b[38;5;33mConv2D\u001b[0m)   │ (\u001b[38;5;45mNone\u001b[0m, \u001b[38;5;34m130\u001b[0m, \u001b[38;5;34m64\u001b[0m,   │        \u001b[38;5;34m320\u001b[0m │ input_layer_5[\u001b[38;5;34m0\u001b[0m]… │\n",
              "│                     │ \u001b[38;5;34m32\u001b[0m)               │            │                   │\n",
              "├─────────────────────┼───────────────────┼────────────┼───────────────────┤\n",
              "│ batch_normalizatio… │ (\u001b[38;5;45mNone\u001b[0m, \u001b[38;5;34m130\u001b[0m, \u001b[38;5;34m64\u001b[0m,   │        \u001b[38;5;34m128\u001b[0m │ conv2d_7[\u001b[38;5;34m0\u001b[0m][\u001b[38;5;34m0\u001b[0m]    │\n",
              "│ (\u001b[38;5;33mBatchNormalizatio…\u001b[0m │ \u001b[38;5;34m32\u001b[0m)               │            │                   │\n",
              "├─────────────────────┼───────────────────┼────────────┼───────────────────┤\n",
              "│ max_pooling2d_7     │ (\u001b[38;5;45mNone\u001b[0m, \u001b[38;5;34m65\u001b[0m, \u001b[38;5;34m32\u001b[0m,    │          \u001b[38;5;34m0\u001b[0m │ batch_normalizat… │\n",
              "│ (\u001b[38;5;33mMaxPooling2D\u001b[0m)      │ \u001b[38;5;34m32\u001b[0m)               │            │                   │\n",
              "├─────────────────────┼───────────────────┼────────────┼───────────────────┤\n",
              "│ conv2d_8 (\u001b[38;5;33mConv2D\u001b[0m)   │ (\u001b[38;5;45mNone\u001b[0m, \u001b[38;5;34m65\u001b[0m, \u001b[38;5;34m32\u001b[0m,    │     \u001b[38;5;34m18,496\u001b[0m │ max_pooling2d_7[\u001b[38;5;34m…\u001b[0m │\n",
              "│                     │ \u001b[38;5;34m64\u001b[0m)               │            │                   │\n",
              "├─────────────────────┼───────────────────┼────────────┼───────────────────┤\n",
              "│ batch_normalizatio… │ (\u001b[38;5;45mNone\u001b[0m, \u001b[38;5;34m65\u001b[0m, \u001b[38;5;34m32\u001b[0m,    │        \u001b[38;5;34m256\u001b[0m │ conv2d_8[\u001b[38;5;34m0\u001b[0m][\u001b[38;5;34m0\u001b[0m]    │\n",
              "│ (\u001b[38;5;33mBatchNormalizatio…\u001b[0m │ \u001b[38;5;34m64\u001b[0m)               │            │                   │\n",
              "├─────────────────────┼───────────────────┼────────────┼───────────────────┤\n",
              "│ max_pooling2d_8     │ (\u001b[38;5;45mNone\u001b[0m, \u001b[38;5;34m32\u001b[0m, \u001b[38;5;34m16\u001b[0m,    │          \u001b[38;5;34m0\u001b[0m │ batch_normalizat… │\n",
              "│ (\u001b[38;5;33mMaxPooling2D\u001b[0m)      │ \u001b[38;5;34m64\u001b[0m)               │            │                   │\n",
              "├─────────────────────┼───────────────────┼────────────┼───────────────────┤\n",
              "│ time_distributed_2  │ (\u001b[38;5;45mNone\u001b[0m, \u001b[38;5;34m32\u001b[0m, \u001b[38;5;34m1024\u001b[0m)  │          \u001b[38;5;34m0\u001b[0m │ max_pooling2d_8[\u001b[38;5;34m…\u001b[0m │\n",
              "│ (\u001b[38;5;33mTimeDistributed\u001b[0m)   │                   │            │                   │\n",
              "├─────────────────────┼───────────────────┼────────────┼───────────────────┤\n",
              "│ bidirectional_3     │ (\u001b[38;5;45mNone\u001b[0m, \u001b[38;5;34m32\u001b[0m, \u001b[38;5;34m256\u001b[0m)   │    \u001b[38;5;34m886,272\u001b[0m │ time_distributed… │\n",
              "│ (\u001b[38;5;33mBidirectional\u001b[0m)     │                   │            │                   │\n",
              "├─────────────────────┼───────────────────┼────────────┼───────────────────┤\n",
              "│ dropout_12          │ (\u001b[38;5;45mNone\u001b[0m, \u001b[38;5;34m32\u001b[0m, \u001b[38;5;34m256\u001b[0m)   │          \u001b[38;5;34m0\u001b[0m │ bidirectional_3[\u001b[38;5;34m…\u001b[0m │\n",
              "│ (\u001b[38;5;33mDropout\u001b[0m)           │                   │            │                   │\n",
              "├─────────────────────┼───────────────────┼────────────┼───────────────────┤\n",
              "│ dense_12 (\u001b[38;5;33mDense\u001b[0m)    │ (\u001b[38;5;45mNone\u001b[0m, \u001b[38;5;34m32\u001b[0m, \u001b[38;5;34m1\u001b[0m)     │        \u001b[38;5;34m257\u001b[0m │ dropout_12[\u001b[38;5;34m0\u001b[0m][\u001b[38;5;34m0\u001b[0m]  │\n",
              "├─────────────────────┼───────────────────┼────────────┼───────────────────┤\n",
              "│ softmax_3 (\u001b[38;5;33mSoftmax\u001b[0m) │ (\u001b[38;5;45mNone\u001b[0m, \u001b[38;5;34m32\u001b[0m, \u001b[38;5;34m1\u001b[0m)     │          \u001b[38;5;34m0\u001b[0m │ dense_12[\u001b[38;5;34m0\u001b[0m][\u001b[38;5;34m0\u001b[0m]    │\n",
              "├─────────────────────┼───────────────────┼────────────┼───────────────────┤\n",
              "│ dot_3 (\u001b[38;5;33mDot\u001b[0m)         │ (\u001b[38;5;45mNone\u001b[0m, \u001b[38;5;34m1\u001b[0m, \u001b[38;5;34m256\u001b[0m)    │          \u001b[38;5;34m0\u001b[0m │ softmax_3[\u001b[38;5;34m0\u001b[0m][\u001b[38;5;34m0\u001b[0m],  │\n",
              "│                     │                   │            │ dropout_12[\u001b[38;5;34m0\u001b[0m][\u001b[38;5;34m0\u001b[0m]  │\n",
              "├─────────────────────┼───────────────────┼────────────┼───────────────────┤\n",
              "│ flatten_6 (\u001b[38;5;33mFlatten\u001b[0m) │ (\u001b[38;5;45mNone\u001b[0m, \u001b[38;5;34m256\u001b[0m)       │          \u001b[38;5;34m0\u001b[0m │ dot_3[\u001b[38;5;34m0\u001b[0m][\u001b[38;5;34m0\u001b[0m]       │\n",
              "├─────────────────────┼───────────────────┼────────────┼───────────────────┤\n",
              "│ dense_13 (\u001b[38;5;33mDense\u001b[0m)    │ (\u001b[38;5;45mNone\u001b[0m, \u001b[38;5;34m128\u001b[0m)       │     \u001b[38;5;34m32,896\u001b[0m │ flatten_6[\u001b[38;5;34m0\u001b[0m][\u001b[38;5;34m0\u001b[0m]   │\n",
              "├─────────────────────┼───────────────────┼────────────┼───────────────────┤\n",
              "│ dropout_13          │ (\u001b[38;5;45mNone\u001b[0m, \u001b[38;5;34m128\u001b[0m)       │          \u001b[38;5;34m0\u001b[0m │ dense_13[\u001b[38;5;34m0\u001b[0m][\u001b[38;5;34m0\u001b[0m]    │\n",
              "│ (\u001b[38;5;33mDropout\u001b[0m)           │                   │            │                   │\n",
              "├─────────────────────┼───────────────────┼────────────┼───────────────────┤\n",
              "│ dense_14 (\u001b[38;5;33mDense\u001b[0m)    │ (\u001b[38;5;45mNone\u001b[0m, \u001b[38;5;34m10\u001b[0m)        │      \u001b[38;5;34m1,290\u001b[0m │ dropout_13[\u001b[38;5;34m0\u001b[0m][\u001b[38;5;34m0\u001b[0m]  │\n",
              "└─────────────────────┴───────────────────┴────────────┴───────────────────┘\n"
            ],
            "text/html": [
              "<pre style=\"white-space:pre;overflow-x:auto;line-height:normal;font-family:Menlo,'DejaVu Sans Mono',consolas,'Courier New',monospace\">┏━━━━━━━━━━━━━━━━━━━━━┳━━━━━━━━━━━━━━━━━━━┳━━━━━━━━━━━━┳━━━━━━━━━━━━━━━━━━━┓\n",
              "┃<span style=\"font-weight: bold\"> Layer (type)        </span>┃<span style=\"font-weight: bold\"> Output Shape      </span>┃<span style=\"font-weight: bold\">    Param # </span>┃<span style=\"font-weight: bold\"> Connected to      </span>┃\n",
              "┡━━━━━━━━━━━━━━━━━━━━━╇━━━━━━━━━━━━━━━━━━━╇━━━━━━━━━━━━╇━━━━━━━━━━━━━━━━━━━┩\n",
              "│ input_layer_5       │ (<span style=\"color: #00d7ff; text-decoration-color: #00d7ff\">None</span>, <span style=\"color: #00af00; text-decoration-color: #00af00\">130</span>, <span style=\"color: #00af00; text-decoration-color: #00af00\">64</span>,   │          <span style=\"color: #00af00; text-decoration-color: #00af00\">0</span> │ -                 │\n",
              "│ (<span style=\"color: #0087ff; text-decoration-color: #0087ff\">InputLayer</span>)        │ <span style=\"color: #00af00; text-decoration-color: #00af00\">1</span>)                │            │                   │\n",
              "├─────────────────────┼───────────────────┼────────────┼───────────────────┤\n",
              "│ conv2d_7 (<span style=\"color: #0087ff; text-decoration-color: #0087ff\">Conv2D</span>)   │ (<span style=\"color: #00d7ff; text-decoration-color: #00d7ff\">None</span>, <span style=\"color: #00af00; text-decoration-color: #00af00\">130</span>, <span style=\"color: #00af00; text-decoration-color: #00af00\">64</span>,   │        <span style=\"color: #00af00; text-decoration-color: #00af00\">320</span> │ input_layer_5[<span style=\"color: #00af00; text-decoration-color: #00af00\">0</span>]… │\n",
              "│                     │ <span style=\"color: #00af00; text-decoration-color: #00af00\">32</span>)               │            │                   │\n",
              "├─────────────────────┼───────────────────┼────────────┼───────────────────┤\n",
              "│ batch_normalizatio… │ (<span style=\"color: #00d7ff; text-decoration-color: #00d7ff\">None</span>, <span style=\"color: #00af00; text-decoration-color: #00af00\">130</span>, <span style=\"color: #00af00; text-decoration-color: #00af00\">64</span>,   │        <span style=\"color: #00af00; text-decoration-color: #00af00\">128</span> │ conv2d_7[<span style=\"color: #00af00; text-decoration-color: #00af00\">0</span>][<span style=\"color: #00af00; text-decoration-color: #00af00\">0</span>]    │\n",
              "│ (<span style=\"color: #0087ff; text-decoration-color: #0087ff\">BatchNormalizatio…</span> │ <span style=\"color: #00af00; text-decoration-color: #00af00\">32</span>)               │            │                   │\n",
              "├─────────────────────┼───────────────────┼────────────┼───────────────────┤\n",
              "│ max_pooling2d_7     │ (<span style=\"color: #00d7ff; text-decoration-color: #00d7ff\">None</span>, <span style=\"color: #00af00; text-decoration-color: #00af00\">65</span>, <span style=\"color: #00af00; text-decoration-color: #00af00\">32</span>,    │          <span style=\"color: #00af00; text-decoration-color: #00af00\">0</span> │ batch_normalizat… │\n",
              "│ (<span style=\"color: #0087ff; text-decoration-color: #0087ff\">MaxPooling2D</span>)      │ <span style=\"color: #00af00; text-decoration-color: #00af00\">32</span>)               │            │                   │\n",
              "├─────────────────────┼───────────────────┼────────────┼───────────────────┤\n",
              "│ conv2d_8 (<span style=\"color: #0087ff; text-decoration-color: #0087ff\">Conv2D</span>)   │ (<span style=\"color: #00d7ff; text-decoration-color: #00d7ff\">None</span>, <span style=\"color: #00af00; text-decoration-color: #00af00\">65</span>, <span style=\"color: #00af00; text-decoration-color: #00af00\">32</span>,    │     <span style=\"color: #00af00; text-decoration-color: #00af00\">18,496</span> │ max_pooling2d_7[<span style=\"color: #00af00; text-decoration-color: #00af00\">…</span> │\n",
              "│                     │ <span style=\"color: #00af00; text-decoration-color: #00af00\">64</span>)               │            │                   │\n",
              "├─────────────────────┼───────────────────┼────────────┼───────────────────┤\n",
              "│ batch_normalizatio… │ (<span style=\"color: #00d7ff; text-decoration-color: #00d7ff\">None</span>, <span style=\"color: #00af00; text-decoration-color: #00af00\">65</span>, <span style=\"color: #00af00; text-decoration-color: #00af00\">32</span>,    │        <span style=\"color: #00af00; text-decoration-color: #00af00\">256</span> │ conv2d_8[<span style=\"color: #00af00; text-decoration-color: #00af00\">0</span>][<span style=\"color: #00af00; text-decoration-color: #00af00\">0</span>]    │\n",
              "│ (<span style=\"color: #0087ff; text-decoration-color: #0087ff\">BatchNormalizatio…</span> │ <span style=\"color: #00af00; text-decoration-color: #00af00\">64</span>)               │            │                   │\n",
              "├─────────────────────┼───────────────────┼────────────┼───────────────────┤\n",
              "│ max_pooling2d_8     │ (<span style=\"color: #00d7ff; text-decoration-color: #00d7ff\">None</span>, <span style=\"color: #00af00; text-decoration-color: #00af00\">32</span>, <span style=\"color: #00af00; text-decoration-color: #00af00\">16</span>,    │          <span style=\"color: #00af00; text-decoration-color: #00af00\">0</span> │ batch_normalizat… │\n",
              "│ (<span style=\"color: #0087ff; text-decoration-color: #0087ff\">MaxPooling2D</span>)      │ <span style=\"color: #00af00; text-decoration-color: #00af00\">64</span>)               │            │                   │\n",
              "├─────────────────────┼───────────────────┼────────────┼───────────────────┤\n",
              "│ time_distributed_2  │ (<span style=\"color: #00d7ff; text-decoration-color: #00d7ff\">None</span>, <span style=\"color: #00af00; text-decoration-color: #00af00\">32</span>, <span style=\"color: #00af00; text-decoration-color: #00af00\">1024</span>)  │          <span style=\"color: #00af00; text-decoration-color: #00af00\">0</span> │ max_pooling2d_8[<span style=\"color: #00af00; text-decoration-color: #00af00\">…</span> │\n",
              "│ (<span style=\"color: #0087ff; text-decoration-color: #0087ff\">TimeDistributed</span>)   │                   │            │                   │\n",
              "├─────────────────────┼───────────────────┼────────────┼───────────────────┤\n",
              "│ bidirectional_3     │ (<span style=\"color: #00d7ff; text-decoration-color: #00d7ff\">None</span>, <span style=\"color: #00af00; text-decoration-color: #00af00\">32</span>, <span style=\"color: #00af00; text-decoration-color: #00af00\">256</span>)   │    <span style=\"color: #00af00; text-decoration-color: #00af00\">886,272</span> │ time_distributed… │\n",
              "│ (<span style=\"color: #0087ff; text-decoration-color: #0087ff\">Bidirectional</span>)     │                   │            │                   │\n",
              "├─────────────────────┼───────────────────┼────────────┼───────────────────┤\n",
              "│ dropout_12          │ (<span style=\"color: #00d7ff; text-decoration-color: #00d7ff\">None</span>, <span style=\"color: #00af00; text-decoration-color: #00af00\">32</span>, <span style=\"color: #00af00; text-decoration-color: #00af00\">256</span>)   │          <span style=\"color: #00af00; text-decoration-color: #00af00\">0</span> │ bidirectional_3[<span style=\"color: #00af00; text-decoration-color: #00af00\">…</span> │\n",
              "│ (<span style=\"color: #0087ff; text-decoration-color: #0087ff\">Dropout</span>)           │                   │            │                   │\n",
              "├─────────────────────┼───────────────────┼────────────┼───────────────────┤\n",
              "│ dense_12 (<span style=\"color: #0087ff; text-decoration-color: #0087ff\">Dense</span>)    │ (<span style=\"color: #00d7ff; text-decoration-color: #00d7ff\">None</span>, <span style=\"color: #00af00; text-decoration-color: #00af00\">32</span>, <span style=\"color: #00af00; text-decoration-color: #00af00\">1</span>)     │        <span style=\"color: #00af00; text-decoration-color: #00af00\">257</span> │ dropout_12[<span style=\"color: #00af00; text-decoration-color: #00af00\">0</span>][<span style=\"color: #00af00; text-decoration-color: #00af00\">0</span>]  │\n",
              "├─────────────────────┼───────────────────┼────────────┼───────────────────┤\n",
              "│ softmax_3 (<span style=\"color: #0087ff; text-decoration-color: #0087ff\">Softmax</span>) │ (<span style=\"color: #00d7ff; text-decoration-color: #00d7ff\">None</span>, <span style=\"color: #00af00; text-decoration-color: #00af00\">32</span>, <span style=\"color: #00af00; text-decoration-color: #00af00\">1</span>)     │          <span style=\"color: #00af00; text-decoration-color: #00af00\">0</span> │ dense_12[<span style=\"color: #00af00; text-decoration-color: #00af00\">0</span>][<span style=\"color: #00af00; text-decoration-color: #00af00\">0</span>]    │\n",
              "├─────────────────────┼───────────────────┼────────────┼───────────────────┤\n",
              "│ dot_3 (<span style=\"color: #0087ff; text-decoration-color: #0087ff\">Dot</span>)         │ (<span style=\"color: #00d7ff; text-decoration-color: #00d7ff\">None</span>, <span style=\"color: #00af00; text-decoration-color: #00af00\">1</span>, <span style=\"color: #00af00; text-decoration-color: #00af00\">256</span>)    │          <span style=\"color: #00af00; text-decoration-color: #00af00\">0</span> │ softmax_3[<span style=\"color: #00af00; text-decoration-color: #00af00\">0</span>][<span style=\"color: #00af00; text-decoration-color: #00af00\">0</span>],  │\n",
              "│                     │                   │            │ dropout_12[<span style=\"color: #00af00; text-decoration-color: #00af00\">0</span>][<span style=\"color: #00af00; text-decoration-color: #00af00\">0</span>]  │\n",
              "├─────────────────────┼───────────────────┼────────────┼───────────────────┤\n",
              "│ flatten_6 (<span style=\"color: #0087ff; text-decoration-color: #0087ff\">Flatten</span>) │ (<span style=\"color: #00d7ff; text-decoration-color: #00d7ff\">None</span>, <span style=\"color: #00af00; text-decoration-color: #00af00\">256</span>)       │          <span style=\"color: #00af00; text-decoration-color: #00af00\">0</span> │ dot_3[<span style=\"color: #00af00; text-decoration-color: #00af00\">0</span>][<span style=\"color: #00af00; text-decoration-color: #00af00\">0</span>]       │\n",
              "├─────────────────────┼───────────────────┼────────────┼───────────────────┤\n",
              "│ dense_13 (<span style=\"color: #0087ff; text-decoration-color: #0087ff\">Dense</span>)    │ (<span style=\"color: #00d7ff; text-decoration-color: #00d7ff\">None</span>, <span style=\"color: #00af00; text-decoration-color: #00af00\">128</span>)       │     <span style=\"color: #00af00; text-decoration-color: #00af00\">32,896</span> │ flatten_6[<span style=\"color: #00af00; text-decoration-color: #00af00\">0</span>][<span style=\"color: #00af00; text-decoration-color: #00af00\">0</span>]   │\n",
              "├─────────────────────┼───────────────────┼────────────┼───────────────────┤\n",
              "│ dropout_13          │ (<span style=\"color: #00d7ff; text-decoration-color: #00d7ff\">None</span>, <span style=\"color: #00af00; text-decoration-color: #00af00\">128</span>)       │          <span style=\"color: #00af00; text-decoration-color: #00af00\">0</span> │ dense_13[<span style=\"color: #00af00; text-decoration-color: #00af00\">0</span>][<span style=\"color: #00af00; text-decoration-color: #00af00\">0</span>]    │\n",
              "│ (<span style=\"color: #0087ff; text-decoration-color: #0087ff\">Dropout</span>)           │                   │            │                   │\n",
              "├─────────────────────┼───────────────────┼────────────┼───────────────────┤\n",
              "│ dense_14 (<span style=\"color: #0087ff; text-decoration-color: #0087ff\">Dense</span>)    │ (<span style=\"color: #00d7ff; text-decoration-color: #00d7ff\">None</span>, <span style=\"color: #00af00; text-decoration-color: #00af00\">10</span>)        │      <span style=\"color: #00af00; text-decoration-color: #00af00\">1,290</span> │ dropout_13[<span style=\"color: #00af00; text-decoration-color: #00af00\">0</span>][<span style=\"color: #00af00; text-decoration-color: #00af00\">0</span>]  │\n",
              "└─────────────────────┴───────────────────┴────────────┴───────────────────┘\n",
              "</pre>\n"
            ]
          },
          "metadata": {}
        },
        {
          "output_type": "display_data",
          "data": {
            "text/plain": [
              "\u001b[1m Total params: \u001b[0m\u001b[38;5;34m939,915\u001b[0m (3.59 MB)\n"
            ],
            "text/html": [
              "<pre style=\"white-space:pre;overflow-x:auto;line-height:normal;font-family:Menlo,'DejaVu Sans Mono',consolas,'Courier New',monospace\"><span style=\"font-weight: bold\"> Total params: </span><span style=\"color: #00af00; text-decoration-color: #00af00\">939,915</span> (3.59 MB)\n",
              "</pre>\n"
            ]
          },
          "metadata": {}
        },
        {
          "output_type": "display_data",
          "data": {
            "text/plain": [
              "\u001b[1m Trainable params: \u001b[0m\u001b[38;5;34m939,723\u001b[0m (3.58 MB)\n"
            ],
            "text/html": [
              "<pre style=\"white-space:pre;overflow-x:auto;line-height:normal;font-family:Menlo,'DejaVu Sans Mono',consolas,'Courier New',monospace\"><span style=\"font-weight: bold\"> Trainable params: </span><span style=\"color: #00af00; text-decoration-color: #00af00\">939,723</span> (3.58 MB)\n",
              "</pre>\n"
            ]
          },
          "metadata": {}
        },
        {
          "output_type": "display_data",
          "data": {
            "text/plain": [
              "\u001b[1m Non-trainable params: \u001b[0m\u001b[38;5;34m192\u001b[0m (768.00 B)\n"
            ],
            "text/html": [
              "<pre style=\"white-space:pre;overflow-x:auto;line-height:normal;font-family:Menlo,'DejaVu Sans Mono',consolas,'Courier New',monospace\"><span style=\"font-weight: bold\"> Non-trainable params: </span><span style=\"color: #00af00; text-decoration-color: #00af00\">192</span> (768.00 B)\n",
              "</pre>\n"
            ]
          },
          "metadata": {}
        }
      ]
    },
    {
      "cell_type": "code",
      "source": [
        "from sklearn.model_selection import train_test_split\n",
        "\n",
        "X_train, X_val, y_train, y_val = train_test_split(\n",
        "    inputs, targets,\n",
        "    test_size=0.3,\n",
        "    random_state=42,\n",
        "    stratify=targets\n",
        ")\n",
        "print(\"X_train:\", X_train.shape, \"X_val:\", X_val.shape)\n",
        "\n"
      ],
      "metadata": {
        "id": "3sveLnBrJY9X",
        "colab": {
          "base_uri": "https://localhost:8080/"
        },
        "outputId": "1a7ba5dd-b53d-4856-c17a-e68996afc372"
      },
      "execution_count": 47,
      "outputs": [
        {
          "output_type": "stream",
          "name": "stdout",
          "text": [
            "X_train: (6990, 130, 13) X_val: (2996, 130, 13)\n"
          ]
        }
      ]
    },
    {
      "cell_type": "code",
      "source": [
        "model = build_crnn_attention(input_shape=(130,13,1), num_classes=10)\n",
        "from tensorflow.keras import optimizers\n",
        "model.compile(\n",
        "    optimizer=optimizers.Adam(learning_rate=1e-4),\n",
        "    loss='sparse_categorical_crossentropy',\n",
        "    metrics=['accuracy']\n",
        ")\n"
      ],
      "metadata": {
        "id": "7fGl3E8iJspN"
      },
      "execution_count": 48,
      "outputs": []
    },
    {
      "cell_type": "code",
      "source": [
        "history = model.fit(\n",
        "    X_train, y_train,\n",
        "    validation_data=(X_val, y_val),\n",
        "    epochs=40,\n",
        "    batch_size=32,\n",
        "    callbacks=[\n",
        "        tf.keras.callbacks.ReduceLROnPlateau(monitor='val_loss', factor=0.5, patience=3),\n",
        "        tf.keras.callbacks.EarlyStopping(monitor='val_loss', patience=7, restore_best_weights=True)\n",
        "    ]\n",
        ")\n"
      ],
      "metadata": {
        "id": "uEmSkHA6K62j",
        "colab": {
          "base_uri": "https://localhost:8080/"
        },
        "outputId": "52f2b2e3-f9e4-49d7-b1b3-f4088a2f2933"
      },
      "execution_count": 49,
      "outputs": [
        {
          "output_type": "stream",
          "name": "stdout",
          "text": [
            "Epoch 1/40\n",
            "\u001b[1m219/219\u001b[0m \u001b[32m━━━━━━━━━━━━━━━━━━━━\u001b[0m\u001b[37m\u001b[0m \u001b[1m11s\u001b[0m 18ms/step - accuracy: 0.3137 - loss: 1.9514 - val_accuracy: 0.4933 - val_loss: 1.4706 - learning_rate: 1.0000e-04\n",
            "Epoch 2/40\n",
            "\u001b[1m219/219\u001b[0m \u001b[32m━━━━━━━━━━━━━━━━━━━━\u001b[0m\u001b[37m\u001b[0m \u001b[1m3s\u001b[0m 15ms/step - accuracy: 0.5092 - loss: 1.3697 - val_accuracy: 0.6045 - val_loss: 1.1700 - learning_rate: 1.0000e-04\n",
            "Epoch 3/40\n",
            "\u001b[1m219/219\u001b[0m \u001b[32m━━━━━━━━━━━━━━━━━━━━\u001b[0m\u001b[37m\u001b[0m \u001b[1m4s\u001b[0m 17ms/step - accuracy: 0.5672 - loss: 1.2176 - val_accuracy: 0.6429 - val_loss: 1.0149 - learning_rate: 1.0000e-04\n",
            "Epoch 4/40\n",
            "\u001b[1m219/219\u001b[0m \u001b[32m━━━━━━━━━━━━━━━━━━━━\u001b[0m\u001b[37m\u001b[0m \u001b[1m4s\u001b[0m 17ms/step - accuracy: 0.6223 - loss: 1.0910 - val_accuracy: 0.6986 - val_loss: 0.9202 - learning_rate: 1.0000e-04\n",
            "Epoch 5/40\n",
            "\u001b[1m219/219\u001b[0m \u001b[32m━━━━━━━━━━━━━━━━━━━━\u001b[0m\u001b[37m\u001b[0m \u001b[1m3s\u001b[0m 15ms/step - accuracy: 0.6551 - loss: 0.9968 - val_accuracy: 0.7377 - val_loss: 0.8223 - learning_rate: 1.0000e-04\n",
            "Epoch 6/40\n",
            "\u001b[1m219/219\u001b[0m \u001b[32m━━━━━━━━━━━━━━━━━━━━\u001b[0m\u001b[37m\u001b[0m \u001b[1m5s\u001b[0m 15ms/step - accuracy: 0.6983 - loss: 0.9132 - val_accuracy: 0.7517 - val_loss: 0.7711 - learning_rate: 1.0000e-04\n",
            "Epoch 7/40\n",
            "\u001b[1m219/219\u001b[0m \u001b[32m━━━━━━━━━━━━━━━━━━━━\u001b[0m\u001b[37m\u001b[0m \u001b[1m5s\u001b[0m 15ms/step - accuracy: 0.7162 - loss: 0.8507 - val_accuracy: 0.7664 - val_loss: 0.7160 - learning_rate: 1.0000e-04\n",
            "Epoch 8/40\n",
            "\u001b[1m219/219\u001b[0m \u001b[32m━━━━━━━━━━━━━━━━━━━━\u001b[0m\u001b[37m\u001b[0m \u001b[1m3s\u001b[0m 14ms/step - accuracy: 0.7359 - loss: 0.7799 - val_accuracy: 0.7707 - val_loss: 0.6975 - learning_rate: 1.0000e-04\n",
            "Epoch 9/40\n",
            "\u001b[1m219/219\u001b[0m \u001b[32m━━━━━━━━━━━━━━━━━━━━\u001b[0m\u001b[37m\u001b[0m \u001b[1m3s\u001b[0m 15ms/step - accuracy: 0.7569 - loss: 0.7392 - val_accuracy: 0.8011 - val_loss: 0.6337 - learning_rate: 1.0000e-04\n",
            "Epoch 10/40\n",
            "\u001b[1m219/219\u001b[0m \u001b[32m━━━━━━━━━━━━━━━━━━━━\u001b[0m\u001b[37m\u001b[0m \u001b[1m4s\u001b[0m 19ms/step - accuracy: 0.7700 - loss: 0.6867 - val_accuracy: 0.8037 - val_loss: 0.6131 - learning_rate: 1.0000e-04\n",
            "Epoch 11/40\n",
            "\u001b[1m219/219\u001b[0m \u001b[32m━━━━━━━━━━━━━━━━━━━━\u001b[0m\u001b[37m\u001b[0m \u001b[1m4s\u001b[0m 15ms/step - accuracy: 0.7860 - loss: 0.6396 - val_accuracy: 0.8094 - val_loss: 0.5900 - learning_rate: 1.0000e-04\n",
            "Epoch 12/40\n",
            "\u001b[1m219/219\u001b[0m \u001b[32m━━━━━━━━━━━━━━━━━━━━\u001b[0m\u001b[37m\u001b[0m \u001b[1m3s\u001b[0m 15ms/step - accuracy: 0.8062 - loss: 0.5825 - val_accuracy: 0.8101 - val_loss: 0.5692 - learning_rate: 1.0000e-04\n",
            "Epoch 13/40\n",
            "\u001b[1m219/219\u001b[0m \u001b[32m━━━━━━━━━━━━━━━━━━━━\u001b[0m\u001b[37m\u001b[0m \u001b[1m6s\u001b[0m 19ms/step - accuracy: 0.8079 - loss: 0.5779 - val_accuracy: 0.8138 - val_loss: 0.5557 - learning_rate: 1.0000e-04\n",
            "Epoch 14/40\n",
            "\u001b[1m219/219\u001b[0m \u001b[32m━━━━━━━━━━━━━━━━━━━━\u001b[0m\u001b[37m\u001b[0m \u001b[1m4s\u001b[0m 16ms/step - accuracy: 0.8112 - loss: 0.5638 - val_accuracy: 0.8164 - val_loss: 0.5365 - learning_rate: 1.0000e-04\n",
            "Epoch 15/40\n",
            "\u001b[1m219/219\u001b[0m \u001b[32m━━━━━━━━━━━━━━━━━━━━\u001b[0m\u001b[37m\u001b[0m \u001b[1m3s\u001b[0m 15ms/step - accuracy: 0.8366 - loss: 0.4946 - val_accuracy: 0.8358 - val_loss: 0.4970 - learning_rate: 1.0000e-04\n",
            "Epoch 16/40\n",
            "\u001b[1m219/219\u001b[0m \u001b[32m━━━━━━━━━━━━━━━━━━━━\u001b[0m\u001b[37m\u001b[0m \u001b[1m7s\u001b[0m 22ms/step - accuracy: 0.8444 - loss: 0.4738 - val_accuracy: 0.8471 - val_loss: 0.4770 - learning_rate: 1.0000e-04\n",
            "Epoch 17/40\n",
            "\u001b[1m219/219\u001b[0m \u001b[32m━━━━━━━━━━━━━━━━━━━━\u001b[0m\u001b[37m\u001b[0m \u001b[1m3s\u001b[0m 15ms/step - accuracy: 0.8511 - loss: 0.4602 - val_accuracy: 0.8441 - val_loss: 0.4862 - learning_rate: 1.0000e-04\n",
            "Epoch 18/40\n",
            "\u001b[1m219/219\u001b[0m \u001b[32m━━━━━━━━━━━━━━━━━━━━\u001b[0m\u001b[37m\u001b[0m \u001b[1m5s\u001b[0m 15ms/step - accuracy: 0.8618 - loss: 0.4258 - val_accuracy: 0.8371 - val_loss: 0.4689 - learning_rate: 1.0000e-04\n",
            "Epoch 19/40\n",
            "\u001b[1m219/219\u001b[0m \u001b[32m━━━━━━━━━━━━━━━━━━━━\u001b[0m\u001b[37m\u001b[0m \u001b[1m6s\u001b[0m 18ms/step - accuracy: 0.8655 - loss: 0.3953 - val_accuracy: 0.8415 - val_loss: 0.4658 - learning_rate: 1.0000e-04\n",
            "Epoch 20/40\n",
            "\u001b[1m219/219\u001b[0m \u001b[32m━━━━━━━━━━━━━━━━━━━━\u001b[0m\u001b[37m\u001b[0m \u001b[1m4s\u001b[0m 15ms/step - accuracy: 0.8686 - loss: 0.3848 - val_accuracy: 0.8485 - val_loss: 0.4583 - learning_rate: 1.0000e-04\n",
            "Epoch 21/40\n",
            "\u001b[1m219/219\u001b[0m \u001b[32m━━━━━━━━━━━━━━━━━━━━\u001b[0m\u001b[37m\u001b[0m \u001b[1m6s\u001b[0m 17ms/step - accuracy: 0.8860 - loss: 0.3521 - val_accuracy: 0.8441 - val_loss: 0.4532 - learning_rate: 1.0000e-04\n",
            "Epoch 22/40\n",
            "\u001b[1m219/219\u001b[0m \u001b[32m━━━━━━━━━━━━━━━━━━━━\u001b[0m\u001b[37m\u001b[0m \u001b[1m4s\u001b[0m 18ms/step - accuracy: 0.8901 - loss: 0.3287 - val_accuracy: 0.8632 - val_loss: 0.4204 - learning_rate: 1.0000e-04\n",
            "Epoch 23/40\n",
            "\u001b[1m219/219\u001b[0m \u001b[32m━━━━━━━━━━━━━━━━━━━━\u001b[0m\u001b[37m\u001b[0m \u001b[1m5s\u001b[0m 16ms/step - accuracy: 0.8976 - loss: 0.3219 - val_accuracy: 0.8642 - val_loss: 0.4053 - learning_rate: 1.0000e-04\n",
            "Epoch 24/40\n",
            "\u001b[1m219/219\u001b[0m \u001b[32m━━━━━━━━━━━━━━━━━━━━\u001b[0m\u001b[37m\u001b[0m \u001b[1m6s\u001b[0m 17ms/step - accuracy: 0.8986 - loss: 0.3115 - val_accuracy: 0.8555 - val_loss: 0.4078 - learning_rate: 1.0000e-04\n",
            "Epoch 25/40\n",
            "\u001b[1m219/219\u001b[0m \u001b[32m━━━━━━━━━━━━━━━━━━━━\u001b[0m\u001b[37m\u001b[0m \u001b[1m5s\u001b[0m 15ms/step - accuracy: 0.9078 - loss: 0.2893 - val_accuracy: 0.8615 - val_loss: 0.4071 - learning_rate: 1.0000e-04\n",
            "Epoch 26/40\n",
            "\u001b[1m219/219\u001b[0m \u001b[32m━━━━━━━━━━━━━━━━━━━━\u001b[0m\u001b[37m\u001b[0m \u001b[1m5s\u001b[0m 15ms/step - accuracy: 0.9193 - loss: 0.2543 - val_accuracy: 0.8662 - val_loss: 0.3928 - learning_rate: 1.0000e-04\n",
            "Epoch 27/40\n",
            "\u001b[1m219/219\u001b[0m \u001b[32m━━━━━━━━━━━━━━━━━━━━\u001b[0m\u001b[37m\u001b[0m \u001b[1m4s\u001b[0m 17ms/step - accuracy: 0.9218 - loss: 0.2371 - val_accuracy: 0.8531 - val_loss: 0.4360 - learning_rate: 1.0000e-04\n",
            "Epoch 28/40\n",
            "\u001b[1m219/219\u001b[0m \u001b[32m━━━━━━━━━━━━━━━━━━━━\u001b[0m\u001b[37m\u001b[0m \u001b[1m4s\u001b[0m 17ms/step - accuracy: 0.9244 - loss: 0.2357 - val_accuracy: 0.8758 - val_loss: 0.3719 - learning_rate: 1.0000e-04\n",
            "Epoch 29/40\n",
            "\u001b[1m219/219\u001b[0m \u001b[32m━━━━━━━━━━━━━━━━━━━━\u001b[0m\u001b[37m\u001b[0m \u001b[1m5s\u001b[0m 15ms/step - accuracy: 0.9314 - loss: 0.2100 - val_accuracy: 0.8685 - val_loss: 0.3903 - learning_rate: 1.0000e-04\n",
            "Epoch 30/40\n",
            "\u001b[1m219/219\u001b[0m \u001b[32m━━━━━━━━━━━━━━━━━━━━\u001b[0m\u001b[37m\u001b[0m \u001b[1m3s\u001b[0m 15ms/step - accuracy: 0.9366 - loss: 0.1883 - val_accuracy: 0.8608 - val_loss: 0.4227 - learning_rate: 1.0000e-04\n",
            "Epoch 31/40\n",
            "\u001b[1m219/219\u001b[0m \u001b[32m━━━━━━━━━━━━━━━━━━━━\u001b[0m\u001b[37m\u001b[0m \u001b[1m5s\u001b[0m 15ms/step - accuracy: 0.9392 - loss: 0.1850 - val_accuracy: 0.8712 - val_loss: 0.3874 - learning_rate: 1.0000e-04\n",
            "Epoch 32/40\n",
            "\u001b[1m219/219\u001b[0m \u001b[32m━━━━━━━━━━━━━━━━━━━━\u001b[0m\u001b[37m\u001b[0m \u001b[1m5s\u001b[0m 15ms/step - accuracy: 0.9460 - loss: 0.1625 - val_accuracy: 0.8768 - val_loss: 0.3664 - learning_rate: 5.0000e-05\n",
            "Epoch 33/40\n",
            "\u001b[1m219/219\u001b[0m \u001b[32m━━━━━━━━━━━━━━━━━━━━\u001b[0m\u001b[37m\u001b[0m \u001b[1m6s\u001b[0m 20ms/step - accuracy: 0.9562 - loss: 0.1440 - val_accuracy: 0.8772 - val_loss: 0.3682 - learning_rate: 5.0000e-05\n",
            "Epoch 34/40\n",
            "\u001b[1m219/219\u001b[0m \u001b[32m━━━━━━━━━━━━━━━━━━━━\u001b[0m\u001b[37m\u001b[0m \u001b[1m4s\u001b[0m 15ms/step - accuracy: 0.9590 - loss: 0.1354 - val_accuracy: 0.8775 - val_loss: 0.3636 - learning_rate: 5.0000e-05\n",
            "Epoch 35/40\n",
            "\u001b[1m219/219\u001b[0m \u001b[32m━━━━━━━━━━━━━━━━━━━━\u001b[0m\u001b[37m\u001b[0m \u001b[1m3s\u001b[0m 15ms/step - accuracy: 0.9635 - loss: 0.1210 - val_accuracy: 0.8705 - val_loss: 0.3953 - learning_rate: 5.0000e-05\n",
            "Epoch 36/40\n",
            "\u001b[1m219/219\u001b[0m \u001b[32m━━━━━━━━━━━━━━━━━━━━\u001b[0m\u001b[37m\u001b[0m \u001b[1m3s\u001b[0m 16ms/step - accuracy: 0.9568 - loss: 0.1400 - val_accuracy: 0.8778 - val_loss: 0.3824 - learning_rate: 5.0000e-05\n",
            "Epoch 37/40\n",
            "\u001b[1m219/219\u001b[0m \u001b[32m━━━━━━━━━━━━━━━━━━━━\u001b[0m\u001b[37m\u001b[0m \u001b[1m5s\u001b[0m 16ms/step - accuracy: 0.9638 - loss: 0.1241 - val_accuracy: 0.8855 - val_loss: 0.3585 - learning_rate: 5.0000e-05\n",
            "Epoch 38/40\n",
            "\u001b[1m219/219\u001b[0m \u001b[32m━━━━━━━━━━━━━━━━━━━━\u001b[0m\u001b[37m\u001b[0m \u001b[1m3s\u001b[0m 14ms/step - accuracy: 0.9715 - loss: 0.0995 - val_accuracy: 0.8752 - val_loss: 0.3830 - learning_rate: 5.0000e-05\n",
            "Epoch 39/40\n",
            "\u001b[1m219/219\u001b[0m \u001b[32m━━━━━━━━━━━━━━━━━━━━\u001b[0m\u001b[37m\u001b[0m \u001b[1m6s\u001b[0m 18ms/step - accuracy: 0.9679 - loss: 0.1088 - val_accuracy: 0.8828 - val_loss: 0.3654 - learning_rate: 5.0000e-05\n",
            "Epoch 40/40\n",
            "\u001b[1m219/219\u001b[0m \u001b[32m━━━━━━━━━━━━━━━━━━━━\u001b[0m\u001b[37m\u001b[0m \u001b[1m4s\u001b[0m 16ms/step - accuracy: 0.9718 - loss: 0.0985 - val_accuracy: 0.8718 - val_loss: 0.3908 - learning_rate: 5.0000e-05\n"
          ]
        }
      ]
    },
    {
      "cell_type": "code",
      "source": [
        "import numpy as np\n",
        "\n",
        "# Приведём X_test и y_test к NumPy, если это не так\n",
        "X_test = np.array(X_test)\n",
        "y_test = np.array(y_test)\n",
        "\n",
        "print(\"X_test type:\", type(X_test))\n",
        "print(\"X_test shape:\", X_test.shape)\n"
      ],
      "metadata": {
        "colab": {
          "base_uri": "https://localhost:8080/"
        },
        "id": "CwW6fY8HqDhL",
        "outputId": "14462bf0-e5eb-47e3-b343-9fc7b5241698"
      },
      "execution_count": 51,
      "outputs": [
        {
          "output_type": "stream",
          "name": "stdout",
          "text": [
            "X_test type: <class 'numpy.ndarray'>\n",
            "X_test shape: (2497, 130, 13, 1)\n"
          ]
        }
      ]
    },
    {
      "cell_type": "code",
      "source": [
        "import numpy as np\n",
        "\n",
        "X_test_rnn = np.squeeze(X_test, axis=-1)\n",
        "\n",
        "print(\"X_test_rnn shape:\", X_test_rnn.shape)\n",
        "\n",
        "test_loss, test_accuracy = model.evaluate(X_test_rnn, y_test, verbose=2)\n",
        "print(f\"\\n✅ Test loss: {test_loss:.4f}\")\n",
        "print(f\"✅ Test accuracy: {test_accuracy:.4f}\")"
      ],
      "metadata": {
        "id": "gmLJfZluLFki",
        "colab": {
          "base_uri": "https://localhost:8080/"
        },
        "outputId": "a8d65de3-eb1f-4f8e-9383-ffb3fd85bece"
      },
      "execution_count": 52,
      "outputs": [
        {
          "output_type": "stream",
          "name": "stdout",
          "text": [
            "X_test_rnn shape: (2497, 130, 13)\n",
            "79/79 - 0s - 6ms/step - accuracy: 0.9600 - loss: 0.1426\n",
            "\n",
            "✅ Test loss: 0.1426\n",
            "✅ Test accuracy: 0.9600\n"
          ]
        }
      ]
    },
    {
      "cell_type": "code",
      "source": [
        "model.save('genre_crnn_attention.h5')\n",
        "print(\"Модель сохранена в файл genre_crnn_attention.h5\")"
      ],
      "metadata": {
        "id": "m-dx4xC3L1i4",
        "colab": {
          "base_uri": "https://localhost:8080/"
        },
        "outputId": "f68caa05-373e-4d4e-acce-9be0f4d1ad58"
      },
      "execution_count": 53,
      "outputs": [
        {
          "output_type": "stream",
          "name": "stderr",
          "text": [
            "WARNING:absl:You are saving your model as an HDF5 file via `model.save()` or `keras.saving.save_model(model)`. This file format is considered legacy. We recommend using instead the native Keras format, e.g. `model.save('my_model.keras')` or `keras.saving.save_model(model, 'my_model.keras')`. \n"
          ]
        },
        {
          "output_type": "stream",
          "name": "stdout",
          "text": [
            "Модель сохранена в файл genre_crnn_attention.h5\n"
          ]
        }
      ]
    },
    {
      "cell_type": "code",
      "source": [
        "import numpy as np\n",
        "import librosa\n",
        "import tensorflow as tf\n",
        "from tensorflow.keras import layers, models, optimizers\n",
        "\n",
        "# ===============================\n",
        "# 1. Feature Extraction Function\n",
        "# ===============================\n",
        "\n",
        "def extract_features_from_file(file_path, sr=22050, duration=30, n_mfcc=13, hop_length=512):\n",
        "    try:\n",
        "        signal, _ = librosa.load(file_path, sr=sr, duration=duration)\n",
        "        if len(signal) < sr * duration:\n",
        "            pad_length = sr * duration - len(signal)\n",
        "            signal = np.pad(signal, (0, pad_length), mode='constant')\n",
        "\n",
        "        # MFCC\n",
        "        mfcc = librosa.feature.mfcc(signal, sr=sr, n_mfcc=n_mfcc, hop_length=hop_length)\n",
        "        mfcc = mfcc[:130, :]  # ensure consistent shape\n",
        "\n",
        "        # Chroma\n",
        "        chroma = librosa.feature.chroma_stft(y=signal, sr=sr, hop_length=hop_length)\n",
        "        chroma = chroma[:130, :]\n",
        "\n",
        "        # Zero Crossing Rate\n",
        "        zcr = librosa.feature.zero_crossing_rate(y=signal, hop_length=hop_length)\n",
        "        zcr = zcr[:, :130]\n",
        "\n",
        "        # Concatenate\n",
        "        features = np.concatenate((mfcc, chroma, zcr), axis=0)\n",
        "        features = features.T[:130, :]  # (time, features)\n",
        "\n",
        "        return features\n",
        "\n",
        "    except Exception as e:\n",
        "        print(f\"Error processing {file_path}: {e}\")\n",
        "        return None\n",
        "\n",
        "# ===============================\n",
        "# 2. Model Architecture\n",
        "# ===============================\n",
        "\n",
        "def build_crnn_attention(input_shape, num_classes):\n",
        "    inputs = layers.Input(shape=input_shape)\n",
        "\n",
        "    x = layers.Reshape((input_shape[0], input_shape[1], 1))(inputs)\n",
        "\n",
        "    x = layers.Conv2D(32, (3, 3), activation='relu', padding='same')(x)\n",
        "    x = layers.BatchNormalization()(x)\n",
        "    x = layers.MaxPool2D((2, 2))(x)\n",
        "\n",
        "    x = layers.Conv2D(64, (3, 3), activation='relu', padding='same')(x)\n",
        "    x = layers.BatchNormalization()(x)\n",
        "    x = layers.MaxPool2D((2, 2))(x)\n",
        "\n",
        "    x = layers.Conv2D(128, (3, 3), activation='relu', padding='same')(x)\n",
        "    x = layers.BatchNormalization()(x)\n",
        "    x = layers.MaxPool2D((2, 2))(x)\n",
        "\n",
        "    shape = x.shape\n",
        "    x = layers.Reshape((shape[1], -1))(x)\n",
        "\n",
        "    x = layers.Bidirectional(layers.GRU(128, return_sequences=True))(x)\n",
        "    x = layers.Dropout(0.3)(x)\n",
        "\n",
        "    # Attention\n",
        "    scores = layers.Dense(1)(x)\n",
        "    weights = layers.Softmax(axis=1)(scores)\n",
        "    context = layers.Dot(axes=1)([weights, x])\n",
        "    context = layers.Flatten()(context)\n",
        "\n",
        "    x = layers.Dense(128, activation='relu')(context)\n",
        "    x = layers.Dropout(0.3)(x)\n",
        "    outputs = layers.Dense(num_classes, activation='softmax')(x)\n",
        "\n",
        "    model = models.Model(inputs, outputs)\n",
        "    return model\n"
      ],
      "metadata": {
        "id": "YhIjKJ1_Lrk_"
      },
      "execution_count": 38,
      "outputs": []
    },
    {
      "cell_type": "code",
      "source": [
        "X_train = np.squeeze(X_train)\n",
        "X_val = np.squeeze(X_val)\n",
        "\n",
        "# Добавим только один канал (если нужно)\n",
        "if X_train.ndim == 3:  # (samples, 130, 13)\n",
        "    X_train = X_train[..., np.newaxis]  # => (samples, 130, 13, 1)\n",
        "    X_val = X_val[..., np.newaxis]\n",
        "\n",
        "# Создание модели\n",
        "input_shape = (130, 13, 1)\n",
        "model = build_crnn_attention(input_shape=input_shape, num_classes=10)\n",
        "\n",
        "# Компиляция\n",
        "model.compile(\n",
        "    optimizer=optimizers.Adam(learning_rate=1e-4),\n",
        "    loss='sparse_categorical_crossentropy',\n",
        "    metrics=['accuracy']\n",
        ")\n",
        "\n",
        "# Обучение\n",
        "history = model.fit(\n",
        "    X_train, y_train,\n",
        "    validation_data=(X_val, y_val),\n",
        "    epochs=40,\n",
        "    batch_size=32,\n",
        "    callbacks=[\n",
        "        tf.keras.callbacks.ReduceLROnPlateau(monitor='val_loss', factor=0.5, patience=3, verbose=1),\n",
        "        tf.keras.callbacks.EarlyStopping(monitor='val_loss', patience=7, restore_best_weights=True, verbose=1),\n",
        "        tf.keras.callbacks.ModelCheckpoint(filepath='best_model.h5', monitor='val_loss', save_best_only=True, verbose=1)\n",
        "    ],\n",
        "    verbose=2\n",
        ")\n"
      ],
      "metadata": {
        "id": "H_rG5FfoLryg",
        "colab": {
          "base_uri": "https://localhost:8080/"
        },
        "outputId": "f1abc37d-b129-4beb-831a-d5a1226cf039"
      },
      "execution_count": 39,
      "outputs": [
        {
          "output_type": "stream",
          "name": "stdout",
          "text": [
            "Epoch 1/40\n",
            "\n",
            "Epoch 1: val_loss improved from inf to 1.41860, saving model to best_model.h5\n"
          ]
        },
        {
          "output_type": "stream",
          "name": "stderr",
          "text": [
            "WARNING:absl:You are saving your model as an HDF5 file via `model.save()` or `keras.saving.save_model(model)`. This file format is considered legacy. We recommend using instead the native Keras format, e.g. `model.save('my_model.keras')` or `keras.saving.save_model(model, 'my_model.keras')`. \n"
          ]
        },
        {
          "output_type": "stream",
          "name": "stdout",
          "text": [
            "219/219 - 9s - 41ms/step - accuracy: 0.4303 - loss: 1.6373 - val_accuracy: 0.4983 - val_loss: 1.4186 - learning_rate: 1.0000e-04\n",
            "Epoch 2/40\n",
            "\n",
            "Epoch 2: val_loss improved from 1.41860 to 1.07198, saving model to best_model.h5\n"
          ]
        },
        {
          "output_type": "stream",
          "name": "stderr",
          "text": [
            "WARNING:absl:You are saving your model as an HDF5 file via `model.save()` or `keras.saving.save_model(model)`. This file format is considered legacy. We recommend using instead the native Keras format, e.g. `model.save('my_model.keras')` or `keras.saving.save_model(model, 'my_model.keras')`. \n"
          ]
        },
        {
          "output_type": "stream",
          "name": "stdout",
          "text": [
            "219/219 - 4s - 19ms/step - accuracy: 0.5555 - loss: 1.2569 - val_accuracy: 0.6335 - val_loss: 1.0720 - learning_rate: 1.0000e-04\n",
            "Epoch 3/40\n",
            "\n",
            "Epoch 3: val_loss improved from 1.07198 to 0.91479, saving model to best_model.h5\n"
          ]
        },
        {
          "output_type": "stream",
          "name": "stderr",
          "text": [
            "WARNING:absl:You are saving your model as an HDF5 file via `model.save()` or `keras.saving.save_model(model)`. This file format is considered legacy. We recommend using instead the native Keras format, e.g. `model.save('my_model.keras')` or `keras.saving.save_model(model, 'my_model.keras')`. \n"
          ]
        },
        {
          "output_type": "stream",
          "name": "stdout",
          "text": [
            "219/219 - 6s - 28ms/step - accuracy: 0.6328 - loss: 1.0697 - val_accuracy: 0.6933 - val_loss: 0.9148 - learning_rate: 1.0000e-04\n",
            "Epoch 4/40\n",
            "\n",
            "Epoch 4: val_loss improved from 0.91479 to 0.84220, saving model to best_model.h5\n"
          ]
        },
        {
          "output_type": "stream",
          "name": "stderr",
          "text": [
            "WARNING:absl:You are saving your model as an HDF5 file via `model.save()` or `keras.saving.save_model(model)`. This file format is considered legacy. We recommend using instead the native Keras format, e.g. `model.save('my_model.keras')` or `keras.saving.save_model(model, 'my_model.keras')`. \n"
          ]
        },
        {
          "output_type": "stream",
          "name": "stdout",
          "text": [
            "219/219 - 4s - 19ms/step - accuracy: 0.6788 - loss: 0.9403 - val_accuracy: 0.7106 - val_loss: 0.8422 - learning_rate: 1.0000e-04\n",
            "Epoch 5/40\n",
            "\n",
            "Epoch 5: val_loss improved from 0.84220 to 0.73995, saving model to best_model.h5\n"
          ]
        },
        {
          "output_type": "stream",
          "name": "stderr",
          "text": [
            "WARNING:absl:You are saving your model as an HDF5 file via `model.save()` or `keras.saving.save_model(model)`. This file format is considered legacy. We recommend using instead the native Keras format, e.g. `model.save('my_model.keras')` or `keras.saving.save_model(model, 'my_model.keras')`. \n"
          ]
        },
        {
          "output_type": "stream",
          "name": "stdout",
          "text": [
            "219/219 - 3s - 14ms/step - accuracy: 0.7126 - loss: 0.8563 - val_accuracy: 0.7460 - val_loss: 0.7399 - learning_rate: 1.0000e-04\n",
            "Epoch 6/40\n",
            "\n",
            "Epoch 6: val_loss improved from 0.73995 to 0.70281, saving model to best_model.h5\n"
          ]
        },
        {
          "output_type": "stream",
          "name": "stderr",
          "text": [
            "WARNING:absl:You are saving your model as an HDF5 file via `model.save()` or `keras.saving.save_model(model)`. This file format is considered legacy. We recommend using instead the native Keras format, e.g. `model.save('my_model.keras')` or `keras.saving.save_model(model, 'my_model.keras')`. \n"
          ]
        },
        {
          "output_type": "stream",
          "name": "stdout",
          "text": [
            "219/219 - 6s - 28ms/step - accuracy: 0.7422 - loss: 0.7571 - val_accuracy: 0.7647 - val_loss: 0.7028 - learning_rate: 1.0000e-04\n",
            "Epoch 7/40\n",
            "\n",
            "Epoch 7: val_loss improved from 0.70281 to 0.64864, saving model to best_model.h5\n"
          ]
        },
        {
          "output_type": "stream",
          "name": "stderr",
          "text": [
            "WARNING:absl:You are saving your model as an HDF5 file via `model.save()` or `keras.saving.save_model(model)`. This file format is considered legacy. We recommend using instead the native Keras format, e.g. `model.save('my_model.keras')` or `keras.saving.save_model(model, 'my_model.keras')`. \n"
          ]
        },
        {
          "output_type": "stream",
          "name": "stdout",
          "text": [
            "219/219 - 4s - 18ms/step - accuracy: 0.7628 - loss: 0.7026 - val_accuracy: 0.7790 - val_loss: 0.6486 - learning_rate: 1.0000e-04\n",
            "Epoch 8/40\n",
            "\n",
            "Epoch 8: val_loss improved from 0.64864 to 0.63344, saving model to best_model.h5\n"
          ]
        },
        {
          "output_type": "stream",
          "name": "stderr",
          "text": [
            "WARNING:absl:You are saving your model as an HDF5 file via `model.save()` or `keras.saving.save_model(model)`. This file format is considered legacy. We recommend using instead the native Keras format, e.g. `model.save('my_model.keras')` or `keras.saving.save_model(model, 'my_model.keras')`. \n"
          ]
        },
        {
          "output_type": "stream",
          "name": "stdout",
          "text": [
            "219/219 - 5s - 24ms/step - accuracy: 0.7887 - loss: 0.6396 - val_accuracy: 0.7857 - val_loss: 0.6334 - learning_rate: 1.0000e-04\n",
            "Epoch 9/40\n",
            "\n",
            "Epoch 9: val_loss improved from 0.63344 to 0.59493, saving model to best_model.h5\n"
          ]
        },
        {
          "output_type": "stream",
          "name": "stderr",
          "text": [
            "WARNING:absl:You are saving your model as an HDF5 file via `model.save()` or `keras.saving.save_model(model)`. This file format is considered legacy. We recommend using instead the native Keras format, e.g. `model.save('my_model.keras')` or `keras.saving.save_model(model, 'my_model.keras')`. \n"
          ]
        },
        {
          "output_type": "stream",
          "name": "stdout",
          "text": [
            "219/219 - 6s - 26ms/step - accuracy: 0.8096 - loss: 0.5803 - val_accuracy: 0.7977 - val_loss: 0.5949 - learning_rate: 1.0000e-04\n",
            "Epoch 10/40\n",
            "\n",
            "Epoch 10: val_loss improved from 0.59493 to 0.54698, saving model to best_model.h5\n"
          ]
        },
        {
          "output_type": "stream",
          "name": "stderr",
          "text": [
            "WARNING:absl:You are saving your model as an HDF5 file via `model.save()` or `keras.saving.save_model(model)`. This file format is considered legacy. We recommend using instead the native Keras format, e.g. `model.save('my_model.keras')` or `keras.saving.save_model(model, 'my_model.keras')`. \n"
          ]
        },
        {
          "output_type": "stream",
          "name": "stdout",
          "text": [
            "219/219 - 5s - 21ms/step - accuracy: 0.8253 - loss: 0.5245 - val_accuracy: 0.8128 - val_loss: 0.5470 - learning_rate: 1.0000e-04\n",
            "Epoch 11/40\n",
            "\n",
            "Epoch 11: val_loss improved from 0.54698 to 0.52835, saving model to best_model.h5\n"
          ]
        },
        {
          "output_type": "stream",
          "name": "stderr",
          "text": [
            "WARNING:absl:You are saving your model as an HDF5 file via `model.save()` or `keras.saving.save_model(model)`. This file format is considered legacy. We recommend using instead the native Keras format, e.g. `model.save('my_model.keras')` or `keras.saving.save_model(model, 'my_model.keras')`. \n"
          ]
        },
        {
          "output_type": "stream",
          "name": "stdout",
          "text": [
            "219/219 - 5s - 25ms/step - accuracy: 0.8409 - loss: 0.4815 - val_accuracy: 0.8101 - val_loss: 0.5284 - learning_rate: 1.0000e-04\n",
            "Epoch 12/40\n",
            "\n",
            "Epoch 12: val_loss did not improve from 0.52835\n",
            "219/219 - 5s - 21ms/step - accuracy: 0.8604 - loss: 0.4332 - val_accuracy: 0.8151 - val_loss: 0.5468 - learning_rate: 1.0000e-04\n",
            "Epoch 13/40\n",
            "\n",
            "Epoch 13: val_loss did not improve from 0.52835\n",
            "219/219 - 5s - 22ms/step - accuracy: 0.8687 - loss: 0.3962 - val_accuracy: 0.8128 - val_loss: 0.5369 - learning_rate: 1.0000e-04\n",
            "Epoch 14/40\n",
            "\n",
            "Epoch 14: ReduceLROnPlateau reducing learning rate to 4.999999873689376e-05.\n",
            "\n",
            "Epoch 14: val_loss did not improve from 0.52835\n",
            "219/219 - 3s - 16ms/step - accuracy: 0.8805 - loss: 0.3723 - val_accuracy: 0.7954 - val_loss: 0.6033 - learning_rate: 1.0000e-04\n",
            "Epoch 15/40\n",
            "\n",
            "Epoch 15: val_loss improved from 0.52835 to 0.47831, saving model to best_model.h5\n"
          ]
        },
        {
          "output_type": "stream",
          "name": "stderr",
          "text": [
            "WARNING:absl:You are saving your model as an HDF5 file via `model.save()` or `keras.saving.save_model(model)`. This file format is considered legacy. We recommend using instead the native Keras format, e.g. `model.save('my_model.keras')` or `keras.saving.save_model(model, 'my_model.keras')`. \n"
          ]
        },
        {
          "output_type": "stream",
          "name": "stdout",
          "text": [
            "219/219 - 5s - 22ms/step - accuracy: 0.9031 - loss: 0.3026 - val_accuracy: 0.8395 - val_loss: 0.4783 - learning_rate: 5.0000e-05\n",
            "Epoch 16/40\n",
            "\n",
            "Epoch 16: val_loss improved from 0.47831 to 0.47416, saving model to best_model.h5\n"
          ]
        },
        {
          "output_type": "stream",
          "name": "stderr",
          "text": [
            "WARNING:absl:You are saving your model as an HDF5 file via `model.save()` or `keras.saving.save_model(model)`. This file format is considered legacy. We recommend using instead the native Keras format, e.g. `model.save('my_model.keras')` or `keras.saving.save_model(model, 'my_model.keras')`. \n"
          ]
        },
        {
          "output_type": "stream",
          "name": "stdout",
          "text": [
            "219/219 - 3s - 14ms/step - accuracy: 0.9143 - loss: 0.2745 - val_accuracy: 0.8391 - val_loss: 0.4742 - learning_rate: 5.0000e-05\n",
            "Epoch 17/40\n",
            "\n",
            "Epoch 17: val_loss did not improve from 0.47416\n",
            "219/219 - 6s - 27ms/step - accuracy: 0.9217 - loss: 0.2499 - val_accuracy: 0.8405 - val_loss: 0.4765 - learning_rate: 5.0000e-05\n",
            "Epoch 18/40\n",
            "\n",
            "Epoch 18: val_loss did not improve from 0.47416\n",
            "219/219 - 4s - 20ms/step - accuracy: 0.9222 - loss: 0.2490 - val_accuracy: 0.8358 - val_loss: 0.4854 - learning_rate: 5.0000e-05\n",
            "Epoch 19/40\n",
            "\n",
            "Epoch 19: val_loss improved from 0.47416 to 0.45532, saving model to best_model.h5\n"
          ]
        },
        {
          "output_type": "stream",
          "name": "stderr",
          "text": [
            "WARNING:absl:You are saving your model as an HDF5 file via `model.save()` or `keras.saving.save_model(model)`. This file format is considered legacy. We recommend using instead the native Keras format, e.g. `model.save('my_model.keras')` or `keras.saving.save_model(model, 'my_model.keras')`. \n"
          ]
        },
        {
          "output_type": "stream",
          "name": "stdout",
          "text": [
            "219/219 - 4s - 19ms/step - accuracy: 0.9272 - loss: 0.2288 - val_accuracy: 0.8475 - val_loss: 0.4553 - learning_rate: 5.0000e-05\n",
            "Epoch 20/40\n",
            "\n",
            "Epoch 20: val_loss did not improve from 0.45532\n",
            "219/219 - 5s - 21ms/step - accuracy: 0.9318 - loss: 0.2121 - val_accuracy: 0.8388 - val_loss: 0.4833 - learning_rate: 5.0000e-05\n",
            "Epoch 21/40\n",
            "\n",
            "Epoch 21: val_loss improved from 0.45532 to 0.45172, saving model to best_model.h5\n"
          ]
        },
        {
          "output_type": "stream",
          "name": "stderr",
          "text": [
            "WARNING:absl:You are saving your model as an HDF5 file via `model.save()` or `keras.saving.save_model(model)`. This file format is considered legacy. We recommend using instead the native Keras format, e.g. `model.save('my_model.keras')` or `keras.saving.save_model(model, 'my_model.keras')`. \n"
          ]
        },
        {
          "output_type": "stream",
          "name": "stdout",
          "text": [
            "219/219 - 4s - 20ms/step - accuracy: 0.9349 - loss: 0.2032 - val_accuracy: 0.8478 - val_loss: 0.4517 - learning_rate: 5.0000e-05\n",
            "Epoch 22/40\n",
            "\n",
            "Epoch 22: val_loss did not improve from 0.45172\n",
            "219/219 - 5s - 24ms/step - accuracy: 0.9492 - loss: 0.1739 - val_accuracy: 0.8488 - val_loss: 0.4579 - learning_rate: 5.0000e-05\n",
            "Epoch 23/40\n",
            "\n",
            "Epoch 23: val_loss did not improve from 0.45172\n",
            "219/219 - 6s - 26ms/step - accuracy: 0.9475 - loss: 0.1691 - val_accuracy: 0.8351 - val_loss: 0.4936 - learning_rate: 5.0000e-05\n",
            "Epoch 24/40\n",
            "\n",
            "Epoch 24: val_loss improved from 0.45172 to 0.45161, saving model to best_model.h5\n"
          ]
        },
        {
          "output_type": "stream",
          "name": "stderr",
          "text": [
            "WARNING:absl:You are saving your model as an HDF5 file via `model.save()` or `keras.saving.save_model(model)`. This file format is considered legacy. We recommend using instead the native Keras format, e.g. `model.save('my_model.keras')` or `keras.saving.save_model(model, 'my_model.keras')`. \n"
          ]
        },
        {
          "output_type": "stream",
          "name": "stdout",
          "text": [
            "219/219 - 5s - 22ms/step - accuracy: 0.9514 - loss: 0.1623 - val_accuracy: 0.8501 - val_loss: 0.4516 - learning_rate: 5.0000e-05\n",
            "Epoch 25/40\n",
            "\n",
            "Epoch 25: val_loss did not improve from 0.45161\n",
            "219/219 - 5s - 22ms/step - accuracy: 0.9516 - loss: 0.1529 - val_accuracy: 0.8471 - val_loss: 0.4682 - learning_rate: 5.0000e-05\n",
            "Epoch 26/40\n",
            "\n",
            "Epoch 26: val_loss did not improve from 0.45161\n",
            "219/219 - 5s - 23ms/step - accuracy: 0.9581 - loss: 0.1403 - val_accuracy: 0.8451 - val_loss: 0.4679 - learning_rate: 5.0000e-05\n",
            "Epoch 27/40\n",
            "\n",
            "Epoch 27: ReduceLROnPlateau reducing learning rate to 2.499999936844688e-05.\n",
            "\n",
            "Epoch 27: val_loss did not improve from 0.45161\n",
            "219/219 - 5s - 22ms/step - accuracy: 0.9599 - loss: 0.1326 - val_accuracy: 0.8448 - val_loss: 0.4639 - learning_rate: 5.0000e-05\n",
            "Epoch 28/40\n",
            "\n",
            "Epoch 28: val_loss did not improve from 0.45161\n",
            "219/219 - 6s - 27ms/step - accuracy: 0.9645 - loss: 0.1108 - val_accuracy: 0.8578 - val_loss: 0.4548 - learning_rate: 2.5000e-05\n",
            "Epoch 29/40\n",
            "\n",
            "Epoch 29: val_loss improved from 0.45161 to 0.44204, saving model to best_model.h5\n"
          ]
        },
        {
          "output_type": "stream",
          "name": "stderr",
          "text": [
            "WARNING:absl:You are saving your model as an HDF5 file via `model.save()` or `keras.saving.save_model(model)`. This file format is considered legacy. We recommend using instead the native Keras format, e.g. `model.save('my_model.keras')` or `keras.saving.save_model(model, 'my_model.keras')`. \n"
          ]
        },
        {
          "output_type": "stream",
          "name": "stdout",
          "text": [
            "219/219 - 4s - 19ms/step - accuracy: 0.9712 - loss: 0.0990 - val_accuracy: 0.8575 - val_loss: 0.4420 - learning_rate: 2.5000e-05\n",
            "Epoch 30/40\n",
            "\n",
            "Epoch 30: val_loss did not improve from 0.44204\n",
            "219/219 - 3s - 15ms/step - accuracy: 0.9744 - loss: 0.0906 - val_accuracy: 0.8555 - val_loss: 0.4537 - learning_rate: 2.5000e-05\n",
            "Epoch 31/40\n",
            "\n",
            "Epoch 31: val_loss did not improve from 0.44204\n",
            "219/219 - 6s - 27ms/step - accuracy: 0.9754 - loss: 0.0927 - val_accuracy: 0.8555 - val_loss: 0.4675 - learning_rate: 2.5000e-05\n",
            "Epoch 32/40\n",
            "\n",
            "Epoch 32: ReduceLROnPlateau reducing learning rate to 1.249999968422344e-05.\n",
            "\n",
            "Epoch 32: val_loss did not improve from 0.44204\n",
            "219/219 - 4s - 19ms/step - accuracy: 0.9755 - loss: 0.0902 - val_accuracy: 0.8548 - val_loss: 0.4532 - learning_rate: 2.5000e-05\n",
            "Epoch 33/40\n",
            "\n",
            "Epoch 33: val_loss did not improve from 0.44204\n",
            "219/219 - 5s - 23ms/step - accuracy: 0.9808 - loss: 0.0752 - val_accuracy: 0.8625 - val_loss: 0.4503 - learning_rate: 1.2500e-05\n",
            "Epoch 34/40\n",
            "\n",
            "Epoch 34: val_loss did not improve from 0.44204\n",
            "219/219 - 6s - 26ms/step - accuracy: 0.9787 - loss: 0.0792 - val_accuracy: 0.8588 - val_loss: 0.4485 - learning_rate: 1.2500e-05\n",
            "Epoch 35/40\n",
            "\n",
            "Epoch 35: ReduceLROnPlateau reducing learning rate to 6.24999984211172e-06.\n",
            "\n",
            "Epoch 35: val_loss did not improve from 0.44204\n",
            "219/219 - 5s - 22ms/step - accuracy: 0.9811 - loss: 0.0777 - val_accuracy: 0.8585 - val_loss: 0.4465 - learning_rate: 1.2500e-05\n",
            "Epoch 36/40\n",
            "\n",
            "Epoch 36: val_loss did not improve from 0.44204\n",
            "219/219 - 6s - 26ms/step - accuracy: 0.9810 - loss: 0.0755 - val_accuracy: 0.8628 - val_loss: 0.4456 - learning_rate: 6.2500e-06\n",
            "Epoch 36: early stopping\n",
            "Restoring model weights from the end of the best epoch: 29.\n"
          ]
        }
      ]
    },
    {
      "cell_type": "code",
      "source": [
        "X_test = np.squeeze(X_test)\n",
        "if X_test.ndim == 3:\n",
        "    X_test = X_test[..., np.newaxis]\n",
        "\n",
        "print(\"X_test shape:\", X_test.shape)\n",
        "print(\"y_test shape:\", y_test.shape)\n",
        "\n",
        "test_loss, test_accuracy = model.evaluate(X_test, y_test, verbose=2)\n",
        "print(f\"\\n✅ Test Accuracy: {test_accuracy:.4f}\")"
      ],
      "metadata": {
        "id": "WNT1I6omLr1x",
        "colab": {
          "base_uri": "https://localhost:8080/"
        },
        "outputId": "0f49529e-141b-4763-83cf-8aed9dd7d4a0"
      },
      "execution_count": 40,
      "outputs": [
        {
          "output_type": "stream",
          "name": "stdout",
          "text": [
            "X_test shape: (2497, 130, 13, 1)\n",
            "y_test shape: (2497,)\n",
            "79/79 - 1s - 6ms/step - accuracy: 0.9503 - loss: 0.1646\n",
            "\n",
            "✅ Test Accuracy: 0.9503\n"
          ]
        }
      ]
    },
    {
      "cell_type": "code",
      "source": [],
      "metadata": {
        "id": "Yx--i19GLr4w"
      },
      "execution_count": null,
      "outputs": []
    },
    {
      "cell_type": "markdown",
      "source": [
        "# Проверка модели на новых треках из fma_small"
      ],
      "metadata": {
        "id": "HIlEvtH73zWa"
      }
    },
    {
      "cell_type": "code",
      "source": [
        "import zipfile\n",
        "import os\n",
        "\n",
        "zip_path = \"/content/drive/MyDrive/fma_small.zip\"\n",
        "extract_path = \"/content/fma_small\"\n",
        "\n",
        "if not os.path.exists(extract_path):\n",
        "    with zipfile.ZipFile(zip_path, 'r') as zip_ref:\n",
        "        zip_ref.extractall(extract_path)"
      ],
      "metadata": {
        "id": "Z2lb4s_I3yw0"
      },
      "execution_count": null,
      "outputs": []
    },
    {
      "cell_type": "code",
      "source": [
        "import shutil\n",
        "\n",
        "dst_path = \"/content/drive/MyDrive/fma_small\"\n",
        "\n",
        "if not os.path.exists(dst_path):\n",
        "    shutil.copytree(\"/content/fma_small\", dst_path)\n",
        "    print(\"Папка успешно скопирована в Google Диск.\")\n",
        "else:\n",
        "    print(\"Папка уже существует в Google Диске.\")"
      ],
      "metadata": {
        "id": "ie4wpChD_NoY"
      },
      "execution_count": null,
      "outputs": []
    },
    {
      "cell_type": "code",
      "source": [
        "import shutil\n",
        "import random\n",
        "from glob import glob\n",
        "\n",
        "source_dir = \"/content/drive/MyDrive/fma_small/fma_small\"\n",
        "sample_dir = \"/content/drive/MyDrive/sample\"\n",
        "os.makedirs(sample_dir, exist_ok=True)\n",
        "\n",
        "all_mp3 = glob(os.path.join(source_dir, '**', '*.mp3'), recursive=True)\n",
        "sample_files = random.sample(all_mp3, 10)\n",
        "\n",
        "for file_path in sample_files:\n",
        "    shutil.copy(file_path, sample_dir)\n"
      ],
      "metadata": {
        "id": "cdhdT9963y3P"
      },
      "execution_count": 41,
      "outputs": []
    },
    {
      "cell_type": "code",
      "source": [
        "!apt-get install ffmpeg -y\n",
        "!pip install pydub\n",
        "\n",
        "from pydub import AudioSegment\n",
        "\n",
        "wav_sample_dir = \"/content/drive/MyDrive/sample_wav\"\n",
        "os.makedirs(wav_sample_dir, exist_ok=True)\n",
        "\n",
        "for file_path in os.listdir(sample_dir):\n",
        "    if file_path.endswith('.mp3'):\n",
        "        mp3_path = os.path.join(sample_dir, file_path)\n",
        "        wav_path = os.path.join(wav_sample_dir, file_path.replace('.mp3', '.wav'))\n",
        "        sound = AudioSegment.from_mp3(mp3_path)\n",
        "        sound.export(wav_path, format=\"wav\")\n"
      ],
      "metadata": {
        "id": "1GAD_hHG37VV",
        "colab": {
          "base_uri": "https://localhost:8080/"
        },
        "outputId": "7e7d4160-7f23-4299-b467-1b4f19c5467f"
      },
      "execution_count": 42,
      "outputs": [
        {
          "output_type": "stream",
          "name": "stdout",
          "text": [
            "Reading package lists... Done\n",
            "Building dependency tree... Done\n",
            "Reading state information... Done\n",
            "ffmpeg is already the newest version (7:4.4.2-0ubuntu0.22.04.1).\n",
            "0 upgraded, 0 newly installed, 0 to remove and 35 not upgraded.\n",
            "Requirement already satisfied: pydub in /usr/local/lib/python3.11/dist-packages (0.25.1)\n"
          ]
        }
      ]
    },
    {
      "cell_type": "code",
      "source": [
        "import json\n",
        "import numpy as np\n",
        "import librosa\n",
        "from tensorflow.keras.models import load_model\n",
        "\n",
        "model = load_model('genre_crnn_attention.h5')\n",
        "with open('data.json', 'r') as f:\n",
        "    metadata = json.load(f)\n",
        "mapping = metadata['mapping']\n",
        "\n",
        "SAMPLE_RATE   = 22050\n",
        "DURATION      = 30\n",
        "SAMPLES_TRACK = SAMPLE_RATE * DURATION\n",
        "NUM_SEGMENTS  = 10\n",
        "N_MFCC        = 13\n",
        "N_FFT         = 2048\n",
        "HOP_LENGTH    = 512"
      ],
      "metadata": {
        "colab": {
          "base_uri": "https://localhost:8080/"
        },
        "id": "IwTLLAT2Nnef",
        "outputId": "44dd065f-4dc0-4c54-ede1-89660b55e3be"
      },
      "execution_count": 54,
      "outputs": [
        {
          "output_type": "stream",
          "name": "stderr",
          "text": [
            "WARNING:absl:Compiled the loaded model, but the compiled metrics have yet to be built. `model.compile_metrics` will be empty until you train or evaluate the model.\n"
          ]
        }
      ]
    },
    {
      "cell_type": "code",
      "source": [
        "def extract_mfcc(file_path):\n",
        "    signal, sr = librosa.load(file_path, sr=SAMPLE_RATE, duration=DURATION)\n",
        "    samples_per_segment = int(SAMPLES_TRACK / NUM_SEGMENTS)\n",
        "    mfccs = []\n",
        "\n",
        "    for s in range(NUM_SEGMENTS):\n",
        "        start = s * samples_per_segment\n",
        "        end   = start + samples_per_segment\n",
        "        segment = signal[start:end]\n",
        "\n",
        "        mfcc = librosa.feature.mfcc(\n",
        "            y=segment,\n",
        "            sr=sr,\n",
        "            n_mfcc=N_MFCC,\n",
        "            n_fft=N_FFT,\n",
        "            hop_length=HOP_LENGTH\n",
        "        ).T\n",
        "\n",
        "        if mfcc.shape[0] == int(np.ceil(samples_per_segment / HOP_LENGTH)):\n",
        "            mfccs.append(mfcc)\n",
        "\n",
        "    return np.array(mfccs)"
      ],
      "metadata": {
        "id": "XtkGipqjN5Zf"
      },
      "execution_count": 55,
      "outputs": []
    },
    {
      "cell_type": "code",
      "source": [
        "wav_sample_dir = '/content/drive/MyDrive/sample_wav'\n",
        "\n",
        "for file_name in os.listdir(wav_sample_dir):\n",
        "    if not file_name.lower().endswith(\".wav\"):\n",
        "        continue\n",
        "\n",
        "    file_path = os.path.join(wav_sample_dir, file_name)\n",
        "    mfcc_segments = extract_mfcc(file_path)\n",
        "    if mfcc_segments.size == 0:\n",
        "        print(f\"{file_name}: не удалось извлечь MFCC\")\n",
        "        continue\n",
        "\n",
        "    # Подготовка батча для предсказания\n",
        "    X = mfcc_segments[..., np.newaxis]  # форма (NUM_SEGMENTS, 130, 13, 1)\n",
        "    preds = model.predict(X, verbose=0)  # форма (NUM_SEGMENTS, 10)\n",
        "\n",
        "    # Усредняем вероятности по сегментам\n",
        "    mean_probs = np.mean(preds, axis=0)  # форма (10,)\n",
        "\n",
        "    # Преобразуем в проценты и округляем\n",
        "    percent_probs = (mean_probs * 100).round(2)\n",
        "\n",
        "    # Ищем максимум\n",
        "    max_idx = np.argmax(percent_probs)\n",
        "\n",
        "    # Формируем строку с жанрами и процентами\n",
        "    genre_lines = []\n",
        "    for idx, genre in enumerate(mapping):\n",
        "        pct = percent_probs[idx]\n",
        "        if idx == max_idx:\n",
        "            # Выделяем жанр с наибольшей вероятностью\n",
        "            genre_lines.append(f\"**{genre}: {pct}%**\")\n",
        "        else:\n",
        "            genre_lines.append(f\"{genre}: {pct}%\")\n",
        "\n",
        "    # Выводим результат\n",
        "    print(f\"\\nФайл: {file_name}\")\n",
        "    print(\"Вероятности по всем жанрам:\")\n",
        "    print(\"\\n\".join(genre_lines))\n",
        "    print(\"-\" * 40)"
      ],
      "metadata": {
        "id": "yCKly0tguCKj",
        "colab": {
          "base_uri": "https://localhost:8080/"
        },
        "outputId": "9ab8254a-4102-46ed-dc82-fa3f5cad0729"
      },
      "execution_count": 56,
      "outputs": [
        {
          "output_type": "stream",
          "name": "stderr",
          "text": [
            "/usr/local/lib/python3.11/dist-packages/keras/src/ops/nn.py:907: UserWarning: You are using a softmax over axis -1 of a tensor of shape (10, 32, 1). This axis has size 1. The softmax operation will always return the value 1, which is likely not what you intended. Did you mean to use a sigmoid instead?\n",
            "  warnings.warn(\n"
          ]
        },
        {
          "output_type": "stream",
          "name": "stdout",
          "text": [
            "\n",
            "Файл: 126675.wav\n",
            "Вероятности по всем жанрам:\n",
            "classical: 0.0%\n",
            "disco: 0.0%\n",
            "hiphop: 0.0%\n",
            "**country: 100.0%**\n",
            "pop: 0.0%\n",
            "jazz: 0.0%\n",
            "blues: 0.0%\n",
            "reggae: 0.0%\n",
            "rock: 0.0%\n",
            "metal: 0.0%\n",
            "----------------------------------------\n"
          ]
        },
        {
          "output_type": "stream",
          "name": "stderr",
          "text": [
            "/usr/local/lib/python3.11/dist-packages/keras/src/ops/nn.py:907: UserWarning: You are using a softmax over axis -1 of a tensor of shape (None, 32, 1). This axis has size 1. The softmax operation will always return the value 1, which is likely not what you intended. Did you mean to use a sigmoid instead?\n",
            "  warnings.warn(\n"
          ]
        },
        {
          "output_type": "stream",
          "name": "stdout",
          "text": [
            "\n",
            "Файл: 091170.wav\n",
            "Вероятности по всем жанрам:\n",
            "classical: 0.0%\n",
            "disco: 33.27000045776367%\n",
            "hiphop: 0.0%\n",
            "**country: 44.439998626708984%**\n",
            "pop: 22.290000915527344%\n",
            "jazz: 0.0%\n",
            "blues: 0.0%\n",
            "reggae: 0.0%\n",
            "rock: 0.0%\n",
            "metal: 0.0%\n",
            "----------------------------------------\n",
            "\n",
            "Файл: 056275.wav\n",
            "Вероятности по всем жанрам:\n",
            "classical: 0.0%\n",
            "disco: 0.0%\n",
            "hiphop: 10.0%\n",
            "**country: 50.0%**\n",
            "pop: 0.0%\n",
            "jazz: 30.0%\n",
            "blues: 0.0%\n",
            "reggae: 0.0%\n",
            "rock: 10.0%\n",
            "metal: 0.0%\n",
            "----------------------------------------\n",
            "\n",
            "Файл: 059373.wav\n",
            "Вероятности по всем жанрам:\n",
            "classical: 33.33000183105469%\n",
            "disco: 0.0%\n",
            "hiphop: 0.0%\n",
            "country: 0.0%\n",
            "pop: 0.0%\n",
            "**jazz: 55.560001373291016%**\n",
            "blues: 0.0%\n",
            "reggae: 0.0%\n",
            "rock: 11.109999656677246%\n",
            "metal: 0.0%\n",
            "----------------------------------------\n",
            "\n",
            "Файл: 120326.wav\n",
            "Вероятности по всем жанрам:\n",
            "classical: 0.0%\n",
            "disco: 0.0%\n",
            "hiphop: 0.0%\n",
            "country: 33.33000183105469%\n",
            "pop: 0.0%\n",
            "**jazz: 66.66999816894531%**\n",
            "blues: 0.0%\n",
            "reggae: 0.0%\n",
            "rock: 0.0%\n",
            "metal: 0.0%\n",
            "----------------------------------------\n",
            "\n",
            "Файл: 098622.wav\n",
            "Вероятности по всем жанрам:\n",
            "classical: 0.0%\n",
            "disco: 0.0%\n",
            "hiphop: 11.109999656677246%\n",
            "country: 0.0%\n",
            "pop: 33.33000183105469%\n",
            "jazz: 0.0%\n",
            "blues: 0.0%\n",
            "reggae: 0.0%\n",
            "**rock: 55.560001373291016%**\n",
            "metal: 0.0%\n",
            "----------------------------------------\n",
            "\n",
            "Файл: 023355.wav\n",
            "Вероятности по всем жанрам:\n",
            "classical: 0.0%\n",
            "disco: 10.0%\n",
            "hiphop: 20.0%\n",
            "country: 0.0%\n",
            "pop: 30.0%\n",
            "jazz: 0.0%\n",
            "blues: 0.0%\n",
            "**reggae: 40.0%**\n",
            "rock: 0.0%\n",
            "metal: 0.0%\n",
            "----------------------------------------\n",
            "\n",
            "Файл: 134931.wav\n",
            "Вероятности по всем жанрам:\n",
            "classical: 0.0%\n",
            "disco: 0.0%\n",
            "hiphop: 0.0%\n",
            "country: 30.0%\n",
            "pop: 0.0%\n",
            "jazz: 30.0%\n",
            "blues: 0.0%\n",
            "reggae: 0.0%\n",
            "**rock: 40.0%**\n",
            "metal: 0.0%\n",
            "----------------------------------------\n",
            "\n",
            "Файл: 038895.wav\n",
            "Вероятности по всем жанрам:\n",
            "classical: 0.0%\n",
            "disco: 0.0%\n",
            "hiphop: 0.0%\n",
            "country: 0.0%\n",
            "pop: 0.0%\n",
            "**jazz: 100.0%**\n",
            "blues: 0.0%\n",
            "reggae: 0.0%\n",
            "rock: 0.0%\n",
            "metal: 0.0%\n",
            "----------------------------------------\n",
            "\n",
            "Файл: 111378.wav\n",
            "Вероятности по всем жанрам:\n",
            "classical: 11.109999656677246%\n",
            "disco: 0.0%\n",
            "hiphop: 22.299999237060547%\n",
            "country: 6.880000114440918%\n",
            "**pop: 37.290000915527344%**\n",
            "jazz: 0.0%\n",
            "blues: 0.0%\n",
            "reggae: 22.420000076293945%\n",
            "rock: 0.0%\n",
            "metal: 0.0%\n",
            "----------------------------------------\n",
            "\n",
            "Файл: 053725.wav\n",
            "Вероятности по всем жанрам:\n",
            "classical: 20.829999923706055%\n",
            "disco: 0.0%\n",
            "hiphop: 0.0%\n",
            "country: 11.109999656677246%\n",
            "pop: 0.0%\n",
            "**jazz: 56.939998626708984%**\n",
            "blues: 0.0%\n",
            "reggae: 0.0%\n",
            "rock: 11.109999656677246%\n",
            "metal: 0.0%\n",
            "----------------------------------------\n",
            "\n",
            "Файл: 123932.wav\n",
            "Вероятности по всем жанрам:\n",
            "classical: 0.0%\n",
            "disco: 0.0%\n",
            "hiphop: 17.989999771118164%\n",
            "country: 0.0%\n",
            "**pop: 82.01000213623047%**\n",
            "jazz: 0.0%\n",
            "blues: 0.0%\n",
            "reggae: 0.0%\n",
            "rock: 0.0%\n",
            "metal: 0.0%\n",
            "----------------------------------------\n",
            "\n",
            "Файл: 074362.wav\n",
            "Вероятности по всем жанрам:\n",
            "classical: 0.0%\n",
            "disco: 0.0%\n",
            "hiphop: 0.029999999329447746%\n",
            "country: 0.0%\n",
            "**pop: 89.97000122070312%**\n",
            "jazz: 10.0%\n",
            "blues: 0.0%\n",
            "reggae: 0.0%\n",
            "rock: 0.0%\n",
            "metal: 0.0%\n",
            "----------------------------------------\n",
            "\n",
            "Файл: 068862.wav\n",
            "Вероятности по всем жанрам:\n",
            "classical: 0.0%\n",
            "disco: 0.0%\n",
            "hiphop: 0.0%\n",
            "country: 0.0%\n",
            "pop: 0.0%\n",
            "jazz: 20.0%\n",
            "**blues: 70.0%**\n",
            "reggae: 10.0%\n",
            "rock: 0.0%\n",
            "metal: 0.0%\n",
            "----------------------------------------\n",
            "\n",
            "Файл: 148213.wav\n",
            "Вероятности по всем жанрам:\n",
            "classical: 14.470000267028809%\n",
            "disco: 0.0%\n",
            "hiphop: 0.0%\n",
            "country: 17.649999618530273%\n",
            "pop: 11.140000343322754%\n",
            "jazz: 0.0%\n",
            "blues: 0.0%\n",
            "reggae: 0.0%\n",
            "**rock: 56.7400016784668%**\n",
            "metal: 0.0%\n",
            "----------------------------------------\n",
            "\n",
            "Файл: 099374.wav\n",
            "Вероятности по всем жанрам:\n",
            "**classical: 66.66999816894531%**\n",
            "disco: 0.0%\n",
            "hiphop: 0.0%\n",
            "country: 0.0%\n",
            "pop: 22.219999313354492%\n",
            "jazz: 11.109999656677246%\n",
            "blues: 0.0%\n",
            "reggae: 0.0%\n",
            "rock: 0.0%\n",
            "metal: 0.0%\n",
            "----------------------------------------\n",
            "\n",
            "Файл: 112315.wav\n",
            "Вероятности по всем жанрам:\n",
            "classical: 0.0%\n",
            "disco: 0.0%\n",
            "hiphop: 0.0%\n",
            "**country: 50.0%**\n",
            "pop: 0.3100000023841858%\n",
            "jazz: 0.0%\n",
            "blues: 0.0%\n",
            "reggae: 0.0%\n",
            "rock: 49.689998626708984%\n",
            "metal: 0.0%\n",
            "----------------------------------------\n",
            "\n",
            "Файл: 124971.wav\n",
            "Вероятности по всем жанрам:\n",
            "**classical: 51.869998931884766%**\n",
            "disco: 3.9100000858306885%\n",
            "hiphop: 0.0%\n",
            "country: 0.0%\n",
            "pop: 0.0%\n",
            "jazz: 14.789999961853027%\n",
            "blues: 22.219999313354492%\n",
            "reggae: 0.0%\n",
            "rock: 7.199999809265137%\n",
            "metal: 0.0%\n",
            "----------------------------------------\n",
            "\n",
            "Файл: 091179.wav\n",
            "Вероятности по всем жанрам:\n",
            "classical: 0.0%\n",
            "disco: 0.0%\n",
            "hiphop: 0.0%\n",
            "country: 22.219999313354492%\n",
            "pop: 0.0%\n",
            "**jazz: 77.77999877929688%**\n",
            "blues: 0.0%\n",
            "reggae: 0.0%\n",
            "rock: 0.0%\n",
            "metal: 0.0%\n",
            "----------------------------------------\n",
            "\n",
            "Файл: 092536.wav\n",
            "Вероятности по всем жанрам:\n",
            "classical: 0.0%\n",
            "disco: 0.0%\n",
            "hiphop: 0.0%\n",
            "country: 33.31999969482422%\n",
            "**pop: 55.40999984741211%**\n",
            "jazz: 0.0%\n",
            "blues: 0.1599999964237213%\n",
            "reggae: 11.109999656677246%\n",
            "rock: 0.0%\n",
            "metal: 0.0%\n",
            "----------------------------------------\n",
            "\n",
            "Файл: 054665.wav\n",
            "Вероятности по всем жанрам:\n",
            "classical: 0.0%\n",
            "disco: 0.0%\n",
            "hiphop: 0.0%\n",
            "**country: 60.0%**\n",
            "pop: 0.0%\n",
            "jazz: 40.0%\n",
            "blues: 0.0%\n",
            "reggae: 0.0%\n",
            "rock: 0.0%\n",
            "metal: 0.0%\n",
            "----------------------------------------\n",
            "\n",
            "Файл: 010485.wav\n",
            "Вероятности по всем жанрам:\n",
            "classical: 22.219999313354492%\n",
            "disco: 0.0%\n",
            "hiphop: 0.0%\n",
            "country: 0.0%\n",
            "pop: 0.0%\n",
            "jazz: 0.0%\n",
            "blues: 0.0%\n",
            "reggae: 0.0%\n",
            "**rock: 77.77999877929688%**\n",
            "metal: 0.0%\n",
            "----------------------------------------\n",
            "\n",
            "Файл: 054438.wav\n",
            "Вероятности по всем жанрам:\n",
            "classical: 19.959999084472656%\n",
            "disco: 0.0%\n",
            "hiphop: 0.0%\n",
            "country: 0.0%\n",
            "**pop: 60.0%**\n",
            "jazz: 20.040000915527344%\n",
            "blues: 0.0%\n",
            "reggae: 0.0%\n",
            "rock: 0.0%\n",
            "metal: 0.0%\n",
            "----------------------------------------\n",
            "\n",
            "Файл: 084290.wav\n",
            "Вероятности по всем жанрам:\n",
            "classical: 0.0%\n",
            "disco: 0.0%\n",
            "hiphop: 0.0%\n",
            "country: 10.0%\n",
            "pop: 0.0%\n",
            "jazz: 0.0%\n",
            "blues: 0.0%\n",
            "reggae: 0.0%\n",
            "rock: 40.0%\n",
            "**metal: 50.0%**\n",
            "----------------------------------------\n",
            "\n",
            "Файл: 091869.wav\n",
            "Вероятности по всем жанрам:\n",
            "classical: 0.0%\n",
            "disco: 0.0%\n",
            "hiphop: 0.0%\n",
            "country: 0.0%\n",
            "**pop: 100.0%**\n",
            "jazz: 0.0%\n",
            "blues: 0.0%\n",
            "reggae: 0.0%\n",
            "rock: 0.0%\n",
            "metal: 0.0%\n",
            "----------------------------------------\n",
            "\n",
            "Файл: 127498.wav\n",
            "Вероятности по всем жанрам:\n",
            "classical: 0.0%\n",
            "disco: 0.0%\n",
            "hiphop: 0.0%\n",
            "country: 0.0%\n",
            "pop: 0.0%\n",
            "jazz: 0.0%\n",
            "blues: 20.0%\n",
            "**reggae: 70.01000213623047%**\n",
            "rock: 9.989999771118164%\n",
            "metal: 0.0%\n",
            "----------------------------------------\n",
            "\n",
            "Файл: 130927.wav\n",
            "Вероятности по всем жанрам:\n",
            "classical: 0.0%\n",
            "disco: 0.0%\n",
            "hiphop: 0.0%\n",
            "country: 10.0%\n",
            "pop: 0.0%\n",
            "**jazz: 50.0%**\n",
            "blues: 0.0%\n",
            "reggae: 0.0%\n",
            "rock: 40.0%\n",
            "metal: 0.0%\n",
            "----------------------------------------\n",
            "\n",
            "Файл: 134454.wav\n",
            "Вероятности по всем жанрам:\n",
            "classical: 0.0%\n",
            "disco: 0.0%\n",
            "hiphop: 0.0%\n",
            "country: 0.0%\n",
            "pop: 0.0%\n",
            "jazz: 22.219999313354492%\n",
            "blues: 0.0%\n",
            "reggae: 0.0%\n",
            "**rock: 77.77999877929688%**\n",
            "metal: 0.0%\n",
            "----------------------------------------\n",
            "\n",
            "Файл: 011818.wav\n",
            "Вероятности по всем жанрам:\n",
            "classical: 0.0%\n",
            "disco: 0.0%\n",
            "**hiphop: 100.0%**\n",
            "country: 0.0%\n",
            "pop: 0.0%\n",
            "jazz: 0.0%\n",
            "blues: 0.0%\n",
            "reggae: 0.0%\n",
            "rock: 0.0%\n",
            "metal: 0.0%\n",
            "----------------------------------------\n",
            "\n",
            "Файл: 003763.wav\n",
            "Вероятности по всем жанрам:\n",
            "classical: 0.0%\n",
            "disco: 0.0%\n",
            "hiphop: 0.0%\n",
            "**country: 73.37000274658203%**\n",
            "pop: 0.0%\n",
            "jazz: 11.100000381469727%\n",
            "blues: 0.0%\n",
            "reggae: 0.0%\n",
            "rock: 15.529999732971191%\n",
            "metal: 0.0%\n",
            "----------------------------------------\n",
            "\n",
            "Файл: 131982.wav\n",
            "Вероятности по всем жанрам:\n",
            "classical: 10.0%\n",
            "disco: 0.0%\n",
            "hiphop: 0.0%\n",
            "country: 30.0%\n",
            "pop: 0.0%\n",
            "**jazz: 50.0%**\n",
            "blues: 10.0%\n",
            "reggae: 0.0%\n",
            "rock: 0.0%\n",
            "metal: 0.0%\n",
            "----------------------------------------\n",
            "\n",
            "Файл: 148290.wav\n",
            "Вероятности по всем жанрам:\n",
            "classical: 0.0%\n",
            "disco: 22.219999313354492%\n",
            "hiphop: 11.109999656677246%\n",
            "country: 0.0%\n",
            "pop: 11.109999656677246%\n",
            "jazz: 0.0%\n",
            "blues: 0.0%\n",
            "**reggae: 44.439998626708984%**\n",
            "rock: 11.109999656677246%\n",
            "metal: 0.0%\n",
            "----------------------------------------\n",
            "\n",
            "Файл: 039357.wav\n",
            "Вероятности по всем жанрам:\n",
            "classical: 0.0%\n",
            "disco: 0.0%\n",
            "hiphop: 0.0%\n",
            "country: 0.0%\n",
            "pop: 0.0%\n",
            "jazz: 0.0%\n",
            "blues: 0.0%\n",
            "**reggae: 100.0%**\n",
            "rock: 0.0%\n",
            "metal: 0.0%\n",
            "----------------------------------------\n",
            "\n",
            "Файл: 011784.wav\n",
            "Вероятности по всем жанрам:\n",
            "classical: 0.0%\n",
            "disco: 0.0%\n",
            "**hiphop: 77.79000091552734%**\n",
            "country: 0.0%\n",
            "pop: 0.0%\n",
            "jazz: 0.0%\n",
            "blues: 0.0%\n",
            "reggae: 22.209999084472656%\n",
            "rock: 0.0%\n",
            "metal: 0.0%\n",
            "----------------------------------------\n",
            "\n",
            "Файл: 127287.wav\n",
            "Вероятности по всем жанрам:\n",
            "classical: 15.760000228881836%\n",
            "disco: 0.0%\n",
            "hiphop: 0.0%\n",
            "**country: 44.470001220703125%**\n",
            "pop: 0.0%\n",
            "jazz: 17.56999969482422%\n",
            "blues: 0.0%\n",
            "reggae: 0.0%\n",
            "rock: 22.200000762939453%\n",
            "metal: 0.0%\n",
            "----------------------------------------\n",
            "\n",
            "Файл: 089485.wav\n",
            "Вероятности по всем жанрам:\n",
            "classical: 0.0%\n",
            "disco: 0.0%\n",
            "hiphop: 0.0%\n",
            "**country: 100.0%**\n",
            "pop: 0.0%\n",
            "jazz: 0.0%\n",
            "blues: 0.0%\n",
            "reggae: 0.0%\n",
            "rock: 0.0%\n",
            "metal: 0.0%\n",
            "----------------------------------------\n",
            "\n",
            "Файл: 085420.wav\n",
            "Вероятности по всем жанрам:\n",
            "classical: 22.219999313354492%\n",
            "**disco: 33.33000183105469%**\n",
            "hiphop: 0.0%\n",
            "country: 22.06999969482422%\n",
            "pop: 0.15000000596046448%\n",
            "jazz: 0.0%\n",
            "blues: 0.0%\n",
            "reggae: 0.0%\n",
            "rock: 22.219999313354492%\n",
            "metal: 0.0%\n",
            "----------------------------------------\n",
            "\n",
            "Файл: 095915.wav\n",
            "Вероятности по всем жанрам:\n",
            "classical: 0.0%\n",
            "disco: 0.0%\n",
            "hiphop: 0.019999999552965164%\n",
            "country: 0.0%\n",
            "**pop: 99.9800033569336%**\n",
            "jazz: 0.0%\n",
            "blues: 0.0%\n",
            "reggae: 0.0%\n",
            "rock: 0.0%\n",
            "metal: 0.0%\n",
            "----------------------------------------\n",
            "\n",
            "Файл: 025030.wav\n",
            "Вероятности по всем жанрам:\n",
            "classical: 22.219999313354492%\n",
            "disco: 0.0%\n",
            "hiphop: 0.0%\n",
            "country: 0.0%\n",
            "pop: 0.0%\n",
            "jazz: 0.0%\n",
            "blues: 0.0%\n",
            "**reggae: 77.77999877929688%**\n",
            "rock: 0.0%\n",
            "metal: 0.0%\n",
            "----------------------------------------\n",
            "\n",
            "Файл: 121589.wav\n",
            "Вероятности по всем жанрам:\n",
            "classical: 0.0%\n",
            "disco: 0.0%\n",
            "hiphop: 10.0%\n",
            "country: 10.0%\n",
            "pop: 30.0%\n",
            "jazz: 0.0%\n",
            "blues: 0.0%\n",
            "reggae: 10.0%\n",
            "**rock: 40.0%**\n",
            "metal: 0.0%\n",
            "----------------------------------------\n"
          ]
        }
      ]
    },
    {
      "cell_type": "markdown",
      "source": [
        "# Cнипет трека"
      ],
      "metadata": {
        "id": "MtRBoJtOX8v-"
      }
    },
    {
      "cell_type": "code",
      "source": [
        "import torchaudio\n",
        "import torch\n",
        "\n",
        "def load_and_chunk_audio(path, chunk_duration_sec=5.0):\n",
        "    waveform, sample_rate = torchaudio.load(path)\n",
        "    total_samples = waveform.shape[1]\n",
        "    chunk_size = int(sample_rate * chunk_duration_sec)\n",
        "\n",
        "    chunks = []\n",
        "    for start in range(0, total_samples - chunk_size + 1, chunk_size):\n",
        "        end = start + chunk_size\n",
        "        chunk = waveform[:, start:end]\n",
        "        chunks.append((chunk, start / sample_rate))  # Сохраняем с временной меткой\n",
        "\n",
        "    return chunks, sample_rate\n"
      ],
      "metadata": {
        "id": "ydicnfvvX-42"
      },
      "execution_count": null,
      "outputs": []
    },
    {
      "cell_type": "code",
      "source": [
        "def compute_chunk_score(chunk):\n",
        "    # RMS (энергия)\n",
        "    energy = chunk.pow(2).mean().item()\n",
        "    # Спектральная плотность (интереснее высокочастотные фрагменты)\n",
        "    spec = torch.stft(chunk, n_fft=1024, return_complex=True)\n",
        "    spectral_energy = spec.abs().mean().item()\n",
        "\n",
        "    return energy + 0.5 * spectral_energy  # можно настраивать веса\n"
      ],
      "metadata": {
        "id": "eUOGZbzyX_Si"
      },
      "execution_count": null,
      "outputs": []
    },
    {
      "cell_type": "code",
      "source": [
        "def find_best_snippet(audio_path, chunk_duration=5.0):\n",
        "    chunks, sr = load_and_chunk_audio(audio_path, chunk_duration)\n",
        "\n",
        "    scored_chunks = []\n",
        "    for chunk, start_time in chunks:\n",
        "        score = compute_chunk_score(chunk)\n",
        "        scored_chunks.append((score, start_time))\n",
        "\n",
        "    best_chunk = max(scored_chunks, key=lambda x: x[0])\n",
        "    return best_chunk[1], best_chunk[1] + 2*chunk_duration  # start_time, end_time\n"
      ],
      "metadata": {
        "id": "Kav8AlNiYAki"
      },
      "execution_count": null,
      "outputs": []
    },
    {
      "cell_type": "code",
      "source": [
        "import torchaudio\n",
        "def save_snippet(audio_path, start_sec, end_sec, output_path):\n",
        "    waveform, sample_rate = torchaudio.load(audio_path)\n",
        "    start_sample = int(start_sec * sample_rate)\n",
        "    end_sample = int(end_sec * sample_rate)\n",
        "    snippet = waveform[:, start_sample:end_sample]\n",
        "    torchaudio.save(output_path, snippet, sample_rate)\n"
      ],
      "metadata": {
        "id": "A5Xf8oSkYPdk"
      },
      "execution_count": null,
      "outputs": []
    },
    {
      "cell_type": "code",
      "source": [
        "audio_path = \"lady gaga.mp3\"\n",
        "start, end = find_best_snippet(audio_path, chunk_duration=10.0)\n",
        "save_snippet(audio_path, start, end, \"snippet.wav\")\n",
        "print(f\"Сниппет: с {start:.2f} до {end:.2f} секунд\")\n"
      ],
      "metadata": {
        "id": "PwP7xeOLYQYr"
      },
      "execution_count": null,
      "outputs": []
    },
    {
      "cell_type": "code",
      "source": [],
      "metadata": {
        "id": "fKbWRUR0Yy2_"
      },
      "execution_count": null,
      "outputs": []
    }
  ]
}