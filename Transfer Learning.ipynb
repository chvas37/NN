{
  "cells": [
    {
      "cell_type": "markdown",
      "metadata": {
        "id": "9YnJ020I7129"
      },
      "source": [
        "# Использование предобученных моделей  (Transfer Learning)\n",
        "\n",
        "Задание: загрузить датасет и использовать перенос обучения для решения задачи классификации.\n",
        "\n",
        "## Порядок выполнения\n",
        "\n",
        "1. Загрузить датасет ;\n",
        "1. Подготовить transforms, DataSet и DataLoader;\n",
        "1. Выбрать одну из моделей\n",
        "Список предобученных моделей в Pytorch.(https://pytorch.org/vision/stable/models.html#classification)\n",
        "1. Использовать на этой модели прием выделения признаков;\n",
        "1. Использовать на этой модели прием дообучения (fine-tune);\n",
        "1. Оценить результаты лучшей модели на тестовой выборке.\n",
        "Написать выводы по итогам работы.\n",
        "```\n",
        "\n",
        "\n"
      ]
    },
    {
      "cell_type": "code",
      "source": [],
      "metadata": {
        "id": "r3EF2eQKR2QJ"
      },
      "execution_count": null,
      "outputs": []
    },
    {
      "cell_type": "code",
      "execution_count": 1,
      "metadata": {
        "colab": {
          "base_uri": "https://localhost:8080/"
        },
        "id": "KEYsp5c_713B",
        "outputId": "c13c080a-739e-46ab-b628-0ad3291dc67d"
      },
      "outputs": [
        {
          "output_type": "stream",
          "name": "stderr",
          "text": [
            "<ipython-input-1-52a54a514ba7>:2: TqdmExperimentalWarning: Using `tqdm.autonotebook.tqdm` in notebook mode. Use `tqdm.tqdm` instead to force console mode (e.g. in jupyter console)\n",
            "  from tqdm.autonotebook import tqdm, trange\n"
          ]
        }
      ],
      "source": [
        "import os\n",
        "from tqdm.autonotebook import tqdm, trange\n",
        "\n",
        "import torch\n",
        "import torch.nn as nn\n",
        "import torch.optim as optim\n",
        "from torch.optim import lr_scheduler\n",
        "\n",
        "import numpy as np\n",
        "import torchvision\n",
        "from torchvision import datasets, models, transforms\n",
        "import matplotlib.pyplot as plt\n",
        "import time\n",
        "import copy\n",
        "import matplotlib.pyplot as plt\n",
        "import PIL\n",
        "import random\n",
        "\n",
        "\n",
        "%matplotlib inline"
      ]
    },
    {
      "cell_type": "code",
      "execution_count": 2,
      "metadata": {
        "colab": {
          "base_uri": "https://localhost:8080/"
        },
        "id": "Sd8jQXdk8M2_",
        "outputId": "07309986-7f5c-4582-be43-959fccfb918c"
      },
      "outputs": [
        {
          "output_type": "stream",
          "name": "stdout",
          "text": [
            "Mounted at /content/drive\n"
          ]
        }
      ],
      "source": [
        "from google.colab import drive\n",
        "drive.mount('/content/drive')"
      ]
    },
    {
      "cell_type": "code",
      "source": [
        "!unzip -qo hymenoptera_data.zip -d data/"
      ],
      "metadata": {
        "id": "h2eFyUIQSiIf"
      },
      "execution_count": null,
      "outputs": []
    },
    {
      "cell_type": "code",
      "source": [
        "os.listdir('/content/data')"
      ],
      "metadata": {
        "colab": {
          "base_uri": "https://localhost:8080/"
        },
        "id": "BggpWZteSlno",
        "outputId": "e5959da4-3495-4a8a-be54-7b9cd2330189"
      },
      "execution_count": null,
      "outputs": [
        {
          "output_type": "execute_result",
          "data": {
            "text/plain": [
              "['hymenoptera_data']"
            ]
          },
          "metadata": {},
          "execution_count": 4
        }
      ]
    },
    {
      "cell_type": "markdown",
      "source": [
        "## Создание Dataset и DataLoader\n",
        "\n",
        "По аналогии с прошлыми заданиями требуется создать transforms, которые передаются в создаваемый Dataset и из датасета  создаете DataLoaders.\n",
        "\n",
        "Можно использовать:\n",
        "\n",
        "- v2.ToImage()\n",
        "- v2.Resize() или v2.RandomResizedCrop() - размер изображения после кадрирования, должен быть равен размеру ожидаемому на ходе предобученной модели.\n",
        "- v2.RandomRotation()\n",
        "- v2.RandomHorizontalFlip()\n",
        "- v2.ToDtype()\n",
        "\n",
        "[Описания в документации](https://pytorch.org/vision/stable/transforms.html#v2-api-reference-recommended)"
      ],
      "metadata": {
        "id": "TzjBjC5mUfHa"
      }
    },
    {
      "cell_type": "code",
      "execution_count": 3,
      "metadata": {
        "id": "2yigA__d713C"
      },
      "outputs": [],
      "source": [
        "# Аугментация обучающих данных для расширения обучающей выборки и её нормализация\n",
        "# Для валидационной (тестовой) выборки только нормализация\n",
        "\n",
        "data_transforms = {\n",
        "    'train': transforms.Compose([\n",
        "        transforms.RandomResizedCrop(244),\n",
        "        transforms.RandomHorizontalFlip(),\n",
        "        transforms.ToTensor(),\n",
        "        transforms.Normalize([0.485, 0.456, 0.406], [0.229, 0.224, 0.225])\n",
        "    ]),\n",
        "    'val': transforms.Compose([\n",
        "        transforms.Resize(256),\n",
        "        transforms.CenterCrop(244),\n",
        "        transforms.ToTensor(),\n",
        "        transforms.Normalize([0.485, 0.456, 0.406], [0.229, 0.224, 0.225])\n",
        "    ]),\n",
        "}\n",
        "\n",
        "data_dir = '/content/drive/MyDrive/hymenoptera_data/hymenoptera_data'\n",
        "\n",
        "image_datasets = {x: datasets.ImageFolder(os.path.join(data_dir, x), data_transforms[x]) for x in ['train', 'val']}\n",
        "# создание dataloaders\n",
        "dataloaders = {x: torch.utils.data.DataLoader(image_datasets[x], batch_size=4, shuffle=True, num_workers=2) for x in ['train', 'val']}\n",
        "dataset_sizes = {x: len(image_datasets[x]) for x in ['train', 'val']}\n",
        "class_names = image_datasets['train'].classes\n",
        "\n",
        "use_gpu = torch.cuda.is_available()\n",
        "device = torch.device(\"cuda:0\" if torch.cuda.is_available() else \"cpu\")"
      ]
    },
    {
      "cell_type": "markdown",
      "metadata": {
        "id": "thSj4dL4713C"
      },
      "source": [
        "# Извлечение признаков\n",
        "\n",
        "## Прием извлечения признаков\n",
        "\n",
        "Этот прием может использоваться как сам по себе, так и быть предварительным этапом для дообучения.\n",
        "\n",
        "Он заключается в том, что заменяется полносвязная часть модели (head/голова) на свою с учетом размерностей выходных данных из сверточной части и количеством классов в текущей задаче. Перед обучением требуется \"заморозить\" параметры сверточных слоев.\n",
        "\n",
        "\n",
        "\n",
        "[Список](https://pytorch.org/vision/stable/models.html#classification)\n",
        "\n",
        "1.   Новый пункт\n",
        "2.   Новый пункт\n",
        "\n",
        "предобученных моделей в Pytorch."
      ]
    },
    {
      "cell_type": "markdown",
      "metadata": {
        "id": "nHKxFaYn713D"
      },
      "source": [
        "### Загрузка модели\n",
        "У модели можно использовать метод .parameters(), он возвращает итерируемый объект с параметрами вашей модели, (можно их перебрать и отключить необходимость расчета градиентов)."
      ]
    },
    {
      "cell_type": "code",
      "execution_count": 4,
      "metadata": {
        "colab": {
          "base_uri": "https://localhost:8080/"
        },
        "id": "CprkNCxZ713D",
        "outputId": "211685e1-02fa-480e-dc4e-7a28de1b68da"
      },
      "outputs": [
        {
          "output_type": "stream",
          "name": "stderr",
          "text": [
            "/usr/local/lib/python3.11/dist-packages/torchvision/models/_utils.py:208: UserWarning: The parameter 'pretrained' is deprecated since 0.13 and may be removed in the future, please use 'weights' instead.\n",
            "  warnings.warn(\n",
            "/usr/local/lib/python3.11/dist-packages/torchvision/models/_utils.py:223: UserWarning: Arguments other than a weight enum or `None` for 'weights' are deprecated since 0.13 and may be removed in the future. The current behavior is equivalent to passing `weights=ResNet18_Weights.IMAGENET1K_V1`. You can also use `weights=ResNet18_Weights.DEFAULT` to get the most up-to-date weights.\n",
            "  warnings.warn(msg)\n",
            "Downloading: \"https://download.pytorch.org/models/resnet18-f37072fd.pth\" to /root/.cache/torch/hub/checkpoints/resnet18-f37072fd.pth\n",
            "100%|██████████| 44.7M/44.7M [00:00<00:00, 188MB/s]\n"
          ]
        }
      ],
      "source": [
        "num_classes = 2 # Количество классов в вашей задаче\n",
        "#model_conv = torchvision.models.resnet101(pretrained=True)\n",
        "model_conv = torchvision.models.resnet18(pretrained=True) # Выбирите 2-3 модели из списка и дообучите их (pretrained=True)\n",
        "for param in model_conv.parameters():\n",
        "    param.requires_grad = False\n",
        "\n",
        "# Получение количества входных признаков в полносвязном слое (fc) предобученной модели.\n",
        "# Параметры вновь созданных моделей по умолчанию имеют requires_grad=True\n",
        "num_ftrs = model_conv.fc.in_features\n",
        "\n",
        "# Замена полносвязного слоя (fc) предобученной модели.\n",
        "model_conv.fc = nn.Linear(num_ftrs, num_classes)\n",
        "\n",
        "model_conv = model_conv.to(device)\n",
        "\n",
        "\n",
        "# Создание функции потерь\n",
        "loss_fn = nn.CrossEntropyLoss()\n",
        "\n",
        "# Создание оптимизатора\n",
        "# Обратите внимание, что оптимизируются только параметры последнего слоя, в отличие от предыдущего.\n",
        "optimizer_conv = optim.SGD(model_conv.fc.parameters(), lr=0.001, momentum=0.9)\n",
        "\n"
      ]
    },
    {
      "cell_type": "markdown",
      "source": [
        "В этой работе также рассмотрим применение планировщика для изменения скорости обучения. Ранее скорость обучения была константой, теперь же в процессе обучения каждые n эпох будем ее снижать."
      ],
      "metadata": {
        "id": "VlfOJXRgcWUn"
      }
    },
    {
      "cell_type": "code",
      "source": [
        "from torch.optim import lr_scheduler\n",
        "\n",
        "# Создание экземпляра StepLR\n",
        "# Уменьшение LR в 0,1 раза каждые 7 эпох\n",
        "exp_lr_scheduler = lr_scheduler.StepLR(optimizer_conv, step_size=7, gamma=0.1)"
      ],
      "metadata": {
        "id": "KunCo1K9caMz"
      },
      "execution_count": 5,
      "outputs": []
    },
    {
      "cell_type": "markdown",
      "metadata": {
        "id": "Qp4xgY8B713D"
      },
      "source": [
        "### ### Обучение и тестирование\n",
        "\n",
        "Несколько эпох обучите модель в таком состоянии. Для обучения используйте цикл с эпохами и перебором dataloader, но к нему в цикл эпох требуется добавить шаг планировщика scheduler.step().\n",
        "\n",
        "Функция обучения с переключением режимов моделей (model.train(), model.eval()), так как теперь в них может быть пакетная нормализация и используйте контекст torch.no_grad() при проверке модели."
      ]
    },
    {
      "cell_type": "code",
      "execution_count": 6,
      "metadata": {
        "id": "AQ5tWjZf713D"
      },
      "outputs": [],
      "source": [
        "def train_model(model, loss_fn, optimizer, scheduler, num_epochs=25):\n",
        "    since = time.time()\n",
        "\n",
        "    best_model_wts = copy.deepcopy(model.state_dict())\n",
        "    best_acc = 0.0\n",
        "\n",
        "    for epoch in range(num_epochs):\n",
        "        print(f'Epoch {epoch}/{num_epochs - 1}')\n",
        "        print('-' * 10)\n",
        "\n",
        "        ## Каждая эпоха имеет обучающую и тестовую фазу\n",
        "        for phase in ['train', 'val']:\n",
        "            if phase == 'train':\n",
        "                model.train()  # # Установка модели в режим обучения\n",
        "            else:\n",
        "                model.eval()   # Установка модели в режим оценки\n",
        "\n",
        "            running_loss = 0.0\n",
        "            running_corrects = 0\n",
        "\n",
        "            # Итерация по данным\n",
        "            for inputs, labels in dataloaders[phase]:\n",
        "                inputs = inputs.to(device)\n",
        "                labels = labels.to(device)\n",
        "\n",
        "                # Обнуление градиентов параметров\n",
        "                optimizer.zero_grad()\n",
        "\n",
        "                # forward\n",
        "                # Обучение только для режима  'train'\n",
        "                with torch.set_grad_enabled(phase == 'train'):\n",
        "                    outputs = model(inputs)\n",
        "                    _, preds = torch.max(outputs, 1)\n",
        "                    loss = loss_fn(outputs, labels)\n",
        "\n",
        "                    # backward + запуск только для обучающей фазы\n",
        "                    if phase == 'train':\n",
        "                        loss.backward()\n",
        "                        optimizer.step()\n",
        "\n",
        "                # Сбор статистик\n",
        "                running_loss += loss.item() * inputs.size(0)\n",
        "                running_corrects += torch.sum(preds == labels.data)\n",
        "            if phase == 'train':\n",
        "                scheduler.step()\n",
        "\n",
        "            epoch_loss = running_loss / dataset_sizes[phase]\n",
        "            epoch_acc = running_corrects.double() / dataset_sizes[phase]\n",
        "\n",
        "            print(f'{phase} Loss: {epoch_loss:.4f} Acc: {epoch_acc:.4f}')\n",
        "\n",
        "            # лучшая модель\n",
        "            if phase == 'val' and epoch_acc > best_acc:\n",
        "                best_acc = epoch_acc\n",
        "                best_model_wts = copy.deepcopy(model.state_dict())\n",
        "\n",
        "        print()\n",
        "\n",
        "    time_elapsed = time.time() - since\n",
        "    print(f'Training complete in {time_elapsed // 60:.0f}m {time_elapsed % 60:.0f}s')\n",
        "    print(f'Best val Acc: {best_acc:4f}')\n",
        "\n",
        "    # сохранение модели\n",
        "    model.load_state_dict(best_model_wts)\n",
        "    return model"
      ]
    },
    {
      "cell_type": "markdown",
      "metadata": {
        "id": "xh0aMjzb713E"
      },
      "source": [
        "### Обучение и оценка"
      ]
    },
    {
      "cell_type": "code",
      "execution_count": 7,
      "metadata": {
        "colab": {
          "base_uri": "https://localhost:8080/"
        },
        "id": "EywUpjds713E",
        "outputId": "cfafc6cc-a5ae-474f-c9b1-b3a570d1035b"
      },
      "outputs": [
        {
          "output_type": "stream",
          "name": "stdout",
          "text": [
            "Epoch 0/9\n",
            "----------\n",
            "train Loss: 0.5573 Acc: 0.6885\n",
            "val Loss: 0.3860 Acc: 0.8105\n",
            "\n",
            "Epoch 1/9\n",
            "----------\n",
            "train Loss: 0.5211 Acc: 0.7172\n",
            "val Loss: 0.2256 Acc: 0.9477\n",
            "\n",
            "Epoch 2/9\n",
            "----------\n",
            "train Loss: 0.4539 Acc: 0.7705\n",
            "val Loss: 0.3421 Acc: 0.8431\n",
            "\n",
            "Epoch 3/9\n",
            "----------\n",
            "train Loss: 0.5362 Acc: 0.7418\n",
            "val Loss: 0.1936 Acc: 0.9477\n",
            "\n",
            "Epoch 4/9\n",
            "----------\n",
            "train Loss: 0.5505 Acc: 0.7377\n",
            "val Loss: 0.3071 Acc: 0.8758\n",
            "\n",
            "Epoch 5/9\n",
            "----------\n",
            "train Loss: 0.4539 Acc: 0.8033\n",
            "val Loss: 0.2576 Acc: 0.9085\n",
            "\n",
            "Epoch 6/9\n",
            "----------\n",
            "train Loss: 0.5266 Acc: 0.7500\n",
            "val Loss: 0.1585 Acc: 0.9346\n",
            "\n",
            "Epoch 7/9\n",
            "----------\n",
            "train Loss: 0.3740 Acc: 0.8484\n",
            "val Loss: 0.1576 Acc: 0.9608\n",
            "\n",
            "Epoch 8/9\n",
            "----------\n",
            "train Loss: 0.3461 Acc: 0.8443\n",
            "val Loss: 0.1678 Acc: 0.9412\n",
            "\n",
            "Epoch 9/9\n",
            "----------\n",
            "train Loss: 0.3503 Acc: 0.8566\n",
            "val Loss: 0.1531 Acc: 0.9412\n",
            "\n",
            "Training complete in 1m 41s\n",
            "Best val Acc: 0.960784\n"
          ]
        }
      ],
      "source": [
        "model_ft = train_model(model_conv, loss_fn, optimizer_conv, exp_lr_scheduler, num_epochs=10)"
      ]
    },
    {
      "cell_type": "markdown",
      "metadata": {
        "id": "tQr2DH8w713F"
      },
      "source": [
        "## Анализ данных\n",
        "\n",
        "\n",
        "Проанализировать данные и сделать выводы о возможных проблемах.\n",
        "\n"
      ]
    },
    {
      "cell_type": "markdown",
      "source": [
        "#  Задание\n",
        "\n",
        "Решить  задачу классификации используя перенос обучения.\n",
        "\n",
        "Определить задачу по классификации изображений основываясь на  теме исследований. (придумать абстрактную задачу).\n",
        "\n",
        "В рамках задачи выбрать количество классов объектов. На каждый класс подобрать минимум по 30 изображений и распределить их на обучающую (train) и проверочную выборку (val).\n",
        "\n",
        "Выбрать 2-3 уже обученные модели, дообучить их на своих данных и оценить результат.\n",
        "# Порядок выполнения\n",
        "1. Cоздать датасет ;\n",
        "2. Подготовить transforms, DataSet и DataLoader;\n",
        "3. Выбрать одну из моделей Список предобученных моделей в Pytorch.(https://pytorch.org/vision/stable/models.html#classification)\n",
        "4. Использовать на этой модели прием выделения признаков;\n",
        "5. Использовать на этой модели прием дообучения (fine-tune);\n",
        "6. Оценить результаты лучшей модели на тестовой выборке.\n",
        "\n",
        "\n"
      ],
      "metadata": {
        "id": "nGW_6DNcdnUl"
      }
    },
    {
      "cell_type": "markdown",
      "source": [
        "## Создание датасета\n",
        "\n",
        "В этом задании нужно собрать собственный датасет из изображений. В нем должно быть минимум 30 изображений для каждого класса. Количество классов не менее 2.\n",
        "\n",
        "Далее в этом разделе приведен пример кода, который помогает скачать изображения по запросу на гугл диск."
      ],
      "metadata": {
        "id": "JMDmJh40e267"
      }
    },
    {
      "cell_type": "code",
      "source": [
        "import os\n",
        "from tqdm.autonotebook import tqdm, trange\n",
        "\n",
        "import torch\n",
        "import torch.nn as nn\n",
        "import torch.optim as optim\n",
        "from torch.optim import lr_scheduler\n",
        "\n",
        "import numpy as np\n",
        "import torchvision\n",
        "from torchvision import datasets, models, transforms\n",
        "import matplotlib.pyplot as plt\n",
        "import time\n",
        "import copy"
      ],
      "metadata": {
        "id": "3-rjJ58XqRzi"
      },
      "execution_count": 8,
      "outputs": []
    },
    {
      "cell_type": "code",
      "source": [
        "# Установка пакета для работы с API поисковика DuckDuckGo\n",
        "\n",
        "!pip install -U duckduckgo_search"
      ],
      "metadata": {
        "id": "3FNyKLYKeT_h",
        "colab": {
          "base_uri": "https://localhost:8080/"
        },
        "outputId": "9b506009-4410-4174-eb0d-5c09bc2cb582"
      },
      "execution_count": 9,
      "outputs": [
        {
          "output_type": "stream",
          "name": "stdout",
          "text": [
            "Collecting duckduckgo_search\n",
            "  Downloading duckduckgo_search-7.5.2-py3-none-any.whl.metadata (17 kB)\n",
            "Requirement already satisfied: click>=8.1.8 in /usr/local/lib/python3.11/dist-packages (from duckduckgo_search) (8.1.8)\n",
            "Collecting primp>=0.14.0 (from duckduckgo_search)\n",
            "  Downloading primp-0.14.0-cp38-abi3-manylinux_2_17_x86_64.manylinux2014_x86_64.whl.metadata (13 kB)\n",
            "Requirement already satisfied: lxml>=5.3.0 in /usr/local/lib/python3.11/dist-packages (from duckduckgo_search) (5.3.1)\n",
            "Downloading duckduckgo_search-7.5.2-py3-none-any.whl (20 kB)\n",
            "Downloading primp-0.14.0-cp38-abi3-manylinux_2_17_x86_64.manylinux2014_x86_64.whl (3.3 MB)\n",
            "\u001b[?25l   \u001b[90m━━━━━━━━━━━━━━━━━━━━━━━━━━━━━━━━━━━━━━━━\u001b[0m \u001b[32m0.0/3.3 MB\u001b[0m \u001b[31m?\u001b[0m eta \u001b[36m-:--:--\u001b[0m\r\u001b[2K   \u001b[91m━━━━━━━━━━━━━━━━━━━━━━━━━━━━━━━━━━━━━━━\u001b[0m\u001b[91m╸\u001b[0m \u001b[32m3.3/3.3 MB\u001b[0m \u001b[31m138.9 MB/s\u001b[0m eta \u001b[36m0:00:01\u001b[0m\r\u001b[2K   \u001b[90m━━━━━━━━━━━━━━━━━━━━━━━━━━━━━━━━━━━━━━━━\u001b[0m \u001b[32m3.3/3.3 MB\u001b[0m \u001b[31m77.1 MB/s\u001b[0m eta \u001b[36m0:00:00\u001b[0m\n",
            "\u001b[?25hInstalling collected packages: primp, duckduckgo_search\n",
            "Successfully installed duckduckgo_search-7.5.2 primp-0.14.0\n"
          ]
        }
      ]
    },
    {
      "cell_type": "code",
      "source": [
        "import os\n",
        "import random\n",
        "import requests\n",
        "from duckduckgo_search import DDGS\n",
        "from tqdm import tqdm\n",
        "\n",
        "base_dir = \"/content/drive/My Drive/data\"\n",
        "\n",
        "train_dir = os.path.join(base_dir, \"train\")\n",
        "val_dir = os.path.join(base_dir, \"val\")\n",
        "\n",
        "for split in [train_dir, val_dir]:\n",
        "    for category in [\"dog\", \"cat\"]:\n",
        "        os.makedirs(os.path.join(split, category), exist_ok=True)\n",
        "\n",
        "print(\"Директории созданы!\")\n",
        "\n",
        "def download_images(query, category):\n",
        "    with DDGS() as ddgs:\n",
        "        images = list(ddgs.images(query, region=\"wt-wt\", size=\"Medium\", type_image=\"photo\", max_results=30))\n",
        "\n",
        "    random.shuffle(images)\n",
        "    train_images = images[:24]\n",
        "    val_images = images[24:]\n",
        "\n",
        "    for split, img_list in zip([train_dir, val_dir], [train_images, val_images]):\n",
        "        for i, img in enumerate(tqdm(img_list, desc=f\"Downloading {category} in {split}\")):\n",
        "            img_url = img[\"image\"]\n",
        "            ext = img_url.split(\".\")[-1].split(\"?\")[0]\n",
        "            img_path = os.path.join(split, category, f\"{i}.{ext}\")\n",
        "\n",
        "            try:\n",
        "                response = requests.get(img_url, timeout=10)\n",
        "                if response.status_code == 200:\n",
        "                    with open(img_path, \"wb\") as f:\n",
        "                        f.write(response.content)\n",
        "            except Exception as e:\n",
        "                print(f\"Ошибка при скачивании {img_url}: {e}\")\n",
        "\n",
        "download_images(\"dog\", \"dog\")\n",
        "download_images(\"cat\", \"cat\")\n",
        "\n",
        "print(\"Загрузка завершена!\")"
      ],
      "metadata": {
        "id": "0uxAzn9WfLyH",
        "colab": {
          "base_uri": "https://localhost:8080/"
        },
        "outputId": "80b06958-76c6-4eed-84b0-a08107fb9ca4"
      },
      "execution_count": 22,
      "outputs": [
        {
          "output_type": "stream",
          "name": "stdout",
          "text": [
            "Директории созданы!\n"
          ]
        },
        {
          "output_type": "stream",
          "name": "stderr",
          "text": [
            "Downloading dog in /content/drive/My Drive/data/train: 100%|██████████| 24/24 [00:02<00:00,  9.61it/s]\n",
            "Downloading dog in /content/drive/My Drive/data/val: 100%|██████████| 6/6 [00:00<00:00, 19.88it/s]\n",
            "Downloading cat in /content/drive/My Drive/data/train: 100%|██████████| 24/24 [00:03<00:00,  6.77it/s]\n",
            "Downloading cat in /content/drive/My Drive/data/val: 100%|██████████| 6/6 [00:00<00:00,  8.77it/s]"
          ]
        },
        {
          "output_type": "stream",
          "name": "stdout",
          "text": [
            "Загрузка завершена!\n"
          ]
        },
        {
          "output_type": "stream",
          "name": "stderr",
          "text": [
            "\n"
          ]
        }
      ]
    },
    {
      "cell_type": "code",
      "source": [
        "from google.colab import drive\n",
        "drive.mount('/content/drive')"
      ],
      "metadata": {
        "id": "TEeyTnVpfVtH",
        "colab": {
          "base_uri": "https://localhost:8080/"
        },
        "outputId": "fb145bbd-fe0e-4d49-cd8d-cda68deebbfb"
      },
      "execution_count": 23,
      "outputs": [
        {
          "output_type": "stream",
          "name": "stdout",
          "text": [
            "Drive already mounted at /content/drive; to attempt to forcibly remount, call drive.mount(\"/content/drive\", force_remount=True).\n"
          ]
        }
      ]
    },
    {
      "cell_type": "code",
      "source": [
        "!mkdir \"/content/drive/My Drive/data\""
      ],
      "metadata": {
        "id": "oWactyEhfbeg",
        "colab": {
          "base_uri": "https://localhost:8080/"
        },
        "outputId": "45f5ed52-ae93-4eeb-d40c-613a073f3aa9"
      },
      "execution_count": 24,
      "outputs": [
        {
          "output_type": "stream",
          "name": "stdout",
          "text": [
            "mkdir: cannot create directory ‘/content/drive/My Drive/data’: File exists\n"
          ]
        }
      ]
    },
    {
      "cell_type": "code",
      "source": [
        "#  содержимое файла со ссылками\n",
        "!cat cat.txt"
      ],
      "metadata": {
        "id": "whcNI7gQfeTY",
        "colab": {
          "base_uri": "https://localhost:8080/"
        },
        "outputId": "0d242c27-bdf0-4d87-c48f-68a17dcde95a"
      },
      "execution_count": 25,
      "outputs": [
        {
          "output_type": "stream",
          "name": "stdout",
          "text": [
            "https://hips.hearstapps.com/hmg-prod/images/close-up-of-cat-sitting-on-wood-turkish-angora-cat-royalty-free-image-1658453231.jpg\n",
            "https://www.catster.com/wp-content/uploads/2023/11/tuxedo-ragamuffin-cat-on-the-table_Kill_Baal_Shutterstock.jpg\n",
            "http://4.bp.blogspot.com/-iZHutM3STzc/T-xa8r1FsQI/AAAAAAAABEE/0HHeGcJ7bhc/s1600/ragdoll-cat4.jpeg\n",
            "https://www.fearfreehappyhomes.com/wp-content/uploads/2020/08/shutterstock_75059266.jpg\n",
            "https://c.pxhere.com/photos/d4/9c/pet_cat_thinking-907545.jpg!s\n",
            "https://c4.wallpaperflare.com/wallpaper/447/224/54/baby-cat-cats-cute-wallpaper-preview.jpg\n",
            "https://www.shutterstock.com/image-photo/curious-calico-cat-walking-outside-260nw-1765073558.jpg\n",
            "https://png.pngtree.com/background/20230612/original/pngtree-orange-cat-in-autumn-leaves-with-blue-eyes-picture-image_3173627.jpg\n",
            "https://www.rover.com/blog/wp-content/uploads/2020/03/cat-620030_1920-960x540.jpg\n",
            "https://www.thesprucepets.com/thmb/ZguTGsZgHTGK4One8sKHZJOVNaw=/2119x0/filters:no_upscale():strip_icc()/GettyImages-923760914-5ad611e4875db90036b4f2b9.jpg\n",
            "https://cdn.pixabay.com/photo/2017/07/09/10/52/cat-2486636_960_720.jpg\n",
            "https://i.pinimg.com/originals/98/36/23/983623a89687bc5524dab97c8642ef36.jpg\n",
            "https://png.pngtree.com/png-vector/20230928/ourmid/pngtree-cute-cat-animal-png-image_10149335.png\n",
            "https://www.explorecats.com/wp-content/uploads/2022/11/facial-alopecia-black-cat.jpg\n",
            "https://c1.wallpaperflare.com/preview/134/212/914/cat-mackerel-wink-funny-thumbnail.jpg\n",
            "https://firstvet.com/uploaded/images/articles/cat-eye-facts.jpg\n",
            "https://ptes.org/wp-content/uploads/2018/03/HWPDavidBarclay_16Jul10.jpg\n",
            "https://nypost.com/wp-content/uploads/sites/2/2023/06/NYPICHPDPICT000012089132.jpg\n",
            "https://s.financesonline.com/uploads/2016/01/21.png\n",
            "https://i.pinimg.com/236x/74/7d/c4/747dc4fec79aa5a1f3f716e89ee89b02--orange-tabby-cats-cinnamon.jpg\n",
            "https://img.jakpost.net/c/2023/02/23/2023_02_23_135816_1677117249._large.jpg\n",
            "https://i.pinimg.com/originals/a7/d7/20/a7d7203e012e9bb34d902f99a1f64d48.jpg\n",
            "https://i.pinimg.com/736x/37/87/29/37872955a811bcc31632ba6086c3d17b.jpg\n",
            "https://i.pinimg.com/736x/cd/0f/88/cd0f88d9b23cdb47487002e41adefe7c.jpg\n",
            "https://nypost.com/wp-content/uploads/sites/2/2019/12/christmas-cat-costume.jpg?quality=75&strip=all\n",
            "https://i.pinimg.com/originals/c2/03/aa/c203aacceecec25c8948b07914dfb124.jpg\n",
            "https://static01.nyt.com/images/2019/05/19/world/17grumpycat-1/17grumpycat-1-videoSixteenByNine3000.jpg?year=2019&h=1688&w=3000&s=39470bfc83fc20c58fa386793a05aca42a13ce18817c29f79e32183c129a337b&k=ZQJBKqZ0VN&tw=1\n",
            "https://giffiles.alphacoders.com/217/217740.gif\n",
            "https://media.giphy.com/media/Sn4sN4cvtH1mg/giphy.gif\n",
            "https://media.tenor.com/keHPVm2ArXcAAAAM/stellarnushu.gif\n"
          ]
        }
      ]
    },
    {
      "cell_type": "code",
      "source": [
        "# утилита wget построчно читает файл dog.txt и скачивает по URL файлы в папку,\n",
        "# указанную после флага -P. --random-wait добавляет случайные интервалы между запросами,\n",
        "# чтобы снизить вероятность блокировки\n",
        "\n",
        "!wget -i dog.txt --random-wait -P \"/content/drive/My Drive/data/cat\""
      ],
      "metadata": {
        "id": "blBXZpkOfncQ",
        "colab": {
          "base_uri": "https://localhost:8080/"
        },
        "outputId": "43395679-f50b-4699-ec0e-3fd4072b49df"
      },
      "execution_count": 26,
      "outputs": [
        {
          "output_type": "stream",
          "name": "stdout",
          "text": [
            "--2025-03-21 09:53:14--  http://www.publicdomainpictures.net/pictures/40000/velka/rough-collie-dog-1361732766Q2h.jpg\n",
            "Resolving www.publicdomainpictures.net (www.publicdomainpictures.net)... 104.20.122.60, 104.20.123.60, 172.67.1.236, ...\n",
            "Connecting to www.publicdomainpictures.net (www.publicdomainpictures.net)|104.20.122.60|:80... connected.\n",
            "HTTP request sent, awaiting response... 301 Moved Permanently\n",
            "Location: https://www.publicdomainpictures.net/pictures/40000/velka/rough-collie-dog-1361732766Q2h.jpg [following]\n",
            "--2025-03-21 09:53:14--  https://www.publicdomainpictures.net/pictures/40000/velka/rough-collie-dog-1361732766Q2h.jpg\n",
            "Connecting to www.publicdomainpictures.net (www.publicdomainpictures.net)|104.20.122.60|:443... connected.\n",
            "HTTP request sent, awaiting response... 200 OK\n",
            "Length: 467799 (457K) [image/jpeg]\n",
            "Saving to: ‘/content/drive/My Drive/data/cat/rough-collie-dog-1361732766Q2h.jpg’\n",
            "\n",
            "rough-collie-dog-13 100%[===================>] 456.83K  --.-KB/s    in 0.02s   \n",
            "\n",
            "2025-03-21 09:53:14 (21.9 MB/s) - ‘/content/drive/My Drive/data/cat/rough-collie-dog-1361732766Q2h.jpg’ saved [467799/467799]\n",
            "\n",
            "--2025-03-21 09:53:14--  https://i.pinimg.com/originals/9a/62/f7/9a62f70d3ce2847f32ad5aeab5c61090.jpg\n",
            "Resolving i.pinimg.com (i.pinimg.com)... 151.101.0.84, 151.101.64.84, 151.101.128.84, ...\n",
            "Connecting to i.pinimg.com (i.pinimg.com)|151.101.0.84|:443... connected.\n",
            "HTTP request sent, awaiting response... 200 OK\n",
            "Length: 191524 (187K) [image/jpeg]\n",
            "Saving to: ‘/content/drive/My Drive/data/cat/9a62f70d3ce2847f32ad5aeab5c61090.jpg’\n",
            "\n",
            "9a62f70d3ce2847f32a 100%[===================>] 187.04K  --.-KB/s    in 0.01s   \n",
            "\n",
            "2025-03-21 09:53:14 (15.3 MB/s) - ‘/content/drive/My Drive/data/cat/9a62f70d3ce2847f32ad5aeab5c61090.jpg’ saved [191524/191524]\n",
            "\n",
            "--2025-03-21 09:53:14--  https://product.cdn.cevaws.com/var/storage/images/media/adaptil-2017/images/www-ww/relaxed-at-home/4790609-1-www-WW/relaxed-at-home.jpg\n",
            "Resolving product.cdn.cevaws.com (product.cdn.cevaws.com)... 18.239.50.44, 18.239.50.26, 18.239.50.8, ...\n",
            "Connecting to product.cdn.cevaws.com (product.cdn.cevaws.com)|18.239.50.44|:443... connected.\n",
            "HTTP request sent, awaiting response... 200 OK\n",
            "Length: 112772 (110K) [image/jpg]\n",
            "Saving to: ‘/content/drive/My Drive/data/cat/relaxed-at-home.jpg’\n",
            "\n",
            "relaxed-at-home.jpg 100%[===================>] 110.13K  --.-KB/s    in 0.01s   \n",
            "\n",
            "Last-modified header invalid -- time-stamp ignored.\n",
            "2025-03-21 09:53:14 (11.3 MB/s) - ‘/content/drive/My Drive/data/cat/relaxed-at-home.jpg’ saved [112772/112772]\n",
            "\n",
            "--2025-03-21 09:53:14--  https://fastdogs.org/wp-content/uploads/2022/08/samoyed-big-white-fluffy-dog.jpg\n",
            "Resolving fastdogs.org (fastdogs.org)... 107.191.45.79\n",
            "Connecting to fastdogs.org (fastdogs.org)|107.191.45.79|:443... connected.\n",
            "HTTP request sent, awaiting response... 200 OK\n",
            "Length: 27486 (27K) [image/jpeg]\n",
            "Saving to: ‘/content/drive/My Drive/data/cat/samoyed-big-white-fluffy-dog.jpg’\n",
            "\n",
            "samoyed-big-white-f 100%[===================>]  26.84K  --.-KB/s    in 0.1s    \n",
            "\n",
            "2025-03-21 09:53:15 (263 KB/s) - ‘/content/drive/My Drive/data/cat/samoyed-big-white-fluffy-dog.jpg’ saved [27486/27486]\n",
            "\n",
            "--2025-03-21 09:53:15--  https://www.rover.com/blog/wp-content/uploads/2019/04/dog-1123026_1920.jpg\n",
            "Resolving www.rover.com (www.rover.com)... 104.17.221.168, 104.17.220.168, 104.17.219.168, ...\n",
            "Connecting to www.rover.com (www.rover.com)|104.17.221.168|:443... connected.\n",
            "HTTP request sent, awaiting response... 200 OK\n",
            "Length: 253351 (247K) [image/jpeg]\n",
            "Saving to: ‘/content/drive/My Drive/data/cat/dog-1123026_1920.jpg’\n",
            "\n",
            "dog-1123026_1920.jp 100%[===================>] 247.41K  --.-KB/s    in 0.02s   \n",
            "\n",
            "2025-03-21 09:53:16 (13.5 MB/s) - ‘/content/drive/My Drive/data/cat/dog-1123026_1920.jpg’ saved [253351/253351]\n",
            "\n",
            "--2025-03-21 09:53:16--  https://www.dailypaws.com/thmb/5pHSG2Ln_p0n5aaMD2HmGV9xqNQ=/1500x0/filters:no_upscale():max_bytes(150000):strip_icc()/cane-corso-beach-2-231666658-2000-efcd41a11d424b9ebe8340ae72d3255f.jpg\n",
            "Resolving www.dailypaws.com (www.dailypaws.com)... 151.101.2.137, 151.101.66.137, 151.101.130.137, ...\n",
            "Connecting to www.dailypaws.com (www.dailypaws.com)|151.101.2.137|:443... connected.\n",
            "HTTP request sent, awaiting response... 200 OK\n",
            "Length: 134711 (132K) [image/jpeg]\n",
            "Saving to: ‘/content/drive/My Drive/data/cat/cane-corso-beach-2-231666658-2000-efcd41a11d424b9ebe8340ae72d3255f.jpg’\n",
            "\n",
            "cane-corso-beach-2- 100%[===================>] 131.55K  --.-KB/s    in 0.01s   \n",
            "\n",
            "2025-03-21 09:53:16 (13.4 MB/s) - ‘/content/drive/My Drive/data/cat/cane-corso-beach-2-231666658-2000-efcd41a11d424b9ebe8340ae72d3255f.jpg’ saved [134711/134711]\n",
            "\n",
            "--2025-03-21 09:53:16--  https://worldanimalfoundation.org/wp-content/uploads/2022/12/Boxer-Dog-review.jpg\n",
            "Resolving worldanimalfoundation.org (worldanimalfoundation.org)... 162.159.135.42\n",
            "Connecting to worldanimalfoundation.org (worldanimalfoundation.org)|162.159.135.42|:443... connected.\n",
            "HTTP request sent, awaiting response... 200 OK\n",
            "Length: 116722 (114K) [image/jpeg]\n",
            "Saving to: ‘/content/drive/My Drive/data/cat/Boxer-Dog-review.jpg’\n",
            "\n",
            "Boxer-Dog-review.jp 100%[===================>] 113.99K  --.-KB/s    in 0.01s   \n",
            "\n",
            "2025-03-21 09:53:16 (11.4 MB/s) - ‘/content/drive/My Drive/data/cat/Boxer-Dog-review.jpg’ saved [116722/116722]\n",
            "\n",
            "--2025-03-21 09:53:16--  https://images.ctfassets.net/m5ehn3s5t7ec/wp-image-198404/755489113b480b4fb7c386820bc528c8/Top-5-Japanese-Dog-Breeds.jpg\n",
            "Resolving images.ctfassets.net (images.ctfassets.net)... 18.239.36.17, 18.239.36.12, 18.239.36.108, ...\n",
            "Connecting to images.ctfassets.net (images.ctfassets.net)|18.239.36.17|:443... connected.\n",
            "HTTP request sent, awaiting response... 200 OK\n",
            "Length: 149104 (146K) [image/jpeg]\n",
            "Saving to: ‘/content/drive/My Drive/data/cat/Top-5-Japanese-Dog-Breeds.jpg’\n",
            "\n",
            "Top-5-Japanese-Dog- 100%[===================>] 145.61K  --.-KB/s    in 0.01s   \n",
            "\n",
            "2025-03-21 09:53:16 (9.57 MB/s) - ‘/content/drive/My Drive/data/cat/Top-5-Japanese-Dog-Breeds.jpg’ saved [149104/149104]\n",
            "\n",
            "--2025-03-21 09:53:16--  http://photos.demandstudios.com/getty/article/103/22/454189451.jpg\n",
            "Resolving photos.demandstudios.com (photos.demandstudios.com)... 65.9.86.80, 65.9.86.33, 65.9.86.92, ...\n",
            "Connecting to photos.demandstudios.com (photos.demandstudios.com)|65.9.86.80|:80... connected.\n",
            "HTTP request sent, awaiting response... 200 OK\n",
            "Length: 1227707 (1.2M) [image/jpeg]\n",
            "Saving to: ‘/content/drive/My Drive/data/cat/454189451.jpg’\n",
            "\n",
            "454189451.jpg       100%[===================>]   1.17M  --.-KB/s    in 0.03s   \n",
            "\n",
            "2025-03-21 09:53:16 (39.8 MB/s) - ‘/content/drive/My Drive/data/cat/454189451.jpg’ saved [1227707/1227707]\n",
            "\n",
            "--2025-03-21 09:53:16--  https://dogbreeds.wiki/uploads/c/chow-chow-photo-6.jpg\n",
            "Resolving dogbreeds.wiki (dogbreeds.wiki)... 172.67.196.178, 104.21.52.75, 2606:4700:3031::6815:344b, ...\n",
            "Connecting to dogbreeds.wiki (dogbreeds.wiki)|172.67.196.178|:443... connected.\n",
            "HTTP request sent, awaiting response... 200 OK\n",
            "Length: 447287 (437K) [image/jpeg]\n",
            "Saving to: ‘/content/drive/My Drive/data/cat/chow-chow-photo-6.jpg’\n",
            "\n",
            "chow-chow-photo-6.j 100%[===================>] 436.80K  --.-KB/s    in 0.02s   \n",
            "\n",
            "2025-03-21 09:53:16 (21.9 MB/s) - ‘/content/drive/My Drive/data/cat/chow-chow-photo-6.jpg’ saved [447287/447287]\n",
            "\n",
            "--2025-03-21 09:53:16--  https://www.rover.com/blog/wp-content/uploads/black-tongue-chow-chow-outside-e1679236954298.jpg\n",
            "Connecting to www.rover.com (www.rover.com)|104.17.221.168|:443... connected.\n",
            "HTTP request sent, awaiting response... 200 OK\n",
            "Length: 120448 (118K) [image/jpeg]\n",
            "Saving to: ‘/content/drive/My Drive/data/cat/black-tongue-chow-chow-outside-e1679236954298.jpg’\n",
            "\n",
            "black-tongue-chow-c 100%[===================>] 117.62K  --.-KB/s    in 0.01s   \n",
            "\n",
            "2025-03-21 09:53:16 (10.1 MB/s) - ‘/content/drive/My Drive/data/cat/black-tongue-chow-chow-outside-e1679236954298.jpg’ saved [120448/120448]\n",
            "\n",
            "--2025-03-21 09:53:16--  https://i.dailymail.co.uk/1s/2022/05/26/10/58308117-0-image-a-37_1653556778285.jpg\n",
            "Resolving i.dailymail.co.uk (i.dailymail.co.uk)... 23.200.188.202, 2a02:26f0:1180:186::16c2, 2a02:26f0:1180:185::16c2\n",
            "Connecting to i.dailymail.co.uk (i.dailymail.co.uk)|23.200.188.202|:443... connected.\n",
            "HTTP request sent, awaiting response... 200 OK\n",
            "Length: 332132 (324K) [image/jpeg]\n",
            "Saving to: ‘/content/drive/My Drive/data/cat/58308117-0-image-a-37_1653556778285.jpg’\n",
            "\n",
            "58308117-0-image-a- 100%[===================>] 324.35K  --.-KB/s    in 0.05s   \n",
            "\n",
            "2025-03-21 09:53:16 (6.15 MB/s) - ‘/content/drive/My Drive/data/cat/58308117-0-image-a-37_1653556778285.jpg’ saved [332132/332132]\n",
            "\n",
            "--2025-03-21 09:53:16--  https://www.hepper.com/wp-content/uploads/2021/11/dogue-de-bordeaux-1047521_1280.jpg\n",
            "Resolving www.hepper.com (www.hepper.com)... 104.21.48.1, 104.21.112.1, 104.21.16.1, ...\n",
            "Connecting to www.hepper.com (www.hepper.com)|104.21.48.1|:443... connected.\n",
            "HTTP request sent, awaiting response... 200 OK\n",
            "Length: 178958 (175K) [image/jpeg]\n",
            "Saving to: ‘/content/drive/My Drive/data/cat/dogue-de-bordeaux-1047521_1280.jpg’\n",
            "\n",
            "dogue-de-bordeaux-1 100%[===================>] 174.76K  --.-KB/s    in 0.01s   \n",
            "\n",
            "2025-03-21 09:53:16 (11.8 MB/s) - ‘/content/drive/My Drive/data/cat/dogue-de-bordeaux-1047521_1280.jpg’ saved [178958/178958]\n",
            "\n",
            "--2025-03-21 09:53:16--  https://upload.wikimedia.org/wikipedia/commons/e/e8/Afghan_dog_-_cropped.jpg\n",
            "Resolving upload.wikimedia.org (upload.wikimedia.org)... 185.15.59.240, 2a02:ec80:300:ed1a::2:b\n",
            "Connecting to upload.wikimedia.org (upload.wikimedia.org)|185.15.59.240|:443... connected.\n",
            "HTTP request sent, awaiting response... 200 OK\n",
            "Length: 26927 (26K) [image/jpeg]\n",
            "Saving to: ‘/content/drive/My Drive/data/cat/Afghan_dog_-_cropped.jpg’\n",
            "\n",
            "Afghan_dog_-_croppe 100%[===================>]  26.30K  --.-KB/s    in 0.004s  \n",
            "\n",
            "2025-03-21 09:53:16 (6.79 MB/s) - ‘/content/drive/My Drive/data/cat/Afghan_dog_-_cropped.jpg’ saved [26927/26927]\n",
            "\n",
            "--2025-03-21 09:53:16--  https://www.dailypaws.com/thmb/BtAW0agaN0mhpHZ2SKIAuMa9830=/750x0/filters:no_upscale():max_bytes(150000):strip_icc()/what-kind-of-dog-is-bluey-2000-7a285425a7be48ca9149a81e044c4a9c.jpg\n",
            "Connecting to www.dailypaws.com (www.dailypaws.com)|151.101.2.137|:443... connected.\n",
            "HTTP request sent, awaiting response... 200 OK\n",
            "Length: 66166 (65K) [image/jpeg]\n",
            "Saving to: ‘/content/drive/My Drive/data/cat/what-kind-of-dog-is-bluey-2000-7a285425a7be48ca9149a81e044c4a9c.jpg’\n",
            "\n",
            "what-kind-of-dog-is 100%[===================>]  64.62K  --.-KB/s    in 0.004s  \n",
            "\n",
            "2025-03-21 09:53:16 (17.6 MB/s) - ‘/content/drive/My Drive/data/cat/what-kind-of-dog-is-bluey-2000-7a285425a7be48ca9149a81e044c4a9c.jpg’ saved [66166/66166]\n",
            "\n",
            "--2025-03-21 09:53:16--  https://static.euronews.com/articles/stories/07/79/61/16/1200x675_cmsv2_35ae5ff8-a2c1-5228-a0ca-c1c176c15a0a-7796116.jpg\n",
            "Resolving static.euronews.com (static.euronews.com)... 151.101.1.91, 151.101.65.91, 151.101.129.91, ...\n",
            "Connecting to static.euronews.com (static.euronews.com)|151.101.1.91|:443... connected.\n",
            "HTTP request sent, awaiting response... 200 OK\n",
            "Length: 112040 (109K) [image/jpeg]\n",
            "Saving to: ‘/content/drive/My Drive/data/cat/1200x675_cmsv2_35ae5ff8-a2c1-5228-a0ca-c1c176c15a0a-7796116.jpg’\n",
            "\n",
            "1200x675_cmsv2_35ae 100%[===================>] 109.41K  --.-KB/s    in 0.007s  \n",
            "\n",
            "2025-03-21 09:53:16 (15.2 MB/s) - ‘/content/drive/My Drive/data/cat/1200x675_cmsv2_35ae5ff8-a2c1-5228-a0ca-c1c176c15a0a-7796116.jpg’ saved [112040/112040]\n",
            "\n",
            "--2025-03-21 09:53:16--  https://live.staticflickr.com/65535/48900243278_05e838356e.jpg\n",
            "Resolving live.staticflickr.com (live.staticflickr.com)... 65.9.83.84, 2600:9000:2104:3600:0:5a51:64c9:c681, 2600:9000:2104:3800:0:5a51:64c9:c681, ...\n",
            "Connecting to live.staticflickr.com (live.staticflickr.com)|65.9.83.84|:443... connected.\n",
            "HTTP request sent, awaiting response... 200 OK\n",
            "Length: unspecified [image/jpeg]\n",
            "Saving to: ‘/content/drive/My Drive/data/cat/48900243278_05e838356e.jpg’\n",
            "\n",
            "48900243278_05e8383     [ <=>                ]  41.25K  --.-KB/s    in 0.004s  \n",
            "\n",
            "2025-03-21 09:53:16 (11.2 MB/s) - ‘/content/drive/My Drive/data/cat/48900243278_05e838356e.jpg’ saved [42245]\n",
            "\n",
            "--2025-03-21 09:53:16--  https://i.pinimg.com/originals/1a/b2/c1/1ab2c13bc2e893d326015c8d9af7e4d8.jpg\n",
            "Connecting to i.pinimg.com (i.pinimg.com)|151.101.0.84|:443... connected.\n",
            "HTTP request sent, awaiting response... 200 OK\n",
            "Length: 135982 (133K) [image/jpeg]\n",
            "Saving to: ‘/content/drive/My Drive/data/cat/1ab2c13bc2e893d326015c8d9af7e4d8.jpg’\n",
            "\n",
            "1ab2c13bc2e893d3260 100%[===================>] 132.79K  --.-KB/s    in 0.009s  \n",
            "\n",
            "2025-03-21 09:53:16 (14.5 MB/s) - ‘/content/drive/My Drive/data/cat/1ab2c13bc2e893d326015c8d9af7e4d8.jpg’ saved [135982/135982]\n",
            "\n",
            "--2025-03-21 09:53:16--  https://www.oodlelife.com/wp-content/uploads/2021/07/doberman-guard-dog.jpg\n",
            "Resolving www.oodlelife.com (www.oodlelife.com)... 104.26.0.147, 104.26.1.147, 172.67.74.64, ...\n",
            "Connecting to www.oodlelife.com (www.oodlelife.com)|104.26.0.147|:443... connected.\n",
            "HTTP request sent, awaiting response... 200 OK\n",
            "Length: 32912 (32K) [image/jpeg]\n",
            "Saving to: ‘/content/drive/My Drive/data/cat/doberman-guard-dog.jpg’\n",
            "\n",
            "doberman-guard-dog. 100%[===================>]  32.14K  --.-KB/s    in 0.005s  \n",
            "\n",
            "2025-03-21 09:53:17 (6.18 MB/s) - ‘/content/drive/My Drive/data/cat/doberman-guard-dog.jpg’ saved [32912/32912]\n",
            "\n",
            "--2025-03-21 09:53:17--  https://media.npr.org/assets/img/2023/11/23/nup_202950_01524_custom-2a977ee58e30c4afdc3b9bbd2bdd5af679d082bb.jpg\n",
            "Resolving media.npr.org (media.npr.org)... 104.110.191.28, 104.110.191.13, 2a02:26f0:1180:36::210:6a84, ...\n",
            "Connecting to media.npr.org (media.npr.org)|104.110.191.28|:443... connected.\n",
            "HTTP request sent, awaiting response... 200 OK\n",
            "Length: 126087 (123K) [image/jpeg]\n",
            "Saving to: ‘/content/drive/My Drive/data/cat/nup_202950_01524_custom-2a977ee58e30c4afdc3b9bbd2bdd5af679d082bb.jpg’\n",
            "\n",
            "nup_202950_01524_cu 100%[===================>] 123.13K  --.-KB/s    in 0.01s   \n",
            "\n",
            "2025-03-21 09:53:17 (9.12 MB/s) - ‘/content/drive/My Drive/data/cat/nup_202950_01524_custom-2a977ee58e30c4afdc3b9bbd2bdd5af679d082bb.jpg’ saved [126087/126087]\n",
            "\n",
            "--2025-03-21 09:53:17--  https://1.bp.blogspot.com/-nc-Q14NsXOE/Xp2WLTh68kI/AAAAAAAAE20/l-xXDsxo-88Ys29yoW_ZQ1kfyLsYXOl4ACLcBGAsYHQ/s400/ruyada-kopek-gormek-ve-anlami.jpg\n",
            "Resolving 1.bp.blogspot.com (1.bp.blogspot.com)... 74.125.128.132, 2a00:1450:4013:c02::84\n",
            "Connecting to 1.bp.blogspot.com (1.bp.blogspot.com)|74.125.128.132|:443... connected.\n",
            "HTTP request sent, awaiting response... 200 OK\n",
            "Length: 22518 (22K) [image/jpeg]\n",
            "Saving to: ‘/content/drive/My Drive/data/cat/ruyada-kopek-gormek-ve-anlami.jpg’\n",
            "\n",
            "ruyada-kopek-gormek 100%[===================>]  21.99K  --.-KB/s    in 0.002s  \n",
            "\n",
            "2025-03-21 09:53:17 (11.5 MB/s) - ‘/content/drive/My Drive/data/cat/ruyada-kopek-gormek-ve-anlami.jpg’ saved [22518/22518]\n",
            "\n",
            "--2025-03-21 09:53:17--  https://live.staticflickr.com/7332/10835558164_950ef6d443_n.jpg\n",
            "Connecting to live.staticflickr.com (live.staticflickr.com)|65.9.83.84|:443... connected.\n",
            "HTTP request sent, awaiting response... 200 OK\n",
            "Length: unspecified [image/jpeg]\n",
            "Saving to: ‘/content/drive/My Drive/data/cat/10835558164_950ef6d443_n.jpg’\n",
            "\n",
            "10835558164_950ef6d     [ <=>                ]  17.96K  --.-KB/s    in 0.001s  \n",
            "\n",
            "2025-03-21 09:53:17 (20.9 MB/s) - ‘/content/drive/My Drive/data/cat/10835558164_950ef6d443_n.jpg’ saved [18391]\n",
            "\n",
            "--2025-03-21 09:53:17--  https://i.ytimg.com/vi/_-rUQoVD2X0/maxresdefault.jpg\n",
            "Resolving i.ytimg.com (i.ytimg.com)... 173.194.69.119, 173.194.79.119, 108.177.96.119, ...\n",
            "Connecting to i.ytimg.com (i.ytimg.com)|173.194.69.119|:443... connected.\n",
            "HTTP request sent, awaiting response... 200 OK\n",
            "Length: 91114 (89K) [image/jpeg]\n",
            "Saving to: ‘/content/drive/My Drive/data/cat/maxresdefault.jpg’\n",
            "\n",
            "maxresdefault.jpg   100%[===================>]  88.98K  --.-KB/s    in 0.008s  \n",
            "\n",
            "2025-03-21 09:53:17 (10.4 MB/s) - ‘/content/drive/My Drive/data/cat/maxresdefault.jpg’ saved [91114/91114]\n",
            "\n",
            "--2025-03-21 09:53:17--  https://t3.ftcdn.net/jpg/05/93/79/50/360_F_593795098_PYP7k0mqyiObx9WQOdYTsnRuv8FyTE5v.jpg\n",
            "Resolving t3.ftcdn.net (t3.ftcdn.net)... 151.101.1.91, 151.101.65.91, 151.101.129.91, ...\n",
            "Connecting to t3.ftcdn.net (t3.ftcdn.net)|151.101.1.91|:443... connected.\n",
            "HTTP request sent, awaiting response... 200 OK\n",
            "Length: 50376 (49K) [image/jpeg]\n",
            "Saving to: ‘/content/drive/My Drive/data/cat/360_F_593795098_PYP7k0mqyiObx9WQOdYTsnRuv8FyTE5v.jpg’\n",
            "\n",
            "360_F_593795098_PYP 100%[===================>]  49.20K  --.-KB/s    in 0.003s  \n",
            "\n",
            "2025-03-21 09:53:17 (16.2 MB/s) - ‘/content/drive/My Drive/data/cat/360_F_593795098_PYP7k0mqyiObx9WQOdYTsnRuv8FyTE5v.jpg’ saved [50376/50376]\n",
            "\n",
            "--2025-03-21 09:53:17--  https://s.hdnux.com/photos/01/31/42/53/23472895/3/1200x0.jpg\n",
            "Resolving s.hdnux.com (s.hdnux.com)... 151.101.0.200, 151.101.64.200, 151.101.128.200, ...\n",
            "Connecting to s.hdnux.com (s.hdnux.com)|151.101.0.200|:443... connected.\n",
            "HTTP request sent, awaiting response... 200 OK\n",
            "Length: 64644 (63K) [image/jpeg]\n",
            "Saving to: ‘/content/drive/My Drive/data/cat/1200x0.jpg’\n",
            "\n",
            "1200x0.jpg          100%[===================>]  63.13K  --.-KB/s    in 0.007s  \n",
            "\n",
            "2025-03-21 09:53:17 (9.08 MB/s) - ‘/content/drive/My Drive/data/cat/1200x0.jpg’ saved [64644/64644]\n",
            "\n",
            "--2025-03-21 09:53:17--  https://static01.nyt.com/images/2022/06/25/us/25xp-ugliestdog1/25xp-ugliestdog1-mediumSquareAt3X.jpg\n",
            "Resolving static01.nyt.com (static01.nyt.com)... 151.101.1.164, 151.101.65.164, 151.101.129.164, ...\n",
            "Connecting to static01.nyt.com (static01.nyt.com)|151.101.1.164|:443... connected.\n",
            "HTTP request sent, awaiting response... 200 OK\n",
            "Length: 370904 (362K) [image/jpeg]\n",
            "Saving to: ‘/content/drive/My Drive/data/cat/25xp-ugliestdog1-mediumSquareAt3X.jpg’\n",
            "\n",
            "25xp-ugliestdog1-me 100%[===================>] 362.21K  --.-KB/s    in 0.02s   \n",
            "\n",
            "2025-03-21 09:53:17 (15.5 MB/s) - ‘/content/drive/My Drive/data/cat/25xp-ugliestdog1-mediumSquareAt3X.jpg’ saved [370904/370904]\n",
            "\n",
            "--2025-03-21 09:53:17--  https://nypost.com/wp-content/uploads/sites/2/2022/05/zeppet-collie-costume-00.jpg?quality=75&strip=all&w=1024\n",
            "Resolving nypost.com (nypost.com)... 192.0.66.32\n",
            "Connecting to nypost.com (nypost.com)|192.0.66.32|:443... connected.\n",
            "HTTP request sent, awaiting response... 200 OK\n",
            "Length: 76978 (75K) [image/jpeg]\n",
            "Saving to: ‘/content/drive/My Drive/data/cat/zeppet-collie-costume-00.jpg?quality=75&strip=all&w=1024’\n",
            "\n",
            "zeppet-collie-costu 100%[===================>]  75.17K  --.-KB/s    in 0.009s  \n",
            "\n",
            "2025-03-21 09:53:17 (8.46 MB/s) - ‘/content/drive/My Drive/data/cat/zeppet-collie-costume-00.jpg?quality=75&strip=all&w=1024’ saved [76978/76978]\n",
            "\n",
            "--2025-03-21 09:53:17--  https://people.com/thmb/gH39taEGHoEJMDwOvQTzUCvViqk=/1500x0/filters:no_upscale():max_bytes(150000):strip_icc():focal(746x0:748x2)/Worlds-Ugliets-Dog-Contest-Rascal-0dfdd2c739364ce9b96761e8f624043b.jpg\n",
            "Resolving people.com (people.com)... 151.101.2.137, 151.101.66.137, 151.101.130.137, ...\n",
            "Connecting to people.com (people.com)|151.101.2.137|:443... connected.\n",
            "HTTP request sent, awaiting response... 200 OK\n",
            "Length: 141946 (139K) [image/jpeg]\n",
            "Saving to: ‘/content/drive/My Drive/data/cat/Worlds-Ugliets-Dog-Contest-Rascal-0dfdd2c739364ce9b96761e8f624043b.jpg’\n",
            "\n",
            "Worlds-Ugliets-Dog- 100%[===================>] 138.62K  --.-KB/s    in 0.01s   \n",
            "\n",
            "2025-03-21 09:53:17 (10.8 MB/s) - ‘/content/drive/My Drive/data/cat/Worlds-Ugliets-Dog-Contest-Rascal-0dfdd2c739364ce9b96761e8f624043b.jpg’ saved [141946/141946]\n",
            "\n",
            "--2025-03-21 09:53:17--  https://facts.net/wp-content/uploads/2023/12/15-dog-vision-facts-1702713961.jpg\n",
            "Resolving facts.net (facts.net)... 18.239.18.91, 18.239.18.121, 18.239.18.16, ...\n",
            "Connecting to facts.net (facts.net)|18.239.18.91|:443... connected.\n",
            "HTTP request sent, awaiting response... 200 OK\n",
            "Length: 50343 (49K) [image/jpeg]\n",
            "Saving to: ‘/content/drive/My Drive/data/cat/15-dog-vision-facts-1702713961.jpg’\n",
            "\n",
            "15-dog-vision-facts 100%[===================>]  49.16K  --.-KB/s    in 0.004s  \n",
            "\n",
            "2025-03-21 09:53:17 (12.9 MB/s) - ‘/content/drive/My Drive/data/cat/15-dog-vision-facts-1702713961.jpg’ saved [50343/50343]\n",
            "\n",
            "--2025-03-21 09:53:17--  https://png.pngtree.com/png-clipart/20230404/original/pngtree-sticker-puppy-dog-cartoon-illustration-png-image_9024886.png\n",
            "Resolving png.pngtree.com (png.pngtree.com)... 104.18.2.157, 104.18.3.157, 2606:4700::6812:39d, ...\n",
            "Connecting to png.pngtree.com (png.pngtree.com)|104.18.2.157|:443... connected.\n",
            "HTTP request sent, awaiting response... 200 OK\n",
            "Length: 706745 (690K) [image/png]\n",
            "Saving to: ‘/content/drive/My Drive/data/cat/pngtree-sticker-puppy-dog-cartoon-illustration-png-image_9024886.png’\n",
            "\n",
            "pngtree-sticker-pup 100%[===================>] 690.18K  --.-KB/s    in 0.02s   \n",
            "\n",
            "2025-03-21 09:53:17 (27.1 MB/s) - ‘/content/drive/My Drive/data/cat/pngtree-sticker-puppy-dog-cartoon-illustration-png-image_9024886.png’ saved [706745/706745]\n",
            "\n",
            "FINISHED --2025-03-21 09:53:17--\n",
            "Total wall clock time: 3.2s\n",
            "Downloaded: 30 files, 5.6M in 0.5s (12.2 MB/s)\n"
          ]
        }
      ]
    },
    {
      "cell_type": "markdown",
      "source": [
        "#\n",
        "В результате работы по этому разделу должен получиться датасет.\n",
        "Проверьте что все скачанные изображения открываются и удалите поврежденные файлы. Изображения необходимо разделить в папках на train и test."
      ],
      "metadata": {
        "id": "RE_p80S0f044"
      }
    },
    {
      "cell_type": "markdown",
      "source": [
        "# Fine-tuning"
      ],
      "metadata": {
        "id": "HY2l-pvrJib-"
      }
    },
    {
      "cell_type": "code",
      "source": [
        "import os\n",
        "import torch\n",
        "import torch.nn as nn\n",
        "import torch.optim as optim\n",
        "from torch.optim import lr_scheduler\n",
        "from torchvision import datasets, models, transforms\n",
        "from torch.utils.data import DataLoader\n",
        "import numpy as np\n",
        "import time\n",
        "import copy\n",
        "import matplotlib.pyplot as plt"
      ],
      "metadata": {
        "id": "-0GQ8RmPF8XZ"
      },
      "execution_count": 27,
      "outputs": []
    },
    {
      "cell_type": "code",
      "source": [
        "data_transforms = {\n",
        "    'train': transforms.Compose([\n",
        "        transforms.Resize((224, 224)),\n",
        "        transforms.RandomHorizontalFlip(),\n",
        "        transforms.ToTensor(),\n",
        "        transforms.Normalize([0.485, 0.456, 0.406], [0.229, 0.224, 0.225])\n",
        "    ]),\n",
        "    'val': transforms.Compose([\n",
        "        transforms.Resize((224, 224)),\n",
        "        transforms.ToTensor(),\n",
        "        transforms.Normalize([0.485, 0.456, 0.406], [0.229, 0.224, 0.225])\n",
        "    ])\n",
        "}"
      ],
      "metadata": {
        "id": "DSgcNp_hIPSN"
      },
      "execution_count": 28,
      "outputs": []
    },
    {
      "cell_type": "code",
      "source": [
        "data_dir = \"/content/drive/My Drive/data\"\n",
        "\n",
        "image_datasets = {x: datasets.ImageFolder(os.path.join(data_dir, x), data_transforms[x]) for x in ['train', 'val']}\n",
        "dataloaders = {x: DataLoader(image_datasets[x], batch_size=8, shuffle=True, num_workers=2) for x in ['train', 'val']}\n",
        "\n",
        "dataset_sizes = {x: len(image_datasets[x]) for x in ['train', 'val']}\n",
        "class_names = image_datasets['train'].classes\n",
        "\n",
        "device = torch.device(\"cuda\" if torch.cuda.is_available() else \"cpu\")"
      ],
      "metadata": {
        "id": "641LbeSOIQ1g"
      },
      "execution_count": 30,
      "outputs": []
    },
    {
      "cell_type": "code",
      "source": [
        "model_ft = models.resnet18(weights=models.ResNet18_Weights.DEFAULT)\n",
        "\n",
        "num_ftrs = model_ft.fc.in_features\n",
        "model_ft.fc = nn.Linear(num_ftrs, 2)\n",
        "\n",
        "model_ft = model_ft.to(device)\n",
        "\n",
        "criterion = nn.CrossEntropyLoss()\n",
        "optimizer = optim.SGD(model_ft.parameters(), lr=0.001, momentum=0.9)\n",
        "scheduler = lr_scheduler.StepLR(optimizer, step_size=7, gamma=0.1)"
      ],
      "metadata": {
        "id": "SaukdiJxITTV"
      },
      "execution_count": 31,
      "outputs": []
    },
    {
      "cell_type": "code",
      "source": [
        "def train_model(model, criterion, optimizer, scheduler, num_epochs=10):\n",
        "    best_model_wts = copy.deepcopy(model.state_dict())\n",
        "    best_acc = 0.0\n",
        "\n",
        "    for epoch in range(num_epochs):\n",
        "        print(f\"Epoch {epoch + 1}/{num_epochs}\")\n",
        "        print(\"-\" * 10)\n",
        "\n",
        "        for phase in ['train', 'val']:\n",
        "            if phase == 'train':\n",
        "                model.train()\n",
        "            else:\n",
        "                model.eval()\n",
        "\n",
        "            running_loss = 0.0\n",
        "            running_corrects = 0\n",
        "\n",
        "            for inputs, labels in dataloaders[phase]:\n",
        "                inputs, labels = inputs.to(device), labels.to(device)\n",
        "\n",
        "                optimizer.zero_grad()\n",
        "\n",
        "                with torch.set_grad_enabled(phase == 'train'):\n",
        "                    outputs = model(inputs)\n",
        "                    _, preds = torch.max(outputs, 1)\n",
        "                    loss = criterion(outputs, labels)\n",
        "\n",
        "                    if phase == 'train':\n",
        "                        loss.backward()\n",
        "                        optimizer.step()\n",
        "\n",
        "                running_loss += loss.item() * inputs.size(0)\n",
        "                running_corrects += torch.sum(preds == labels.data)\n",
        "\n",
        "            if phase == 'train':\n",
        "                scheduler.step()\n",
        "\n",
        "            epoch_loss = running_loss / dataset_sizes[phase]\n",
        "            epoch_acc = running_corrects.double() / dataset_sizes[phase]\n",
        "\n",
        "            print(f\"{phase} Loss: {epoch_loss:.4f} Acc: {epoch_acc:.4f}\")\n",
        "\n",
        "            if phase == 'val' and epoch_acc > best_acc:\n",
        "                best_acc = epoch_acc\n",
        "                best_model_wts = copy.deepcopy(model.state_dict())\n",
        "\n",
        "    print(f\"Лучшее валидационное качество: {best_acc:.4f}\")\n",
        "    model.load_state_dict(best_model_wts)\n",
        "    return model"
      ],
      "metadata": {
        "id": "zQbKTk4GIbr1"
      },
      "execution_count": 32,
      "outputs": []
    },
    {
      "cell_type": "code",
      "source": [
        "model_ft = train_model(model_ft, criterion, optimizer, scheduler, num_epochs=10)"
      ],
      "metadata": {
        "colab": {
          "base_uri": "https://localhost:8080/"
        },
        "id": "IeQT26xSIdqN",
        "outputId": "ffe02084-e6b9-4522-8423-e3215a586d15"
      },
      "execution_count": 33,
      "outputs": [
        {
          "output_type": "stream",
          "name": "stdout",
          "text": [
            "Epoch 1/10\n",
            "----------\n",
            "train Loss: 0.7848 Acc: 0.5135\n",
            "val Loss: 0.4761 Acc: 0.6364\n",
            "Epoch 2/10\n",
            "----------\n",
            "train Loss: 0.5335 Acc: 0.7297\n",
            "val Loss: 0.2832 Acc: 1.0000\n",
            "Epoch 3/10\n",
            "----------\n",
            "train Loss: 0.2280 Acc: 0.9730\n",
            "val Loss: 0.2041 Acc: 1.0000\n",
            "Epoch 4/10\n",
            "----------\n",
            "train Loss: 0.2577 Acc: 0.8378\n",
            "val Loss: 0.2049 Acc: 0.9091\n",
            "Epoch 5/10\n",
            "----------\n",
            "train Loss: 0.0781 Acc: 1.0000\n",
            "val Loss: 0.2175 Acc: 0.9091\n",
            "Epoch 6/10\n",
            "----------\n",
            "train Loss: 0.0911 Acc: 1.0000\n",
            "val Loss: 0.1761 Acc: 0.9091\n",
            "Epoch 7/10\n",
            "----------\n",
            "train Loss: 0.1227 Acc: 1.0000\n",
            "val Loss: 0.1577 Acc: 0.9091\n",
            "Epoch 8/10\n",
            "----------\n",
            "train Loss: 0.1108 Acc: 0.9459\n",
            "val Loss: 0.1862 Acc: 0.9091\n",
            "Epoch 9/10\n",
            "----------\n",
            "train Loss: 0.0526 Acc: 1.0000\n",
            "val Loss: 0.1921 Acc: 0.9091\n",
            "Epoch 10/10\n",
            "----------\n",
            "train Loss: 0.0582 Acc: 1.0000\n",
            "val Loss: 0.1853 Acc: 0.9091\n",
            "Лучшее валидационное качество: 1.0000\n"
          ]
        }
      ]
    },
    {
      "cell_type": "code",
      "source": [
        "def evaluate_model(model):\n",
        "    model.eval()\n",
        "    running_corrects = 0\n",
        "\n",
        "    with torch.no_grad():\n",
        "        for inputs, labels in dataloaders['val']:\n",
        "            inputs, labels = inputs.to(device), labels.to(device)\n",
        "            outputs = model(inputs)\n",
        "            _, preds = torch.max(outputs, 1)\n",
        "            running_corrects += torch.sum(preds == labels.data)\n",
        "\n",
        "    acc = running_corrects.double() / dataset_sizes['val']\n",
        "    print(f'Accuracy on validation set: {acc:.4f}')\n",
        "\n",
        "evaluate_model(model_ft)"
      ],
      "metadata": {
        "colab": {
          "base_uri": "https://localhost:8080/"
        },
        "id": "fQ-pBkSNIfTj",
        "outputId": "0820d323-39c1-40c2-9f7e-bc25242cb4e4"
      },
      "execution_count": 34,
      "outputs": [
        {
          "output_type": "stream",
          "name": "stdout",
          "text": [
            "Accuracy on validation set: 1.0000\n"
          ]
        }
      ]
    },
    {
      "cell_type": "markdown",
      "source": [
        "# Выделения признаков"
      ],
      "metadata": {
        "id": "iccfVTWSJmEf"
      }
    },
    {
      "cell_type": "code",
      "source": [
        "import os\n",
        "import torch\n",
        "import torch.nn as nn\n",
        "import torch.optim as optim\n",
        "from torch.optim import lr_scheduler\n",
        "from torchvision import datasets, models, transforms\n",
        "from torch.utils.data import DataLoader\n",
        "import copy\n",
        "\n",
        "data_transforms = {\n",
        "    'train': transforms.Compose([\n",
        "        transforms.Resize((224, 224)),\n",
        "        transforms.RandomHorizontalFlip(),\n",
        "        transforms.ToTensor(),\n",
        "        transforms.Normalize([0.485, 0.456, 0.406], [0.229, 0.224, 0.225])\n",
        "    ]),\n",
        "    'val': transforms.Compose([\n",
        "        transforms.Resize((224, 224)),\n",
        "        transforms.ToTensor(),\n",
        "        transforms.Normalize([0.485, 0.456, 0.406], [0.229, 0.224, 0.225])\n",
        "    ])\n",
        "}\n",
        "\n",
        "data_dir = \"/content/drive/My Drive/data\"\n",
        "\n",
        "image_datasets = {x: datasets.ImageFolder(os.path.join(data_dir, x), data_transforms[x]) for x in ['train', 'val']}\n",
        "dataloaders = {x: DataLoader(image_datasets[x], batch_size=8, shuffle=True, num_workers=2) for x in ['train', 'val']}\n",
        "\n",
        "dataset_sizes = {x: len(image_datasets[x]) for x in ['train', 'val']}\n",
        "class_names = image_datasets['train'].classes\n",
        "\n",
        "device = torch.device(\"cuda\" if torch.cuda.is_available() else \"cpu\")\n",
        "\n",
        "model_ft = models.resnet18(weights=models.ResNet18_Weights.DEFAULT)\n",
        "\n",
        "for param in model_ft.parameters():\n",
        "    param.requires_grad = False\n",
        "\n",
        "num_ftrs = model_ft.fc.in_features\n",
        "model_ft.fc = nn.Linear(num_ftrs, 2)\n",
        "\n",
        "model_ft = model_ft.to(device)\n",
        "\n",
        "criterion = nn.CrossEntropyLoss()\n",
        "optimizer = optim.SGD(model_ft.fc.parameters(), lr=0.001, momentum=0.9)\n",
        "scheduler = lr_scheduler.StepLR(optimizer, step_size=7, gamma=0.1)\n",
        "\n",
        "def train_model(model, criterion, optimizer, scheduler, num_epochs=10):\n",
        "    best_model_wts = copy.deepcopy(model.state_dict())\n",
        "    best_acc = 0.0\n",
        "\n",
        "    for epoch in range(num_epochs):\n",
        "        print(f\"Epoch {epoch + 1}/{num_epochs}\")\n",
        "        print(\"-\" * 10)\n",
        "\n",
        "        for phase in ['train', 'val']:\n",
        "            if phase == 'train':\n",
        "                model.train()\n",
        "            else:\n",
        "                model.eval()\n",
        "\n",
        "            running_loss = 0.0\n",
        "            running_corrects = 0\n",
        "\n",
        "            for inputs, labels in dataloaders[phase]:\n",
        "                inputs, labels = inputs.to(device), labels.to(device)\n",
        "\n",
        "                optimizer.zero_grad()\n",
        "\n",
        "                with torch.set_grad_enabled(phase == 'train'):\n",
        "                    outputs = model(inputs)\n",
        "                    _, preds = torch.max(outputs, 1)\n",
        "                    loss = criterion(outputs, labels)\n",
        "\n",
        "                    if phase == 'train':\n",
        "                        loss.backward()\n",
        "                        optimizer.step()\n",
        "\n",
        "                running_loss += loss.item() * inputs.size(0)\n",
        "                running_corrects += torch.sum(preds == labels.data)\n",
        "\n",
        "            if phase == 'train':\n",
        "                scheduler.step()\n",
        "\n",
        "            epoch_loss = running_loss / dataset_sizes[phase]\n",
        "            epoch_acc = running_corrects.double() / dataset_sizes[phase]\n",
        "\n",
        "            print(f\"{phase} Loss: {epoch_loss:.4f} Acc: {epoch_acc:.4f}\")\n",
        "\n",
        "            if phase == 'val' and epoch_acc > best_acc:\n",
        "                best_acc = epoch_acc\n",
        "                best_model_wts = copy.deepcopy(model.state_dict())\n",
        "\n",
        "    print(f\"Лучшее валидационное качество: {best_acc:.4f}\")\n",
        "    model.load_state_dict(best_model_wts)\n",
        "    return model\n",
        "\n",
        "model_ft = train_model(model_ft, criterion, optimizer, scheduler, num_epochs=10)\n",
        "\n",
        "def evaluate_model(model):\n",
        "    model.eval()\n",
        "    running_corrects = 0\n",
        "\n",
        "    with torch.no_grad():\n",
        "        for inputs, labels in dataloaders['val']:\n",
        "            inputs, labels = inputs.to(device), labels.to(device)\n",
        "            outputs = model(inputs)\n",
        "            _, preds = torch.max(outputs, 1)\n",
        "            running_corrects += torch.sum(preds == labels.data)\n",
        "\n",
        "    acc = running_corrects.double() / dataset_sizes['val']\n",
        "    print(f'Accuracy on validation set: {acc:.4f}')\n",
        "\n",
        "evaluate_model(model_ft)"
      ],
      "metadata": {
        "colab": {
          "base_uri": "https://localhost:8080/"
        },
        "id": "iTGNL4C1Ih_V",
        "outputId": "7832b2dd-d1f2-4b0e-9f84-4e7d3f8ab06d"
      },
      "execution_count": 35,
      "outputs": [
        {
          "output_type": "stream",
          "name": "stdout",
          "text": [
            "Epoch 1/10\n",
            "----------\n",
            "train Loss: 0.7944 Acc: 0.5676\n",
            "val Loss: 0.5966 Acc: 0.7273\n",
            "Epoch 2/10\n",
            "----------\n",
            "train Loss: 0.6523 Acc: 0.5405\n",
            "val Loss: 0.4318 Acc: 0.9091\n",
            "Epoch 3/10\n",
            "----------\n",
            "train Loss: 0.4596 Acc: 0.7838\n",
            "val Loss: 0.4144 Acc: 0.8182\n",
            "Epoch 4/10\n",
            "----------\n",
            "train Loss: 0.2890 Acc: 0.9189\n",
            "val Loss: 0.2858 Acc: 0.9091\n",
            "Epoch 5/10\n",
            "----------\n",
            "train Loss: 0.2116 Acc: 0.9730\n",
            "val Loss: 0.2543 Acc: 0.9091\n",
            "Epoch 6/10\n",
            "----------\n",
            "train Loss: 0.1987 Acc: 0.9459\n",
            "val Loss: 0.2409 Acc: 0.9091\n",
            "Epoch 7/10\n",
            "----------\n",
            "train Loss: 0.1423 Acc: 1.0000\n",
            "val Loss: 0.2498 Acc: 0.9091\n",
            "Epoch 8/10\n",
            "----------\n",
            "train Loss: 0.1287 Acc: 1.0000\n",
            "val Loss: 0.2591 Acc: 0.9091\n",
            "Epoch 9/10\n",
            "----------\n",
            "train Loss: 0.1272 Acc: 1.0000\n",
            "val Loss: 0.2551 Acc: 0.9091\n",
            "Epoch 10/10\n",
            "----------\n",
            "train Loss: 0.1935 Acc: 0.9189\n",
            "val Loss: 0.2808 Acc: 0.9091\n",
            "Лучшее валидационное качество: 0.9091\n",
            "Accuracy on validation set: 0.9091\n"
          ]
        }
      ]
    },
    {
      "cell_type": "code",
      "source": [],
      "metadata": {
        "id": "yUtsPD_GJvHO"
      },
      "execution_count": null,
      "outputs": []
    }
  ],
  "metadata": {
    "colab": {
      "provenance": [],
      "gpuType": "T4"
    },
    "kernelspec": {
      "display_name": "Python 3",
      "name": "python3"
    },
    "language_info": {
      "codemirror_mode": {
        "name": "ipython",
        "version": 3
      },
      "file_extension": ".py",
      "mimetype": "text/x-python",
      "name": "python",
      "nbconvert_exporter": "python",
      "pygments_lexer": "ipython3",
      "version": "3.10.2"
    },
    "orig_nbformat": 4,
    "vscode": {
      "interpreter": {
        "hash": "99ca3cc4135effd912ee8a920963f7ef1d1ced99b3c815bf7084eb301160236c"
      }
    },
    "accelerator": "GPU"
  },
  "nbformat": 4,
  "nbformat_minor": 0
}