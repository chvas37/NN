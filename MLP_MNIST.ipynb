{
  "cells": [
    {
      "cell_type": "markdown",
      "metadata": {
        "id": "RXSVCIhz_bJ2"
      },
      "source": [
        "# Лабораторная работа №1\n",
        "\n",
        "**Многослойный перцептрон**\n",
        "\n"
      ]
    },
    {
      "cell_type": "markdown",
      "metadata": {
        "id": "Gz2fizZEEE8J"
      },
      "source": [
        "В PyTorch изучаемые параметры (т. е. веса и смещения) модели содержатся в параметрах torch.nn.Module модели (доступ к которым осуществляется с помощью ).\n",
        "State_dict — это просто объект словаря Python, который сопоставляет каждый слой со своим тензором параметров .\n",
        "Только слои с обучаемыми параметрами (сверточные слои, линейные слои и т. д.) и зарегистрированными буферами (running_mean пакета Batchnorm) имеют записи в state_dict модели . Объекты оптимизатора ( ) также имеют state_dict , который содержит информацию о состоянии оптимизатора, а также об используемых гиперпараметрах.model.parameters()torch.optim\n",
        "\n",
        "Поскольку объекты state_dict представляют собой словари Python, их можно легко сохранять, обновлять, изменять и восстанавливать."
      ]
    },
    {
      "cell_type": "code",
      "execution_count": null,
      "metadata": {
        "id": "6hjbtVKyE3fB"
      },
      "outputs": [],
      "source": [
        "import torch\n",
        "import torch.nn.functional as F\n",
        "import torch.nn as nn\n",
        "from torchvision import datasets\n",
        "from torchvision.transforms import ToTensor\n",
        "from torch.optim import SGD\n",
        "import matplotlib.pyplot as plt\n",
        "import numpy as np"
      ]
    },
    {
      "cell_type": "code",
      "execution_count": null,
      "metadata": {
        "colab": {
          "base_uri": "https://localhost:8080/"
        },
        "id": "A8Skv2ksEW0a",
        "outputId": "0ea1a52b-988c-4879-96e6-5066f06b89c5"
      },
      "outputs": [
        {
          "output_type": "stream",
          "name": "stdout",
          "text": [
            "Вывод словаря модели:\n",
            "conv1.weight \t torch.Size([6, 3, 5, 5])\n",
            "conv1.bias \t torch.Size([6])\n",
            "conv2.weight \t torch.Size([16, 6, 5, 5])\n",
            "conv2.bias \t torch.Size([16])\n",
            "fc1.weight \t torch.Size([120, 400])\n",
            "fc1.bias \t torch.Size([120])\n",
            "fc2.weight \t torch.Size([84, 120])\n",
            "fc2.bias \t torch.Size([84])\n",
            "fc3.weight \t torch.Size([10, 84])\n",
            "fc3.bias \t torch.Size([10])\n",
            "Optimizer's state_dict:\n",
            "state \t {}\n",
            "param_groups \t [{'lr': 0.01, 'momentum': 0, 'dampening': 0, 'weight_decay': 0, 'nesterov': False, 'maximize': False, 'foreach': None, 'differentiable': False, 'fused': None, 'params': [0, 1, 2, 3, 4, 5, 6, 7, 8, 9]}]\n"
          ]
        }
      ],
      "source": [
        "class TheModelClass(nn.Module):\n",
        "    def __init__(self):\n",
        "        super(TheModelClass, self).__init__()\n",
        "        self.conv1 = nn.Conv2d(3, 6, 5)\n",
        "        self.pool = nn.MaxPool2d(2, 2)\n",
        "        self.conv2 = nn.Conv2d(6, 16, 5)\n",
        "        self.fc1 = nn.Linear(16 * 5 * 5, 120)\n",
        "        self.fc2 = nn.Linear(120, 84)\n",
        "        self.fc3 = nn.Linear(84, 10)\n",
        "\n",
        "    def forward(self, x):\n",
        "        x = self.pool(F.relu(self.conv1(x)))\n",
        "        x = self.pool(F.relu(self.conv2(x)))\n",
        "        x = x.view(-1, 16 * 5 * 5)\n",
        "        x = F.relu(self.fc1(x))\n",
        "        x = F.relu(self.fc2(x))\n",
        "        x = self.fc3(x)\n",
        "        return x\n",
        "\n",
        "# Инициализация модели\n",
        "model = TheModelClass()\n",
        "\n",
        "# инициализация оптимизатора\n",
        "optimizer = SGD(model.parameters(), lr=0.01)\n",
        "\n",
        "# Вывод словаря модели\n",
        "print(\"Вывод словаря модели:\")\n",
        "for param_tensor in model.state_dict():\n",
        "    print(param_tensor, \"\\t\", model.state_dict()[param_tensor].size())\n",
        "\n",
        "# Вывод словаря оптимизатора\n",
        "print(\"Optimizer's state_dict:\")\n",
        "for var_name in optimizer.state_dict():\n",
        "    print(var_name, \"\\t\", optimizer.state_dict()[var_name])"
      ]
    },
    {
      "cell_type": "markdown",
      "metadata": {
        "id": "pBidNdYlF2cu"
      },
      "source": [
        "Сохранение и загрузка модели для вывода\n",
        "\n",
        "torch.save(model.state_dict(), PATH)"
      ]
    },
    {
      "cell_type": "markdown",
      "metadata": {
        "id": "gKUCdApxKqpV"
      },
      "source": [
        "## Чтение данных и dataset\n",
        "\n",
        "Из встроенных датасетов torchvision загрузите тестовую и обучающую выборки из MNIST, указав преобразование для изображений используя ToTensor()."
      ]
    },
    {
      "cell_type": "code",
      "execution_count": null,
      "metadata": {
        "id": "UBl3CId8AQfm"
      },
      "outputs": [],
      "source": [
        "import torch\n",
        "import torch.nn.functional as F\n",
        "from torchvision import datasets\n",
        "from torchvision.transforms import ToTensor\n",
        "import matplotlib.pyplot as plt\n",
        "import numpy as np\n",
        "\n",
        "# Настройки для графиков\n",
        "%matplotlib inline\n",
        "plt.rcParams['image.interpolation'] = 'nearest'\n",
        "plt.rcParams['image.cmap'] = 'gray'"
      ]
    },
    {
      "cell_type": "markdown",
      "metadata": {
        "id": "D_p302aCAeCd"
      },
      "source": [
        "## Загрузка данных\n",
        "\n",
        "Из встроенных датасетов torchvision загрузите тестовую и обучающую выборки из MNIST, указав приобразование для изображений используя ToTensor().\n",
        "\n",
        "https://pytorch.org/vision/main/generated/torchvision.datasets.EMNIST.html"
      ]
    },
    {
      "cell_type": "code",
      "execution_count": null,
      "metadata": {
        "id": "xXIylPhVKy22"
      },
      "outputs": [],
      "source": [
        "train_set = datasets.MNIST(\n",
        "    root=\"data\",\n",
        "    train=True,\n",
        "    download=True,\n",
        "    transform=ToTensor()\n",
        ")"
      ]
    },
    {
      "cell_type": "code",
      "execution_count": null,
      "metadata": {
        "id": "_4xVF9NlVnTA"
      },
      "outputs": [],
      "source": [
        "test_set = datasets.MNIST(\n",
        "    root=\"data\",\n",
        "    train=False,\n",
        "    download=True,\n",
        "    transform=ToTensor()\n",
        ")"
      ]
    },
    {
      "cell_type": "code",
      "execution_count": null,
      "metadata": {
        "colab": {
          "base_uri": "https://localhost:8080/"
        },
        "id": "uFx_fOFRVnTA",
        "outputId": "5df92c67-603f-4366-fe1d-d831f831a9d7"
      },
      "outputs": [
        {
          "output_type": "execute_result",
          "data": {
            "text/plain": [
              "Dataset MNIST\n",
              "    Number of datapoints: 10000\n",
              "    Root location: data\n",
              "    Split: Test\n",
              "    StandardTransform\n",
              "Transform: ToTensor()"
            ]
          },
          "metadata": {},
          "execution_count": 7
        }
      ],
      "source": [
        "test_set"
      ]
    },
    {
      "cell_type": "markdown",
      "metadata": {
        "id": "PXrw-DolX5I4"
      },
      "source": [
        "Выведите информацию о количестве данных в обеих выборках, размерностях изображений, количестве классов и сами метки классов.\n",
        "\n",
        "Функция dir() в python возвращает список допустимых атрибутов объекта, что может вам подсказать как получить часть информации о датасете.\n",
        "Датасеты позволяют получить общее количество объектов с помощью функции `len`, также - объект с классом по индексу. В атрибуте `classes` хранятся ярлыки классов."
      ]
    },
    {
      "cell_type": "code",
      "execution_count": null,
      "metadata": {
        "colab": {
          "base_uri": "https://localhost:8080/"
        },
        "id": "hmtxehqAVnTA",
        "outputId": "49f7ecbf-01d4-46dc-8790-c1a70ffa5225"
      },
      "outputs": [
        {
          "output_type": "execute_result",
          "data": {
            "text/plain": [
              "torch.Size([60000, 28, 28])"
            ]
          },
          "metadata": {},
          "execution_count": 8
        }
      ],
      "source": [
        "train_set.data.shape"
      ]
    },
    {
      "cell_type": "code",
      "execution_count": null,
      "metadata": {
        "colab": {
          "base_uri": "https://localhost:8080/"
        },
        "id": "mMDp5mMiVnTB",
        "outputId": "f0707c7d-4062-46ce-d697-6e99a7be6724"
      },
      "outputs": [
        {
          "output_type": "execute_result",
          "data": {
            "text/plain": [
              "['__add__',\n",
              " '__annotations__',\n",
              " '__class__',\n",
              " '__class_getitem__',\n",
              " '__delattr__',\n",
              " '__dict__',\n",
              " '__dir__',\n",
              " '__doc__',\n",
              " '__eq__',\n",
              " '__format__',\n",
              " '__ge__',\n",
              " '__getattribute__',\n",
              " '__getitem__',\n",
              " '__getstate__',\n",
              " '__gt__',\n",
              " '__hash__',\n",
              " '__init__',\n",
              " '__init_subclass__',\n",
              " '__le__',\n",
              " '__len__',\n",
              " '__lt__',\n",
              " '__module__',\n",
              " '__ne__',\n",
              " '__new__',\n",
              " '__orig_bases__',\n",
              " '__parameters__',\n",
              " '__reduce__',\n",
              " '__reduce_ex__',\n",
              " '__repr__',\n",
              " '__setattr__',\n",
              " '__sizeof__',\n",
              " '__slots__',\n",
              " '__str__',\n",
              " '__subclasshook__',\n",
              " '__weakref__',\n",
              " '_check_exists',\n",
              " '_check_legacy_exist',\n",
              " '_format_transform_repr',\n",
              " '_is_protocol',\n",
              " '_load_data',\n",
              " '_load_legacy_data',\n",
              " '_repr_indent',\n",
              " 'class_to_idx',\n",
              " 'classes',\n",
              " 'data',\n",
              " 'download',\n",
              " 'extra_repr',\n",
              " 'mirrors',\n",
              " 'processed_folder',\n",
              " 'raw_folder',\n",
              " 'resources',\n",
              " 'root',\n",
              " 'target_transform',\n",
              " 'targets',\n",
              " 'test_data',\n",
              " 'test_file',\n",
              " 'test_labels',\n",
              " 'train',\n",
              " 'train_data',\n",
              " 'train_labels',\n",
              " 'training_file',\n",
              " 'transform',\n",
              " 'transforms']"
            ]
          },
          "metadata": {},
          "execution_count": 9
        }
      ],
      "source": [
        "dir(train_set)"
      ]
    },
    {
      "cell_type": "code",
      "execution_count": null,
      "metadata": {
        "id": "jPyS_M2MQIkp",
        "colab": {
          "base_uri": "https://localhost:8080/"
        },
        "outputId": "074d59bf-4da5-4001-8653-4381587de975"
      },
      "outputs": [
        {
          "output_type": "stream",
          "name": "stdout",
          "text": [
            "60000 10000 torch.Size([60000, 28, 28]) 10 ['0 - zero', '1 - one', '2 - two', '3 - three', '4 - four', '5 - five', '6 - six', '7 - seven', '8 - eight', '9 - nine']\n"
          ]
        }
      ],
      "source": [
        "train_samples_len = len(train_set)\n",
        "test_samples_len = len(test_set)\n",
        "image_shape = train_set.data.shape\n",
        "classes_len = len(train_set.classes)\n",
        "classes_labels = train_set.classes\n",
        "\n",
        "print(train_samples_len, test_samples_len, image_shape, classes_len, classes_labels)"
      ]
    },
    {
      "cell_type": "markdown",
      "metadata": {
        "id": "gp22upbILX-G"
      },
      "source": [
        "Вывод 9 экземпляров"
      ]
    },
    {
      "cell_type": "code",
      "execution_count": null,
      "metadata": {
        "id": "Mtlfw1fuLb56",
        "colab": {
          "base_uri": "https://localhost:8080/",
          "height": 675
        },
        "outputId": "34e3a8ff-5645-4d63-fcb8-f57b187b4d27"
      },
      "outputs": [
        {
          "output_type": "display_data",
          "data": {
            "text/plain": [
              "<Figure size 800x800 with 9 Axes>"
            ],
            "image/png": "[encoded data removed]"
          },
          "metadata": {}
        }
      ],
      "source": [
        "labels_map = dict(zip(range(len(train_set.classes)), train_set.classes))\n",
        "figure = plt.figure(figsize=(8, 8))\n",
        "cols, rows = 3, 3\n",
        "for i in range(1, cols * rows + 1):\n",
        "    sample_idx = torch.randint(len(train_set), size=(1,)).item()\n",
        "    img, label = train_set[sample_idx]\n",
        "    figure.add_subplot(rows, cols, i)\n",
        "    plt.title(labels_map[label])\n",
        "    plt.axis(\"off\")\n",
        "    plt.imshow(img.squeeze(), cmap=\"gray\")\n",
        "plt.show()\n"
      ]
    },
    {
      "cell_type": "markdown",
      "metadata": {
        "id": "7yoIxKt9KzNA"
      },
      "source": [
        "## Создание dataloader\n",
        "\n",
        "Данные при обучении модели редко передаются по одному образцу или все разом, обычно образцы объединяются в пакеты (batches) и уже они передаются на вход модели.\n",
        "\n",
        "Размер пакета (batch size) выбирается как $2^n$ (16, 32, 64, 128) .\n",
        "\n",
        "Загрузчики данных будут использоваться при обучении и тестировании модели. Чтобы между эпохами модель на обучалась на одинаковых пакетах их перемешивают (shuffle)."
      ]
    },
    {
      "cell_type": "code",
      "execution_count": null,
      "metadata": {
        "id": "mkWHD_HlK2oX"
      },
      "outputs": [],
      "source": [
        "from torch.utils.data import DataLoader"
      ]
    },
    {
      "cell_type": "code",
      "execution_count": null,
      "metadata": {
        "id": "b33-Y41eQtEW"
      },
      "outputs": [],
      "source": [
        "train_loader = DataLoader(train_set, 32, shuffle=True)\n",
        "test_loader = DataLoader(test_set, 32, shuffle=False)"
      ]
    },
    {
      "cell_type": "markdown",
      "metadata": {
        "id": "Arv3rg8iK4q1"
      },
      "source": [
        "## Создание модели\n",
        "В этой работе будеут использованы контейнеры pytorch для построения нейронной сети, например `nn.Sequential` или `nn.Module`.\n",
        "\n",
        "В этой работе, используя функции из модуля `torch.nn.functional` `linear` и `relu`, необходимо собрать цепочку вычислений для получения выходных значений.\n",
        "При инициализации MLP необходимо создать несколько линейных слоев и использовать функцию активации (например ReLU), которые будут использоваться при прямом проходе в модели. Перед входным слоем необходимо использовать для изображений `.flatten()'.\n",
        "\n",
        "- Линейный слой `nn.Linear`.\n",
        "- Функция активации `nn.ReLU`"
      ]
    },
    {
      "cell_type": "code",
      "execution_count": null,
      "metadata": {
        "id": "xCsoBNmjK3xP"
      },
      "outputs": [],
      "source": [
        "import torch.nn as nn"
      ]
    },
    {
      "cell_type": "code",
      "execution_count": null,
      "metadata": {
        "id": "5mZ6znoKRGCF"
      },
      "outputs": [],
      "source": [
        "import torch\n",
        "import torch.nn as nn\n",
        "import torch.nn.functional as F\n",
        "\n",
        "class ComplexMLP(nn.Module):\n",
        "    def __init__(self):\n",
        "        super().__init__()\n",
        "        self.conv1 = nn.Conv2d(in_channels=1, out_channels=32, kernel_size=3, stride=1, padding=1)\n",
        "        self.conv2 = nn.Conv2d(in_channels=32, out_channels=64, kernel_size=3, stride=1, padding=1)\n",
        "        self.conv3 = nn.Conv2d(in_channels=64, out_channels=128, kernel_size=3, stride=1, padding=1)\n",
        "\n",
        "        self.pool = nn.MaxPool2d(kernel_size=2, stride=2)\n",
        "\n",
        "        self.fc1 = nn.Linear(128 * 3 * 3, 512)\n",
        "        self.fc2 = nn.Linear(512, 256)\n",
        "        self.fc3 = nn.Linear(256, 128)\n",
        "        self.fc4 = nn.Linear(128, 64)\n",
        "        self.fc5 = nn.Linear(64, 10)\n",
        "\n",
        "        self.dropout = nn.Dropout(p=0.5)\n",
        "\n",
        "        self.bn1 = nn.BatchNorm2d(32)\n",
        "        self.bn2 = nn.BatchNorm2d(64)\n",
        "        self.bn3 = nn.BatchNorm2d(128)\n",
        "        self.bn4 = nn.BatchNorm1d(512)\n",
        "        self.bn5 = nn.BatchNorm1d(256)\n",
        "        self.bn6 = nn.BatchNorm1d(128)\n",
        "        self.bn7 = nn.BatchNorm1d(64)\n",
        "\n",
        "    def forward(self, x):\n",
        "        x = self.pool(F.relu(self.bn1(self.conv1(x))))\n",
        "        x = self.pool(F.relu(self.bn2(self.conv2(x))))\n",
        "        x = self.pool(F.relu(self.bn3(self.conv3(x))))\n",
        "\n",
        "        x = x.view(-1, 128 * 3 * 3)\n",
        "\n",
        "        x = F.relu(self.bn4(self.fc1(x)))\n",
        "        x = self.dropout(x)\n",
        "        x = F.relu(self.bn5(self.fc2(x)))\n",
        "        x = self.dropout(x)\n",
        "        x = F.relu(self.bn6(self.fc3(x)))\n",
        "        x = self.dropout(x)\n",
        "        x = F.relu(self.bn7(self.fc4(x)))\n",
        "        x = self.dropout(x)\n",
        "\n",
        "        x = self.fc5(x)\n",
        "        return x"
      ]
    },
    {
      "cell_type": "markdown",
      "metadata": {
        "id": "lUkYNQM8GF6_"
      },
      "source": []
    },
    {
      "cell_type": "code",
      "execution_count": null,
      "metadata": {
        "id": "AthXSoi2Rp-L"
      },
      "outputs": [],
      "source": [
        "model = ComplexMLP()"
      ]
    },
    {
      "cell_type": "code",
      "execution_count": null,
      "metadata": {
        "id": "Ng4GlzQufHLo",
        "colab": {
          "base_uri": "https://localhost:8080/"
        },
        "outputId": "2477bf20-17e5-4c9c-8362-b1e368a3ab8c"
      },
      "outputs": [
        {
          "output_type": "stream",
          "name": "stdout",
          "text": [
            "ComplexMLP(\n",
            "  (conv1): Conv2d(1, 32, kernel_size=(3, 3), stride=(1, 1), padding=(1, 1))\n",
            "  (conv2): Conv2d(32, 64, kernel_size=(3, 3), stride=(1, 1), padding=(1, 1))\n",
            "  (conv3): Conv2d(64, 128, kernel_size=(3, 3), stride=(1, 1), padding=(1, 1))\n",
            "  (pool): MaxPool2d(kernel_size=2, stride=2, padding=0, dilation=1, ceil_mode=False)\n",
            "  (fc1): Linear(in_features=1152, out_features=512, bias=True)\n",
            "  (fc2): Linear(in_features=512, out_features=256, bias=True)\n",
            "  (fc3): Linear(in_features=256, out_features=128, bias=True)\n",
            "  (fc4): Linear(in_features=128, out_features=64, bias=True)\n",
            "  (fc5): Linear(in_features=64, out_features=10, bias=True)\n",
            "  (dropout): Dropout(p=0.5, inplace=False)\n",
            "  (bn1): BatchNorm2d(32, eps=1e-05, momentum=0.1, affine=True, track_running_stats=True)\n",
            "  (bn2): BatchNorm2d(64, eps=1e-05, momentum=0.1, affine=True, track_running_stats=True)\n",
            "  (bn3): BatchNorm2d(128, eps=1e-05, momentum=0.1, affine=True, track_running_stats=True)\n",
            "  (bn4): BatchNorm1d(512, eps=1e-05, momentum=0.1, affine=True, track_running_stats=True)\n",
            "  (bn5): BatchNorm1d(256, eps=1e-05, momentum=0.1, affine=True, track_running_stats=True)\n",
            "  (bn6): BatchNorm1d(128, eps=1e-05, momentum=0.1, affine=True, track_running_stats=True)\n",
            "  (bn7): BatchNorm1d(64, eps=1e-05, momentum=0.1, affine=True, track_running_stats=True)\n",
            ")\n"
          ]
        }
      ],
      "source": [
        "print(model)"
      ]
    },
    {
      "cell_type": "code",
      "execution_count": null,
      "metadata": {
        "id": "h66fFz8ue1Nu",
        "colab": {
          "base_uri": "https://localhost:8080/"
        },
        "outputId": "bc0c6a6c-c385-42a8-d5fd-9b7eb342bdce"
      },
      "outputs": [
        {
          "output_type": "stream",
          "name": "stdout",
          "text": [
            "torch.Size([32, 1, 3, 3])\n",
            "torch.Size([32])\n",
            "torch.Size([64, 32, 3, 3])\n",
            "torch.Size([64])\n",
            "torch.Size([128, 64, 3, 3])\n",
            "torch.Size([128])\n",
            "torch.Size([512, 1152])\n",
            "torch.Size([512])\n",
            "torch.Size([256, 512])\n",
            "torch.Size([256])\n",
            "torch.Size([128, 256])\n",
            "torch.Size([128])\n",
            "torch.Size([64, 128])\n",
            "torch.Size([64])\n",
            "torch.Size([10, 64])\n",
            "torch.Size([10])\n",
            "torch.Size([32])\n",
            "torch.Size([32])\n",
            "torch.Size([64])\n",
            "torch.Size([64])\n",
            "torch.Size([128])\n",
            "torch.Size([128])\n",
            "torch.Size([512])\n",
            "torch.Size([512])\n",
            "torch.Size([256])\n",
            "torch.Size([256])\n",
            "torch.Size([128])\n",
            "torch.Size([128])\n",
            "torch.Size([64])\n",
            "torch.Size([64])\n"
          ]
        }
      ],
      "source": [
        "for param in model.parameters(): # вывод параметров модели\n",
        "  print(param.shape)"
      ]
    },
    {
      "cell_type": "code",
      "execution_count": null,
      "metadata": {
        "id": "rleu44UqYYxl",
        "colab": {
          "base_uri": "https://localhost:8080/"
        },
        "outputId": "b423293c-02a9-41af-dda9-d094a113fa37"
      },
      "outputs": [
        {
          "output_type": "stream",
          "name": "stdout",
          "text": [
            "conv1.weight \t torch.Size([32, 1, 3, 3])\n",
            "conv1.bias \t torch.Size([32])\n",
            "conv2.weight \t torch.Size([64, 32, 3, 3])\n",
            "conv2.bias \t torch.Size([64])\n",
            "conv3.weight \t torch.Size([128, 64, 3, 3])\n",
            "conv3.bias \t torch.Size([128])\n",
            "fc1.weight \t torch.Size([512, 1152])\n",
            "fc1.bias \t torch.Size([512])\n",
            "fc2.weight \t torch.Size([256, 512])\n",
            "fc2.bias \t torch.Size([256])\n",
            "fc3.weight \t torch.Size([128, 256])\n",
            "fc3.bias \t torch.Size([128])\n",
            "fc4.weight \t torch.Size([64, 128])\n",
            "fc4.bias \t torch.Size([64])\n",
            "fc5.weight \t torch.Size([10, 64])\n",
            "fc5.bias \t torch.Size([10])\n",
            "bn1.weight \t torch.Size([32])\n",
            "bn1.bias \t torch.Size([32])\n",
            "bn1.running_mean \t torch.Size([32])\n",
            "bn1.running_var \t torch.Size([32])\n",
            "bn1.num_batches_tracked \t torch.Size([])\n",
            "bn2.weight \t torch.Size([64])\n",
            "bn2.bias \t torch.Size([64])\n",
            "bn2.running_mean \t torch.Size([64])\n",
            "bn2.running_var \t torch.Size([64])\n",
            "bn2.num_batches_tracked \t torch.Size([])\n",
            "bn3.weight \t torch.Size([128])\n",
            "bn3.bias \t torch.Size([128])\n",
            "bn3.running_mean \t torch.Size([128])\n",
            "bn3.running_var \t torch.Size([128])\n",
            "bn3.num_batches_tracked \t torch.Size([])\n",
            "bn4.weight \t torch.Size([512])\n",
            "bn4.bias \t torch.Size([512])\n",
            "bn4.running_mean \t torch.Size([512])\n",
            "bn4.running_var \t torch.Size([512])\n",
            "bn4.num_batches_tracked \t torch.Size([])\n",
            "bn5.weight \t torch.Size([256])\n",
            "bn5.bias \t torch.Size([256])\n",
            "bn5.running_mean \t torch.Size([256])\n",
            "bn5.running_var \t torch.Size([256])\n",
            "bn5.num_batches_tracked \t torch.Size([])\n",
            "bn6.weight \t torch.Size([128])\n",
            "bn6.bias \t torch.Size([128])\n",
            "bn6.running_mean \t torch.Size([128])\n",
            "bn6.running_var \t torch.Size([128])\n",
            "bn6.num_batches_tracked \t torch.Size([])\n",
            "bn7.weight \t torch.Size([64])\n",
            "bn7.bias \t torch.Size([64])\n",
            "bn7.running_mean \t torch.Size([64])\n",
            "bn7.running_var \t torch.Size([64])\n",
            "bn7.num_batches_tracked \t torch.Size([])\n"
          ]
        }
      ],
      "source": [
        "for param_tensor in model.state_dict():\n",
        "    print(param_tensor, \"\\t\", model.state_dict()[param_tensor].size())"
      ]
    },
    {
      "cell_type": "markdown",
      "metadata": {
        "id": "GvZyl5GJYbgs"
      },
      "source": []
    },
    {
      "cell_type": "markdown",
      "metadata": {
        "id": "vKLVRCz9e6MQ"
      },
      "source": [
        "**Сколько параметров в вашей модели?**\n",
        "\n",
        "Ваш ответ: 857506"
      ]
    },
    {
      "cell_type": "markdown",
      "metadata": {
        "id": "2GtkUPz_K7OO"
      },
      "source": [
        "## Функция потерь и оптимизатор\n",
        "\n",
        "В задаче классификации чаще всего используется функция потерь на основе перекрестной энтропии.\n",
        "\n",
        "В качестве оптимизатора для параметров модели можно выбрать стохастический градиентный спуск или Adam."
      ]
    },
    {
      "cell_type": "code",
      "execution_count": null,
      "metadata": {
        "id": "49_C7QmhTE4a"
      },
      "outputs": [],
      "source": [
        "loss_fn = nn.CrossEntropyLoss()"
      ]
    },
    {
      "cell_type": "code",
      "execution_count": null,
      "metadata": {
        "id": "Luq7PGDSK_yM"
      },
      "outputs": [],
      "source": [
        "from torch.optim import SGD\n",
        "\n",
        "LR = 0.01\n",
        "\n",
        "optimizer = SGD(model.parameters(), lr=LR)"
      ]
    },
    {
      "cell_type": "markdown",
      "metadata": {
        "id": "ScI4FVl2INE7"
      },
      "source": [
        "## Цикл обучения"
      ]
    },
    {
      "cell_type": "code",
      "execution_count": null,
      "metadata": {
        "id": "YNmm7GGbISPk",
        "colab": {
          "base_uri": "https://localhost:8080/"
        },
        "outputId": "add1b3d4-5ec5-433e-8ba6-0539ab8bca34"
      },
      "outputs": [
        {
          "output_type": "stream",
          "name": "stdout",
          "text": [
            "Эпоха №1\n",
            "Потери на обучающей выборке 0.78957\n",
            "Точность на обучающей выборке: 78.45%\n",
            "Потери на тестовой выборке 0.07104\n",
            "Точность на тестовой выборке: 98.37%\n",
            "Эпоха №2\n",
            "Потери на обучающей выборке 0.24977\n",
            "Точность на обучающей выборке: 94.37%\n",
            "Потери на тестовой выборке 0.04482\n",
            "Точность на тестовой выборке: 98.81%\n",
            "Эпоха №3\n",
            "Потери на обучающей выборке 0.18279\n",
            "Точность на обучающей выборке: 95.90%\n",
            "Потери на тестовой выборке 0.03165\n",
            "Точность на тестовой выборке: 99.07%\n",
            "Эпоха №4\n",
            "Потери на обучающей выборке 0.14894\n",
            "Точность на обучающей выборке: 96.62%\n",
            "Потери на тестовой выборке 0.03132\n",
            "Точность на тестовой выборке: 99.05%\n",
            "Эпоха №5\n",
            "Потери на обучающей выборке 0.12744\n",
            "Точность на обучающей выборке: 97.16%\n",
            "Потери на тестовой выборке 0.03365\n",
            "Точность на тестовой выборке: 99.10%\n",
            "Эпоха №6\n",
            "Потери на обучающей выборке 0.11151\n",
            "Точность на обучающей выборке: 97.47%\n",
            "Потери на тестовой выборке 0.02714\n",
            "Точность на тестовой выборке: 99.24%\n",
            "Эпоха №7\n",
            "Потери на обучающей выборке 0.09874\n",
            "Точность на обучающей выборке: 97.85%\n",
            "Потери на тестовой выборке 0.02807\n",
            "Точность на тестовой выборке: 99.28%\n",
            "Эпоха №8\n",
            "Потери на обучающей выборке 0.09878\n",
            "Точность на обучающей выборке: 97.81%\n",
            "Потери на тестовой выборке 0.02588\n",
            "Точность на тестовой выборке: 99.34%\n",
            "Эпоха №9\n",
            "Потери на обучающей выборке 0.08502\n",
            "Точность на обучающей выборке: 98.13%\n",
            "Потери на тестовой выборке 0.02406\n",
            "Точность на тестовой выборке: 99.34%\n",
            "Эпоха №10\n",
            "Потери на обучающей выборке 0.08202\n",
            "Точность на обучающей выборке: 98.29%\n",
            "Потери на тестовой выборке 0.02822\n",
            "Точность на тестовой выборке: 99.27%\n"
          ]
        }
      ],
      "source": [
        "import torch.nn.functional as F\n",
        "\n",
        "n_epochs = 10\n",
        "\n",
        "best_acc = 0\n",
        "\n",
        "for epoch in range(n_epochs):\n",
        "  train_loss = 0\n",
        "  train_correct = 0\n",
        "  test_loss = 0\n",
        "  test_correct = 0\n",
        "  print(f\"Эпоха №{epoch+1}\")\n",
        "  model.train() # переключение модели в режим обучения\n",
        "  for imgs, labels in train_loader:\n",
        "    #\n",
        "    # Классический цикл обучения\n",
        "    # 1. Обнуление градиентов с помощью метода zero_grad у оптимизатора\n",
        "    # 2. Получение вывода модели по пакету данных\n",
        "    # 3. Вычисление потерь на основе вывода модели и исходных значений\n",
        "    # 4. Вычисление градиентов для параметров\n",
        "    # 5. Обновление параметров с помощью шага \".step()\" у оптимизатора\n",
        "    # 6. Вычисление метрики\n",
        "        optimizer.zero_grad() # 1. Обнуление градиентов с помощью метода zero_grad у оптимизатора\n",
        "        outputs = model(imgs)  # 2. Получение вывода модели по пакету данных\n",
        "          # outputs = model(imgs.flatten(start_dim=1))\n",
        "        loss = loss_fn(outputs, labels)  # 3. Вычисление потерь на основе вывода модели и исходных значений\n",
        "        loss.backward()  # 4. Вычисление градиентов для параметров\n",
        "        optimizer.step()  # 5. Обновление параметров с помощью шага \".step()\" у оптимизатора\n",
        "    # 6. Вычисление метрики\n",
        "\n",
        "        train_loss += loss.item() # прибавьте потери с этой итерации\n",
        "    # метод .item() - возвращает значение этого тензора\n",
        "    # в виде стандартного числа Python.\n",
        "        train_correct += (torch.argmax(outputs, dim=1) == labels).sum().item()\n",
        "  # train_correct += torch.sum(torch.argmax(outputs, dim=1) == labels).item() # Необходимо получить сумму совпавщих значений между исходными индексами классов (labels)\n",
        "    # и индексами максимальных значений в пакетах данных.\n",
        "    # Вам пригодятся torch.sum, torch.argmax и .item()\n",
        "\n",
        "  avg_train_loss = train_loss / len(train_loader) # полученную сумму потерь необходимо разделить на количество пакетов данных len(train_loader)\n",
        "  train_acc = train_correct / len(train_set) # полученное количество правильно классифицированных изображений\n",
        "  # необходимо разделить на количество изображений в обучающей выборке\n",
        "  print(f\"Потери на обучающей выборке {avg_train_loss:.5f}\")\n",
        "  print(f\"Точность на обучающей выборке: {train_acc*100:.2f}%\")\n",
        "\n",
        "\n",
        "  model.eval() # переключение модели в режим оценивания\n",
        "  for imgs, labels in test_loader:\n",
        "    with torch.no_grad(): # работа в контексте отключенного вычисления градиентов\n",
        "      # Для оценки модели:\n",
        "      outputs = model(imgs) # 1. Получение вывода модели по пакету данных\n",
        "      loss = loss_fn(outputs, labels)# 2. Вычисление потерь на основе вывода модели и исходных значений\n",
        "      # 3. Вычисление метрики\n",
        "\n",
        "\n",
        "      test_loss += loss.item()\n",
        "      test_correct += torch.sum(torch.argmax(outputs, dim=1) == labels).item()\n",
        "\n",
        "  avg_test_loss = test_loss / len(test_loader)\n",
        "  test_acc =  test_correct / len(test_set)\n",
        "  print(f\"Потери на тестовой выборке {avg_test_loss:.5f}\")\n",
        "  print(f\"Точность на тестовой выборке: {test_acc*100:.2f}%\")\n",
        "\n",
        "  if test_acc > best_acc:\n",
        "    best_acc = test_acc\n",
        "    torch.save({\n",
        "            'epoch': epoch,\n",
        "            'model_state_dict': model.state_dict(),\n",
        "            }, \"best_model_params.pth\")"
      ]
    },
    {
      "cell_type": "markdown",
      "metadata": {
        "id": "uIpCgKmSq2kl"
      },
      "source": [
        "Для оценки модели нужно отключать вычисление градиентов `with torch.no_grad()`?**\n",
        "\n"
      ]
    },
    {
      "cell_type": "markdown",
      "metadata": {
        "id": "PHpTqJ_yIJAo"
      },
      "source": [
        "## Загрузка модели и инференс\n",
        "\n",
        "Проверка модели на цифрах.\n",
        "\n",
        "Необходимо нарисовать цифру в любом графическом редакторе (Paint, Gimp, Photoshop).\n",
        "\n",
        "Изображение должно быть черно-белое, ширина и высота 28 px, черный фон, белая цифра. Формат  png, jpg.\n",
        "\n",
        "Для загрузки изображения в Google Colab в боковой панели откройте Files (1), и выберите вариант Upload to session storage (2).\n",
        "\n",
        "Затем файл необходимо считать и подготовить перед тем, как передать в модель.\n",
        "\n"
      ]
    },
    {
      "cell_type": "code",
      "execution_count": null,
      "metadata": {
        "id": "BEvcMIyFCOUn",
        "colab": {
          "base_uri": "https://localhost:8080/",
          "height": 62
        },
        "outputId": "4b3bbed5-e71e-4bf9-aeb6-353099fef9d8"
      },
      "outputs": [
        {
          "output_type": "stream",
          "name": "stdout",
          "text": [
            "Ширина и высота (28, 28), количество каналов 1\n"
          ]
        },
        {
          "output_type": "execute_result",
          "data": {
            "text/plain": [
              "<PIL.PngImagePlugin.PngImageFile image mode=L size=28x28>"
            ],
            "image/png": "[encoded data removed]",
            "image/jpeg": "[encoded data removed]"
          },
          "metadata": {},
          "execution_count": 68
        }
      ],
      "source": [
        "from PIL import Image\n",
        "img = Image.open('1_negate (1).png')\n",
        "print(f\"Ширина и высота {img.size}, количество каналов {len(img.mode)}\")\n",
        "img"
      ]
    },
    {
      "cell_type": "code",
      "execution_count": null,
      "metadata": {
        "id": "ywx9wLJrLrVo",
        "colab": {
          "base_uri": "https://localhost:8080/"
        },
        "outputId": "26ce4b9d-eab5-4503-9421-9aefcfae4101"
      },
      "outputs": [
        {
          "output_type": "execute_result",
          "data": {
            "text/plain": [
              "torch.Size([1, 28, 28])"
            ]
          },
          "metadata": {},
          "execution_count": 69
        }
      ],
      "source": [
        "import torchvision.transforms as transforms\n",
        "# Раскомментируйте, если цветное изображение\n",
        "# transform_grayscale = transforms.Grayscale()\n",
        "# img = transform_grayscale(img)\n",
        "\n",
        "# Преобразования изображения\n",
        "transform_to_tensor = transforms.ToTensor()\n",
        "x = transform_to_tensor(img)\n",
        "\n",
        "# Выведите размерности тензора x\n",
        "x.shape"
      ]
    },
    {
      "cell_type": "markdown",
      "metadata": {
        "id": "QIFcW_g2ND1g"
      },
      "source": [
        "Модель строилась с использованием пакетов данных, которые создавали экземпляры класса DataLoader, для использования одного изображения нужно создать пакет из одного изображения с использованием  метода тензора `unsqueeze` или `unsqueeze_`."
      ]
    },
    {
      "cell_type": "code",
      "execution_count": null,
      "metadata": {
        "id": "hru4DrGZMV8Q"
      },
      "outputs": [],
      "source": [
        "x = torch.unsqueeze(x, 1)"
      ]
    },
    {
      "cell_type": "code",
      "execution_count": null,
      "metadata": {
        "id": "oZP1H5VwOMO3",
        "colab": {
          "base_uri": "https://localhost:8080/"
        },
        "outputId": "1ad588f1-304b-45db-b5cc-a1c75f3ce54a"
      },
      "outputs": [
        {
          "output_type": "stream",
          "name": "stderr",
          "text": [
            "<ipython-input-71-dbc638b35d56>:2: FutureWarning: You are using `torch.load` with `weights_only=False` (the current default value), which uses the default pickle module implicitly. It is possible to construct malicious pickle data which will execute arbitrary code during unpickling (See https://github.com/pytorch/pytorch/blob/main/SECURITY.md#untrusted-models for more details). In a future release, the default value for `weights_only` will be flipped to `True`. This limits the functions that could be executed during unpickling. Arbitrary objects will no longer be allowed to be loaded via this mode unless they are explicitly allowlisted by the user via `torch.serialization.add_safe_globals`. We recommend you start setting `weights_only=True` for any use case where you don't have full control of the loaded file. Please open an issue on GitHub for any issues related to this experimental feature.\n",
            "  best_model_params = torch.load(\"best_model_params.pth\") # Укажите путь до сохраненного файла\n"
          ]
        },
        {
          "output_type": "execute_result",
          "data": {
            "text/plain": [
              "ComplexMLP(\n",
              "  (conv1): Conv2d(1, 32, kernel_size=(3, 3), stride=(1, 1), padding=(1, 1))\n",
              "  (conv2): Conv2d(32, 64, kernel_size=(3, 3), stride=(1, 1), padding=(1, 1))\n",
              "  (conv3): Conv2d(64, 128, kernel_size=(3, 3), stride=(1, 1), padding=(1, 1))\n",
              "  (pool): MaxPool2d(kernel_size=2, stride=2, padding=0, dilation=1, ceil_mode=False)\n",
              "  (fc1): Linear(in_features=1152, out_features=512, bias=True)\n",
              "  (fc2): Linear(in_features=512, out_features=256, bias=True)\n",
              "  (fc3): Linear(in_features=256, out_features=128, bias=True)\n",
              "  (fc4): Linear(in_features=128, out_features=64, bias=True)\n",
              "  (fc5): Linear(in_features=64, out_features=10, bias=True)\n",
              "  (dropout): Dropout(p=0.5, inplace=False)\n",
              "  (bn1): BatchNorm2d(32, eps=1e-05, momentum=0.1, affine=True, track_running_stats=True)\n",
              "  (bn2): BatchNorm2d(64, eps=1e-05, momentum=0.1, affine=True, track_running_stats=True)\n",
              "  (bn3): BatchNorm2d(128, eps=1e-05, momentum=0.1, affine=True, track_running_stats=True)\n",
              "  (bn4): BatchNorm1d(512, eps=1e-05, momentum=0.1, affine=True, track_running_stats=True)\n",
              "  (bn5): BatchNorm1d(256, eps=1e-05, momentum=0.1, affine=True, track_running_stats=True)\n",
              "  (bn6): BatchNorm1d(128, eps=1e-05, momentum=0.1, affine=True, track_running_stats=True)\n",
              "  (bn7): BatchNorm1d(64, eps=1e-05, momentum=0.1, affine=True, track_running_stats=True)\n",
              ")"
            ]
          },
          "metadata": {},
          "execution_count": 71
        }
      ],
      "source": [
        "best_model = ComplexMLP()# Новый экземпляр класса модели\n",
        "best_model_params = torch.load(\"best_model_params.pth\") # Укажите путь до сохраненного файла\n",
        "state_dict = best_model_params['model_state_dict']# Из best_model_params извлеките по соответствующему ключу параметры модели\n",
        "# Для best_model используйте метод load_state_dict и передайте в него словарь с параметрами.\n",
        "# Переключите модель в режим проверки\n",
        "\n",
        "best_model.load_state_dict(state_dict)\n",
        "best_model.eval()"
      ]
    },
    {
      "cell_type": "markdown",
      "metadata": {
        "id": "aN2s_oNuQDzQ"
      },
      "source": [
        "Тестирование модели\n",
        " Передайте на вход модели подготовленный тензор. Из вывода модели получите индекс наибольшего значения (`argmax`) и по индексу получите результат из массива ярлыков классов (`test_set.classes`)."
      ]
    },
    {
      "cell_type": "code",
      "execution_count": null,
      "metadata": {
        "id": "OZbLYZvDRd5_",
        "colab": {
          "base_uri": "https://localhost:8080/"
        },
        "outputId": "d9062233-bf6b-4911-8421-d3716a34de38"
      },
      "outputs": [
        {
          "output_type": "stream",
          "name": "stdout",
          "text": [
            "Предсказанный класс: 1 - one\n"
          ]
        }
      ],
      "source": [
        "with torch.no_grad():\n",
        "    output = best_model(x)\n",
        "\n",
        "predicted_index = torch.argmax(output, dim=1).item()\n",
        "predicted_class = test_set.classes[predicted_index]\n",
        "\n",
        "print(f\"Предсказанный класс: {predicted_class}\")"
      ]
    },
    {
      "cell_type": "markdown",
      "metadata": {
        "id": "7A0E5_D4RgFU"
      },
      "source": [
        "**Правильно ли предсказала модель цифру?**\n",
        "\n",
        "Ваш ответ: Да\n",
        "\n",
        "**Лучшая точность на тестовой выборке для вашей модели.**\n",
        "\n",
        "Ваш ответ: 99.34%\n",
        "\n"
      ]
    },
    {
      "cell_type": "markdown",
      "metadata": {
        "id": "b1oOEgCxUDsp"
      },
      "source": [
        "\n",
        "## Задание 1.\n",
        "\n",
        "1. Подбор гиперпараметров\n",
        "Используя рабочий код модели и ее обучения, используйте разные варианты скорости обучения, количества параметров в скрытых слоя модели, количества эпох, размера батчей.\n",
        "2. Выведите гиперпараметры лучшей  модели.\n"
      ]
    },
    {
      "cell_type": "code",
      "execution_count": null,
      "metadata": {
        "id": "gLghoYupUn2W",
        "colab": {
          "base_uri": "https://localhost:8080/"
        },
        "outputId": "f33157a3-4eea-4e52-8bc7-d8e1db5449d5"
      },
      "outputs": [
        {
          "output_type": "stream",
          "name": "stdout",
          "text": [
            "Testing: lr=0.001, hidden_size=64, batch_size=32, epochs=2\n",
            "Validation Accuracy: 0.9515\n",
            "Testing: lr=0.001, hidden_size=64, batch_size=64, epochs=2\n",
            "Validation Accuracy: 0.9437\n",
            "Testing: lr=0.001, hidden_size=64, batch_size=128, epochs=2\n",
            "Validation Accuracy: 0.9370\n",
            "Testing: lr=0.001, hidden_size=128, batch_size=32, epochs=2\n",
            "Validation Accuracy: 0.9597\n",
            "Testing: lr=0.001, hidden_size=128, batch_size=64, epochs=2\n",
            "Validation Accuracy: 0.9602\n",
            "Testing: lr=0.001, hidden_size=128, batch_size=128, epochs=2\n",
            "Validation Accuracy: 0.9537\n",
            "Testing: lr=0.001, hidden_size=256, batch_size=32, epochs=2\n",
            "Validation Accuracy: 0.9736\n",
            "Testing: lr=0.001, hidden_size=256, batch_size=64, epochs=2\n",
            "Validation Accuracy: 0.9653\n",
            "Testing: lr=0.001, hidden_size=256, batch_size=128, epochs=2\n",
            "Validation Accuracy: 0.9650\n",
            "Testing: lr=0.01, hidden_size=64, batch_size=32, epochs=2\n",
            "Validation Accuracy: 0.9437\n",
            "Testing: lr=0.01, hidden_size=64, batch_size=64, epochs=2\n",
            "Validation Accuracy: 0.9493\n",
            "Testing: lr=0.01, hidden_size=64, batch_size=128, epochs=2\n",
            "Validation Accuracy: 0.9530\n",
            "Testing: lr=0.01, hidden_size=128, batch_size=32, epochs=2\n",
            "Validation Accuracy: 0.9547\n",
            "Testing: lr=0.01, hidden_size=128, batch_size=64, epochs=2\n",
            "Validation Accuracy: 0.9520\n",
            "Testing: lr=0.01, hidden_size=128, batch_size=128, epochs=2\n",
            "Validation Accuracy: 0.9567\n",
            "Testing: lr=0.01, hidden_size=256, batch_size=32, epochs=2\n",
            "Validation Accuracy: 0.9381\n",
            "Testing: lr=0.01, hidden_size=256, batch_size=64, epochs=2\n",
            "Validation Accuracy: 0.9517\n",
            "Testing: lr=0.01, hidden_size=256, batch_size=128, epochs=2\n",
            "Validation Accuracy: 0.9620\n",
            "Testing: lr=0.1, hidden_size=64, batch_size=32, epochs=2\n",
            "Validation Accuracy: 0.3008\n",
            "Testing: lr=0.1, hidden_size=64, batch_size=64, epochs=2\n",
            "Validation Accuracy: 0.3022\n",
            "Testing: lr=0.1, hidden_size=64, batch_size=128, epochs=2\n",
            "Validation Accuracy: 0.8034\n",
            "Testing: lr=0.1, hidden_size=128, batch_size=32, epochs=2\n",
            "Validation Accuracy: 0.1122\n",
            "Testing: lr=0.1, hidden_size=128, batch_size=64, epochs=2\n",
            "Validation Accuracy: 0.3517\n",
            "Testing: lr=0.1, hidden_size=128, batch_size=128, epochs=2\n",
            "Validation Accuracy: 0.3572\n",
            "Testing: lr=0.1, hidden_size=256, batch_size=32, epochs=2\n",
            "Validation Accuracy: 0.1123\n",
            "Testing: lr=0.1, hidden_size=256, batch_size=64, epochs=2\n",
            "Validation Accuracy: 0.3708\n",
            "Testing: lr=0.1, hidden_size=256, batch_size=128, epochs=2\n",
            "Validation Accuracy: 0.2901\n",
            "\n",
            "Best Hyperparameters:\n",
            "{'learning_rate': 0.001, 'hidden_size': 256, 'batch_size': 32, 'num_epochs': 2}\n",
            "Best Validation Accuracy: 0.9736\n"
          ]
        }
      ],
      "source": [
        "import torch\n",
        "import torch.nn as nn\n",
        "import torch.optim as optim\n",
        "from torch.utils.data import DataLoader, random_split\n",
        "\n",
        "\n",
        "class ComplexMLP(nn.Module):\n",
        "    def __init__(self):\n",
        "        super().__init__()\n",
        "        self.conv1 = nn.Conv2d(in_channels=1, out_channels=32, kernel_size=3, stride=1, padding=1)\n",
        "        self.conv2 = nn.Conv2d(in_channels=32, out_channels=64, kernel_size=3, stride=1, padding=1)\n",
        "        self.conv3 = nn.Conv2d(in_channels=64, out_channels=128, kernel_size=3, stride=1, padding=1)\n",
        "\n",
        "        self.pool = nn.MaxPool2d(kernel_size=2, stride=2)\n",
        "\n",
        "        self.fc1 = nn.Linear(128 * 3 * 3, 512)\n",
        "        self.fc2 = nn.Linear(512, 256)\n",
        "        self.fc3 = nn.Linear(256, 128)\n",
        "        self.fc4 = nn.Linear(128, 64)\n",
        "        self.fc5 = nn.Linear(64, 10)\n",
        "\n",
        "        self.dropout = nn.Dropout(p=0.5)\n",
        "\n",
        "        self.bn1 = nn.BatchNorm2d(32)\n",
        "        self.bn2 = nn.BatchNorm2d(64)\n",
        "        self.bn3 = nn.BatchNorm2d(128)\n",
        "        self.bn4 = nn.BatchNorm1d(512)\n",
        "        self.bn5 = nn.BatchNorm1d(256)\n",
        "        self.bn6 = nn.BatchNorm1d(128)\n",
        "        self.bn7 = nn.BatchNorm1d(64)\n",
        "\n",
        "    def forward(self, x):\n",
        "        x = self.pool(F.relu(self.bn1(self.conv1(x))))\n",
        "        x = self.pool(F.relu(self.bn2(self.conv2(x))))\n",
        "        x = self.pool(F.relu(self.bn3(self.conv3(x))))\n",
        "\n",
        "        x = x.view(-1, 128 * 3 * 3)\n",
        "\n",
        "        x = F.relu(self.bn4(self.fc1(x)))\n",
        "        x = self.dropout(x)\n",
        "        x = F.relu(self.bn5(self.fc2(x)))\n",
        "        x = self.dropout(x)\n",
        "        x = F.relu(self.bn6(self.fc3(x)))\n",
        "        x = self.dropout(x)\n",
        "        x = F.relu(self.bn7(self.fc4(x)))\n",
        "        x = self.dropout(x)\n",
        "\n",
        "        x = self.fc5(x)\n",
        "        return x\n",
        "\n",
        "\n",
        "def train_model(model, train_loader, val_loader, criterion, optimizer, num_epochs):\n",
        "    best_val_acc = 0.0\n",
        "    for epoch in range(num_epochs):\n",
        "        model.train()\n",
        "        for inputs, labels in train_loader:\n",
        "            optimizer.zero_grad()\n",
        "            outputs = model(inputs)\n",
        "            loss = criterion(outputs, labels)\n",
        "            loss.backward()\n",
        "            optimizer.step()\n",
        "\n",
        "        model.eval()\n",
        "        val_correct = 0\n",
        "        val_total = 0\n",
        "        with torch.no_grad():\n",
        "            for inputs, labels in val_loader:\n",
        "                outputs = model(inputs)\n",
        "                _, predicted = torch.max(outputs.data, 1)\n",
        "                val_total += labels.size(0)\n",
        "                val_correct += (predicted == labels).sum().item()\n",
        "        val_acc = val_correct / val_total\n",
        "\n",
        "        if val_acc > best_val_acc:\n",
        "            best_val_acc = val_acc\n",
        "            torch.save(model.state_dict(), \"best_model.pth\")\n",
        "\n",
        "    return best_val_acc\n",
        "\n",
        "train_size = int(0.8 * len(train_set))\n",
        "val_size = len(train_set) - train_size\n",
        "train_set, val_set = random_split(train_set, [train_size, val_size])\n",
        "\n",
        "\n",
        "learning_rates = [0.001, 0.01, 0.1]\n",
        "hidden_sizes = [64, 128, 256]\n",
        "batch_sizes = [32, 64, 128]\n",
        "num_epochs_list = 2\n",
        "\n",
        "best_hyperparams = {}\n",
        "best_accuracy = 0.0\n",
        "\n",
        "for lr in learning_rates:\n",
        "    for hidden_size in hidden_sizes:\n",
        "        for batch_size in batch_sizes:\n",
        "              print(f\"Testing: lr={lr}, hidden_size={hidden_size}, batch_size={batch_size}, epochs={2}\")\n",
        "\n",
        "              train_loader = DataLoader(train_set, batch_size=batch_size, shuffle=True)\n",
        "              val_loader = DataLoader(val_set, batch_size=batch_size, shuffle=False)\n",
        "\n",
        "              model = MLP(hidden_size)\n",
        "              criterion = nn.CrossEntropyLoss()\n",
        "              optimizer = optim.Adam(model.parameters(), lr=lr)\n",
        "\n",
        "              val_acc = train_model(model, train_loader, val_loader, criterion, optimizer, num_epochs_list)\n",
        "\n",
        "              if val_acc > best_accuracy:\n",
        "                  best_accuracy = val_acc\n",
        "                  best_hyperparams = {\n",
        "                      \"learning_rate\": lr,\n",
        "                      \"hidden_size\": hidden_size,\n",
        "                      \"batch_size\": batch_size,\n",
        "                      \"num_epochs\": num_epochs_list,\n",
        "                  }\n",
        "\n",
        "              print(f\"Validation Accuracy: {val_acc:.4f}\")\n",
        "\n",
        "print(\"\\nBest Hyperparameters:\")\n",
        "print(best_hyperparams)\n",
        "print(f\"Best Validation Accuracy: {best_accuracy:.4f}\")"
      ]
    },
    {
      "cell_type": "markdown",
      "metadata": {
        "id": "cZ5OmUPOUsyn"
      },
      "source": [
        "## Задание 2.\n",
        "\n",
        "1. Из встроенных датасетов torchvision загрузите тестовую и обучающую выборки из EMNIST часть (split) Balanced или Letters.\n",
        "2. Постройте код модели и ее обучения, используйте разные варианты скорости обучения, количества параметров в скрытых слоя модели, количества эпох, размера батчей.\n",
        "2. Выведите гиперпараметры лучшей модели.\n"
      ]
    },
    {
      "cell_type": "markdown",
      "metadata": {
        "id": "nghA7nHAVILV"
      },
      "source": []
    },
    {
      "cell_type": "code",
      "execution_count": null,
      "metadata": {
        "id": "uuOiOi11VIur",
        "colab": {
          "base_uri": "https://localhost:8080/"
        },
        "outputId": "474aeaf0-b86c-4451-f46c-24aaf5e1baaf"
      },
      "outputs": [
        {
          "output_type": "stream",
          "name": "stdout",
          "text": [
            "\n",
            "Training with LR=0.001, Hidden units=64, Batch size=32, Epochs=3\n",
            "Epoch [1/3], Loss: 1.3050\n",
            "Epoch [2/3], Loss: 0.8720\n",
            "Epoch [3/3], Loss: 0.7690\n",
            "Test Accuracy: 75.96%\n",
            "\n",
            "Training with LR=0.001, Hidden units=64, Batch size=64, Epochs=3\n",
            "Epoch [1/3], Loss: 1.3834\n",
            "Epoch [2/3], Loss: 0.9031\n",
            "Epoch [3/3], Loss: 0.7782\n",
            "Test Accuracy: 76.02%\n",
            "\n",
            "Training with LR=0.001, Hidden units=64, Batch size=128, Epochs=3\n",
            "Epoch [1/3], Loss: 1.5103\n",
            "Epoch [2/3], Loss: 0.9854\n",
            "Epoch [3/3], Loss: 0.8409\n",
            "Test Accuracy: 74.45%\n",
            "\n",
            "Training with LR=0.001, Hidden units=128, Batch size=32, Epochs=3\n",
            "Epoch [1/3], Loss: 1.0860\n",
            "Epoch [2/3], Loss: 0.6853\n",
            "Epoch [3/3], Loss: 0.6049\n",
            "Test Accuracy: 79.91%\n",
            "\n",
            "Training with LR=0.001, Hidden units=128, Batch size=64, Epochs=3\n",
            "Epoch [1/3], Loss: 1.1356\n",
            "Epoch [2/3], Loss: 0.6875\n",
            "Epoch [3/3], Loss: 0.5905\n",
            "Test Accuracy: 80.34%\n",
            "\n",
            "Training with LR=0.001, Hidden units=128, Batch size=128, Epochs=3\n",
            "Epoch [1/3], Loss: 1.3082\n",
            "Epoch [2/3], Loss: 0.7691\n",
            "Epoch [3/3], Loss: 0.6428\n",
            "Test Accuracy: 79.56%\n",
            "\n",
            "Training with LR=0.001, Hidden units=256, Batch size=32, Epochs=3\n",
            "Epoch [1/3], Loss: 0.9585\n",
            "Epoch [2/3], Loss: 0.6027\n",
            "Epoch [3/3], Loss: 0.5346\n",
            "Test Accuracy: 81.54%\n",
            "\n",
            "Training with LR=0.001, Hidden units=256, Batch size=64, Epochs=3\n",
            "Epoch [1/3], Loss: 1.0173\n",
            "Epoch [2/3], Loss: 0.6013\n",
            "Epoch [3/3], Loss: 0.5177\n",
            "Test Accuracy: 81.93%\n",
            "\n",
            "Training with LR=0.001, Hidden units=256, Batch size=128, Epochs=3\n",
            "Epoch [1/3], Loss: 1.1101\n",
            "Epoch [2/3], Loss: 0.6261\n",
            "Epoch [3/3], Loss: 0.5252\n",
            "Test Accuracy: 81.49%\n",
            "\n",
            "Training with LR=0.01, Hidden units=64, Batch size=32, Epochs=3\n",
            "Epoch [1/3], Loss: 1.7900\n",
            "Epoch [2/3], Loss: 1.5979\n",
            "Epoch [3/3], Loss: 1.5724\n",
            "Test Accuracy: 54.78%\n",
            "\n",
            "Training with LR=0.01, Hidden units=64, Batch size=64, Epochs=3\n",
            "Epoch [1/3], Loss: 1.5259\n",
            "Epoch [2/3], Loss: 1.3045\n",
            "Epoch [3/3], Loss: 1.2652\n",
            "Test Accuracy: 62.37%\n",
            "\n",
            "Training with LR=0.01, Hidden units=64, Batch size=128, Epochs=3\n",
            "Epoch [1/3], Loss: 1.3574\n",
            "Epoch [2/3], Loss: 1.0865\n",
            "Epoch [3/3], Loss: 1.0500\n",
            "Test Accuracy: 67.82%\n",
            "\n",
            "Training with LR=0.01, Hidden units=128, Batch size=32, Epochs=3\n",
            "Epoch [1/3], Loss: 1.8112\n",
            "Epoch [2/3], Loss: 1.6531\n",
            "Epoch [3/3], Loss: 1.6221\n",
            "Test Accuracy: 53.29%\n",
            "\n",
            "Training with LR=0.01, Hidden units=128, Batch size=64, Epochs=3\n",
            "Epoch [1/3], Loss: 1.5260\n",
            "Epoch [2/3], Loss: 1.3639\n",
            "Epoch [3/3], Loss: 1.3299\n",
            "Test Accuracy: 60.95%\n",
            "\n",
            "Training with LR=0.01, Hidden units=128, Batch size=128, Epochs=3\n",
            "Epoch [1/3], Loss: 1.3557\n",
            "Epoch [2/3], Loss: 1.1003\n",
            "Epoch [3/3], Loss: 1.0783\n",
            "Test Accuracy: 67.27%\n",
            "\n",
            "Training with LR=0.01, Hidden units=256, Batch size=32, Epochs=3\n",
            "Epoch [1/3], Loss: 1.9250\n",
            "Epoch [2/3], Loss: 1.6957\n",
            "Epoch [3/3], Loss: 1.6565\n",
            "Test Accuracy: 52.12%\n",
            "\n",
            "Training with LR=0.01, Hidden units=256, Batch size=64, Epochs=3\n",
            "Epoch [1/3], Loss: 1.5206\n",
            "Epoch [2/3], Loss: 1.3145\n",
            "Epoch [3/3], Loss: 1.2823\n",
            "Test Accuracy: 64.51%\n",
            "\n",
            "Training with LR=0.01, Hidden units=256, Batch size=128, Epochs=3\n",
            "Epoch [1/3], Loss: 1.3635\n",
            "Epoch [2/3], Loss: 1.0703\n",
            "Epoch [3/3], Loss: 1.0403\n",
            "Test Accuracy: 68.79%\n",
            "\n",
            "Training with LR=0.1, Hidden units=64, Batch size=32, Epochs=3\n",
            "Epoch [1/3], Loss: 3.9464\n",
            "Epoch [2/3], Loss: 3.8801\n",
            "Epoch [3/3], Loss: 3.8802\n",
            "Test Accuracy: 2.13%\n",
            "\n",
            "Training with LR=0.1, Hidden units=64, Batch size=64, Epochs=3\n",
            "Epoch [1/3], Loss: 4.0177\n",
            "Epoch [2/3], Loss: 3.8698\n",
            "Epoch [3/3], Loss: 3.8709\n",
            "Test Accuracy: 2.13%\n",
            "\n",
            "Training with LR=0.1, Hidden units=64, Batch size=128, Epochs=3\n",
            "Epoch [1/3], Loss: 3.8310\n",
            "Epoch [2/3], Loss: 3.4583\n",
            "Epoch [3/3], Loss: 3.4369\n",
            "Test Accuracy: 6.60%\n",
            "\n",
            "Training with LR=0.1, Hidden units=128, Batch size=32, Epochs=3\n",
            "Epoch [1/3], Loss: 4.1022\n",
            "Epoch [2/3], Loss: 3.8799\n",
            "Epoch [3/3], Loss: 3.8802\n",
            "Test Accuracy: 2.13%\n",
            "\n",
            "Training with LR=0.1, Hidden units=128, Batch size=64, Epochs=3\n",
            "Epoch [1/3], Loss: 4.6165\n",
            "Epoch [2/3], Loss: 3.8708\n",
            "Epoch [3/3], Loss: 3.8700\n",
            "Test Accuracy: 2.13%\n",
            "\n",
            "Training with LR=0.1, Hidden units=128, Batch size=128, Epochs=3\n",
            "Epoch [1/3], Loss: 4.7786\n",
            "Epoch [2/3], Loss: 3.8643\n",
            "Epoch [3/3], Loss: 3.8645\n",
            "Test Accuracy: 2.13%\n",
            "\n",
            "Training with LR=0.1, Hidden units=256, Batch size=32, Epochs=3\n",
            "Epoch [1/3], Loss: 4.6009\n",
            "Epoch [2/3], Loss: 3.8793\n",
            "Epoch [3/3], Loss: 3.8797\n",
            "Test Accuracy: 2.13%\n",
            "\n",
            "Training with LR=0.1, Hidden units=256, Batch size=64, Epochs=3\n",
            "Epoch [1/3], Loss: 5.4169\n",
            "Epoch [2/3], Loss: 3.8714\n",
            "Epoch [3/3], Loss: 3.8705\n",
            "Test Accuracy: 2.13%\n",
            "\n",
            "Training with LR=0.1, Hidden units=256, Batch size=128, Epochs=3\n",
            "Epoch [1/3], Loss: 6.8728\n",
            "Epoch [2/3], Loss: 3.8649\n",
            "Epoch [3/3], Loss: 3.8643\n",
            "Test Accuracy: 2.13%\n",
            "\n",
            "Best model parameters: {'learning_rate': 0.001, 'hidden_units': 256, 'batch_size': 64, 'epochs': 3}\n"
          ]
        }
      ],
      "source": [
        "import torch\n",
        "import torchvision\n",
        "import torchvision.transforms as transforms\n",
        "from torch import nn, optim\n",
        "from torch.utils.data import DataLoader\n",
        "\n",
        "\n",
        "split_type = 'balanced'\n",
        "num_classes = 47 if split_type == 'balanced' else 26\n",
        "\n",
        "\n",
        "transform = transforms.Compose([transforms.ToTensor(), transforms.Normalize((0.5,), (0.5,))])\n",
        "\n",
        "\n",
        "trainset = torchvision.datasets.EMNIST(root='./data', split=split_type, train=True, download=True, transform=transform)\n",
        "testset = torchvision.datasets.EMNIST(root='./data', split=split_type, train=False, download=True, transform=transform)\n",
        "\n",
        "\n",
        "def get_dataloaders(batch_size):\n",
        "    trainloader = DataLoader(trainset, batch_size=batch_size, shuffle=True)\n",
        "    testloader = DataLoader(testset, batch_size=batch_size, shuffle=False)\n",
        "    return trainloader, testloader\n",
        "\n",
        "\n",
        "class Net(nn.Module):\n",
        "    def __init__(self, hidden_units=128, num_classes=47):\n",
        "        super(Net, self).__init__()\n",
        "        self.fc1 = nn.Linear(28 * 28, hidden_units)\n",
        "        self.fc2 = nn.Linear(hidden_units, hidden_units)\n",
        "        self.fc3 = nn.Linear(hidden_units, num_classes)\n",
        "        self.relu = nn.ReLU()\n",
        "\n",
        "    def forward(self, x):\n",
        "        x = x.view(-1, 28 * 28)\n",
        "        x = self.relu(self.fc1(x))\n",
        "        x = self.relu(self.fc2(x))\n",
        "        x = self.fc3(x)\n",
        "        return x\n",
        "\n",
        "\n",
        "def train_model(model, criterion, optimizer, trainloader, num_epochs=3):\n",
        "    for epoch in range(num_epochs):\n",
        "        model.train()\n",
        "        running_loss = 0.0\n",
        "        for inputs, labels in trainloader:\n",
        "            optimizer.zero_grad()\n",
        "            outputs = model(inputs)\n",
        "            loss = criterion(outputs, labels)\n",
        "            loss.backward()\n",
        "            optimizer.step()\n",
        "            running_loss += loss.item()\n",
        "\n",
        "        avg_loss = running_loss / len(trainloader)\n",
        "        print(f\"Epoch [{epoch+1}/{num_epochs}], Loss: {avg_loss:.4f}\")\n",
        "\n",
        "\n",
        "def evaluate_model(model, testloader):\n",
        "    model.eval()\n",
        "    correct = 0\n",
        "    total = 0\n",
        "    with torch.no_grad():\n",
        "        for inputs, labels in testloader:\n",
        "            outputs = model(inputs)\n",
        "            _, predicted = torch.max(outputs, 1)\n",
        "            total += labels.size(0)\n",
        "            correct += (predicted == labels).sum().item()\n",
        "    accuracy = correct / total * 100\n",
        "    print(f\"Test Accuracy: {accuracy:.2f}%\")\n",
        "    return accuracy\n",
        "\n",
        "\n",
        "learning_rates = [0.001, 0.01, 0.1]\n",
        "hidden_units_list = [64, 128, 256]\n",
        "batch_sizes = [32, 64, 128]\n",
        "num_epochs = 3\n",
        "\n",
        "best_accuracy = 0\n",
        "best_params = {}\n",
        "\n",
        "\n",
        "for lr in learning_rates:\n",
        "    for hidden_units in hidden_units_list:\n",
        "        for batch_size in batch_sizes:\n",
        "            print(f\"\\nTraining with LR={lr}, Hidden units={hidden_units}, Batch size={batch_size}, Epochs={num_epochs}\")\n",
        "\n",
        "\n",
        "            model = Net(hidden_units=hidden_units, num_classes=num_classes)\n",
        "            criterion = nn.CrossEntropyLoss()\n",
        "            optimizer = optim.Adam(model.parameters(), lr=lr)\n",
        "\n",
        "            trainloader, testloader = get_dataloaders(batch_size)\n",
        "\n",
        "            train_model(model, criterion, optimizer, trainloader, num_epochs)\n",
        "\n",
        "            accuracy = evaluate_model(model, testloader)\n",
        "\n",
        "            if accuracy > best_accuracy:\n",
        "                best_accuracy = accuracy\n",
        "                best_params = {\n",
        "                    'learning_rate': lr,\n",
        "                    'hidden_units': hidden_units,\n",
        "                    'batch_size': batch_size,\n",
        "                    'epochs': num_epochs\n",
        "                }\n",
        "\n",
        "print(\"\\nBest model parameters:\", best_params)"
      ]
    },
    {
      "cell_type": "code",
      "source": [],
      "metadata": {
        "id": "YqlOsRgONcT1"
      },
      "execution_count": null,
      "outputs": []
    }
  ],
  "metadata": {
    "colab": {
      "provenance": [],
      "gpuType": "T4"
    },
    "kernelspec": {
      "display_name": "Python 3",
      "name": "python3"
    },
    "language_info": {
      "codemirror_mode": {
        "name": "ipython",
        "version": 3
      },
      "file_extension": ".py",
      "mimetype": "text/x-python",
      "name": "python",
      "nbconvert_exporter": "python",
      "pygments_lexer": "ipython3",
      "version": "3.12.4"
    },
    "accelerator": "GPU"
  },
  "nbformat": 4,
  "nbformat_minor": 0
}